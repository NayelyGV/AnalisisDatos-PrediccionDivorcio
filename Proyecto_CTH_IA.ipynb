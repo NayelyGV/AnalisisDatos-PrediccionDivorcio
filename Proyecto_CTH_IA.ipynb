{
  "cells": [
    {
      "cell_type": "markdown",
      "metadata": {
        "id": "L09Vxco2IdsP"
      },
      "source": [
        "# Data Gems 💎\n",
        "\n",
        "---\n",
        "\n",
        "\n",
        "**Presentacion:**\n",
        "https://www.canva.com/design/DAGQ7nzA9qo/DxA1WL6IjiF0-Et6qADxNQ/edit?utm_content=DAGQ7nzA9qo&utm_campaign=designshare&utm_medium=link2&utm_source=sharebutton\n",
        "\n",
        "## **Análisis de predicciones de divorcios** 💏❓  \n",
        "### **Abstact**\n",
        "\n",
        "Este dataset, titulado \"Predicción del Divorcio\", recoge datos de 150 parejas en Turquía y se basa en la Escala de Predicción del Divorcio (DPS), desarrollada como parte de la investigación realizada por Yöntem, M., Adem, K., İlhan, T., y Kılıçarslan, S. en 2019. El estudio se centra en la identificación de factores que podrían predecir el divorcio o la estabilidad matrimonial. Las parejas provienen de diversas regiones de Turquía y los datos fueron recopilados a través de entrevistas personales a parejas que ya estaban divorciadas o que permanecían felizmente casadas. Las respuestas se registraron en una escala de 5 puntos (0 = Nunca, 1 = Rara vez, 2 = Promedio, 3 = Frecuentemente, 4 = Siempre).\n",
        "\n",
        "### **Objetivo 🎯**\n",
        "El objetivo principal de este dataset es analizar los factores que contribuyen a la predicción del divorcio entre parejas. El estudio busca identificar los patrones y comportamientos que son indicativos de la probabilidad de divorcio o de un matrimonio exitoso.\n",
        "\n",
        "### **Explicación de la Abreviación de las Columnas**\n",
        "El dataset consta de 55 columnas, donde las primeras 54 columnas están representadas por los identificadores Q1, Q2, Q3, Q4, Q5, Q6, Q7, Q8, Q9, Q10, Q11, Q12, Q13, Q14, Q15, Q16, Q17, Q18, Q19, Q20, Q21, Q22, Q23, Q24, Q25, Q26, Q27, Q28, Q29, Q30, Q31, Q32, Q33, Q34, Q35, Q36, Q37, Q38, Q39, Q40, Q41, Q42, Q43, Q44, Q45, Q46, Q47, Q48, Q49, Q50, Q51, Q52, Q53, Q54 que corresponden a preguntas o afirmaciones específicas relacionadas con la dinámica de la relación de la pareja.\n",
        "\n",
        "* Q1 a Q5: Se refieren a aspectos positivos en la relación, como la capacidad de resolver conflictos, el disfrute del tiempo juntos y la armonía en la relación.\n",
        "* Q6 a Q15: Abordan la conexión emocional y los intereses compartidos entre los cónyuges, como los objetivos comunes y los valores similares.\n",
        "* Q16 a Q30: Se enfocan en el conocimiento mutuo entre los cónyuges, como saber las preferencias y preocupaciones del otro.\n",
        "* Q31 a Q41: Reflejan comportamientos negativos durante discusiones, como el uso de insultos o la agresividad.\n",
        "* Q42 a Q51: Miden la tendencia de un cónyuge a evitar discusiones o mantenerse en silencio para calmar la situación.\n",
        "* Q52 a Q54: Evaluan la tendencia de uno de los cónyuges a criticar o menospreciar al otro durante discusiones.\n",
        "* Divorce: Variable binaria que indica el estado final de la relación (0 para divorciados, 1 para casados).\n",
        "\n",
        "\n",
        "Este tipo de clasificación ayuda a los investigadores a analizar patrones específicos y desarrollar modelos predictivos basados en comportamientos y actitudes detalladas que pueden llevar al divorcio o mantener un matrimonio estable.\n",
        "\n",
        "**Descripcion de la BD**\n",
        "* Q1: Si uno de nosotros se disculpa cuando nuestra discusión se deteriora, la discusión termina.\n",
        "* Q2: Sé que podemos ignorar nuestras diferencias, incluso si las cosas se ponen difíciles a veces.\n",
        "* Q3: Cuando lo necesitamos, podemos retomar nuestras discusiones con mi cónyuge desde el principio y corregirlas.\n",
        "* Q4: Cuando discuto con mi cónyuge, contactar con él eventualmente funciona.\n",
        "* Q5: El tiempo que paso con mi esposa es especial para nosotros.\n",
        "* Q6: No tenemos tiempo en casa como pareja.\n",
        "* Q7: Somos como dos extraños que comparten el mismo ambiente en casa en lugar de una familia.\n",
        "* Q8: Disfruto de nuestras vacaciones con mi esposa.\n",
        "* Q9: Disfruto viajar con mi esposa.\n",
        "* Q10: La mayoría de nuestros objetivos son comunes con mi cónyuge.\n",
        "* Q11: Creo que algún día en el futuro, cuando mire hacia atrás, veré que mi cónyuge y yo hemos estado en armonía.\n",
        "* Q12: Mi cónyuge y yo tenemos valores similares en términos de libertad personal.\n",
        "* Q13: Mi cónyuge y yo tenemos un sentido similar del entretenimiento.\n",
        "* Q14: La mayoría de nuestros objetivos para las personas (niños, amigos, etc.) son los mismos.\n",
        "* Q15: Nuestros sueños con mi cónyuge son similares y armoniosos.\n",
        "* Q16: Somos compatibles con mi cónyuge en cuanto a lo que debería ser el amor.\n",
        "* Q17: Compartimos las mismas opiniones sobre ser felices en nuestra vida con mi cónyuge.\n",
        "* Q18: Mi cónyuge y yo tenemos ideas similares sobre cómo debería ser el matrimonio.\n",
        "* Q19: Mi cónyuge y yo tenemos ideas similares sobre cómo deberían ser los roles en el matrimonio.\n",
        "* Q20: Mi cónyuge y yo tenemos valores similares en cuanto a la confianza.\n",
        "* Q21: Sé exactamente qué le gusta a mi esposa.\n",
        "* Q22: Sé cómo mi cónyuge quiere ser cuidado cuando está enfermo/a.\n",
        "* Q23: Conozco la comida favorita de mi cónyuge.\n",
        "* Q24: Puedo decirte a qué tipo de estrés se enfrenta mi cónyuge en su vida.\n",
        "* Q25: Tengo conocimiento del mundo interior de mi cónyuge.\n",
        "* Q26: Conozco las ansiedades básicas de mi cónyuge.\n",
        "* Q27: Sé cuáles son las fuentes actuales de estrés de mi cónyuge.\n",
        "* Q28: Conozco las esperanzas y deseos de mi cónyuge.\n",
        "* Q29: Conozco muy bien a mi cónyuge.\n",
        "* Q30: Conozco a los amigos de mi cónyuge y sus relaciones sociales.\n",
        "* Q31: Me siento agresivo/a cuando discuto con mi cónyuge.\n",
        "* Q32: Cuando discuto con mi cónyuge, generalmente uso expresiones como 'siempre' o 'nunca'.\n",
        "* Q33: Puedo usar declaraciones negativas sobre la personalidad de mi cónyuge durante nuestras discusiones.\n",
        "* Q34: Puedo usar expresiones ofensivas durante nuestras discusiones.\n",
        "* Q35: Puedo insultar a mi cónyuge durante nuestras discusiones.\n",
        "* Q36: Puedo ser humillante cuando discutimos.\n",
        "* Q37: Mi discusión con mi cónyuge no es tranquila.\n",
        "* Q38: Odio la forma en que mi cónyuge abre un tema.\n",
        "* Q39: Nuestras discusiones a menudo ocurren de repente.\n",
        "* Q40: Solo estamos comenzando una discusión antes de saber qué está pasando.\n",
        "* Q41: Cuando hablo con mi cónyuge sobre algo, mi calma se rompe de repente.\n",
        "* Q42: Cuando discuto con mi cónyuge, simplemente salgo y no digo una palabra.\n",
        "* Q43: Mayormente me quedo en silencio para calmar un poco el ambiente.\n",
        "* Q44: A veces pienso que es bueno para mí salir de casa por un tiempo.\n",
        "* Q45: Prefiero quedarme en silencio que discutir con mi cónyuge.\n",
        "* Q46: Incluso si tengo razón en la discusión, me quedo en silencio para no lastimar a mi cónyuge.\n",
        "* Q47: Cuando discuto con mi cónyuge, me quedo en silencio porque tengo miedo de no poder controlar mi ira.\n",
        "* Q48: Me siento en lo correcto en nuestras discusiones.\n",
        "* Q49: No tengo nada que ver con lo que me han acusado.\n",
        "* Q50: En realidad, no soy el/la culpable de lo que me han acusado.\n",
        "* Q51: No soy el/la que está equivocado/a sobre los problemas en casa.\n",
        "* Q52: No dudaría en decirle a mi cónyuge sobre su insuficiencia.\n",
        "* Q53: Cuando discuto, le recuerdo a mi cónyuge su insuficiencia.\n",
        "* Q54: No tengo miedo de decirle a mi cónyuge sobre su incompetencia.\n",
        "* Divorce: Es la variable de salida que indica si una pareja está divorciada o no (0 = Divorciada, 1 = Casada).\n",
        "\n",
        "### **Contexto Comercial 🛒**\n",
        "En el ámbito de la terapia de pareja y la psicología, es crucial entender los factores que influyen en la estabilidad matrimonial para diseñar mejores intervenciones y programas de asesoramiento. Este dataset ofrece una oportunidad valiosa para profesionales como terapeutas de pareja, psicólogos y consultores matrimoniales para analizar datos empíricos y mejorar sus estrategias de intervención basadas en evidencias. Además, los hallazgos podrían ser útiles para empresas que desarrollan aplicaciones o plataformas digitales de bienestar emocional y asesoramiento matrimonial, ayudándoles a personalizar sus servicios y mejorar la experiencia del usuario.\n",
        "\n",
        "### **Problema Comercial 🔍**\n",
        "\n",
        "¿Qué comportamientos o actitudes (reflejados en las respuestas a Q1-Q54) se correlacionan más fuertemente con la probabilidad de que una pareja se divorcie (Divorce = 0) o permanezca casada (Divorce = 1)?\n",
        "\n",
        "\n"
      ]
    },
    {
      "cell_type": "markdown",
      "metadata": {
        "id": "CU-clJFlkLNP"
      },
      "source": [
        "## **Importacion de datos** 📥\n",
        "\n",
        "---\n",
        "\n"
      ]
    },
    {
      "cell_type": "code",
      "execution_count": null,
      "metadata": {
        "id": "aZstpFwkQS5A"
      },
      "outputs": [],
      "source": [
        "#IMPORTANDO LAS LIBRERIAS\n",
        "import csv\n",
        "import pandas as pd\n",
        "import numpy as np\n",
        "import matplotlib.pyplot as plt\n",
        "import seaborn as sns\n",
        "from sklearn.model_selection import train_test_split\n",
        "from sklearn.model_selection import GridSearchCV\n",
        "from sklearn.preprocessing import StandardScaler, MinMaxScaler\n",
        "from sklearn.metrics import accuracy_score, precision_score, recall_score, f1_score, confusion_matrix\n",
        "from sklearn.linear_model import LogisticRegression\n",
        "from sklearn.tree import DecisionTreeClassifier\n",
        "from sklearn.ensemble import RandomForestClassifier\n",
        "from sklearn.svm import SVC\n",
        "from sklearn.neighbors import KNeighborsClassifier"
      ]
    },
    {
      "cell_type": "markdown",
      "metadata": {
        "id": "Hcrnl08pm1h8"
      },
      "source": [
        "**Cargar la base de datos** 🗂️"
      ]
    },
    {
      "cell_type": "code",
      "execution_count": null,
      "metadata": {
        "id": "salsxRtkloT5"
      },
      "outputs": [],
      "source": [
        "from google.colab import files"
      ]
    },
    {
      "cell_type": "code",
      "execution_count": null,
      "metadata": {
        "colab": {
          "base_uri": "https://localhost:8080/"
        },
        "id": "nRikyjCpm8cN",
        "outputId": "2e0ad4e5-962a-4437-dceb-b01cc1aeb5e3"
      },
      "outputs": [
        {
          "name": "stdout",
          "output_type": "stream",
          "text": [
            "Mounted at /content/drive\n"
          ]
        }
      ],
      "source": [
        "from google.colab import drive\n",
        "drive.mount('/content/drive')"
      ]
    },
    {
      "cell_type": "markdown",
      "metadata": {
        "id": "8fDar6eDiwDU"
      },
      "source": [
        "Con este codigo se trae el dataset de drive"
      ]
    },
    {
      "cell_type": "code",
      "execution_count": null,
      "metadata": {
        "id": "tWLkM9-DnJh1"
      },
      "outputs": [],
      "source": [
        "file_path='/content/drive/MyDrive/DataGems🌸/MachineLearning/divorce_data.csv'\n",
        "df=pd.read_csv(file_path, encoding='latin-1') # encoding='iso-8859-1' encoding='cp1252'\n"
      ]
    },
    {
      "cell_type": "code",
      "execution_count": null,
      "metadata": {
        "colab": {
          "base_uri": "https://localhost:8080/",
          "height": 235
        },
        "id": "cAzApxyqq-vz",
        "outputId": "b68bdeea-5735-4a68-f345-b835eec59e77"
      },
      "outputs": [
        {
          "data": {
            "application/vnd.google.colaboratory.intrinsic+json": {
              "type": "dataframe",
              "variable_name": "df"
            },
            "text/html": [
              "\n",
              "  <div id=\"df-b41460f1-4d31-4653-b9ea-a079866a2129\" class=\"colab-df-container\">\n",
              "    <div>\n",
              "<style scoped>\n",
              "    .dataframe tbody tr th:only-of-type {\n",
              "        vertical-align: middle;\n",
              "    }\n",
              "\n",
              "    .dataframe tbody tr th {\n",
              "        vertical-align: top;\n",
              "    }\n",
              "\n",
              "    .dataframe thead th {\n",
              "        text-align: right;\n",
              "    }\n",
              "</style>\n",
              "<table border=\"1\" class=\"dataframe\">\n",
              "  <thead>\n",
              "    <tr style=\"text-align: right;\">\n",
              "      <th></th>\n",
              "      <th>Q1</th>\n",
              "      <th>Q2</th>\n",
              "      <th>Q3</th>\n",
              "      <th>Q4</th>\n",
              "      <th>Q5</th>\n",
              "      <th>Q6</th>\n",
              "      <th>Q7</th>\n",
              "      <th>Q8</th>\n",
              "      <th>Q9</th>\n",
              "      <th>Q10</th>\n",
              "      <th>...</th>\n",
              "      <th>Q46</th>\n",
              "      <th>Q47</th>\n",
              "      <th>Q48</th>\n",
              "      <th>Q49</th>\n",
              "      <th>Q50</th>\n",
              "      <th>Q51</th>\n",
              "      <th>Q52</th>\n",
              "      <th>Q53</th>\n",
              "      <th>Q54</th>\n",
              "      <th>Divorce</th>\n",
              "    </tr>\n",
              "  </thead>\n",
              "  <tbody>\n",
              "    <tr>\n",
              "      <th>0</th>\n",
              "      <td>2</td>\n",
              "      <td>2</td>\n",
              "      <td>4</td>\n",
              "      <td>1</td>\n",
              "      <td>0</td>\n",
              "      <td>0</td>\n",
              "      <td>0</td>\n",
              "      <td>0</td>\n",
              "      <td>0</td>\n",
              "      <td>0</td>\n",
              "      <td>...</td>\n",
              "      <td>2</td>\n",
              "      <td>1</td>\n",
              "      <td>3</td>\n",
              "      <td>3</td>\n",
              "      <td>3</td>\n",
              "      <td>2</td>\n",
              "      <td>3</td>\n",
              "      <td>2</td>\n",
              "      <td>1</td>\n",
              "      <td>1</td>\n",
              "    </tr>\n",
              "    <tr>\n",
              "      <th>1</th>\n",
              "      <td>4</td>\n",
              "      <td>4</td>\n",
              "      <td>4</td>\n",
              "      <td>4</td>\n",
              "      <td>4</td>\n",
              "      <td>0</td>\n",
              "      <td>0</td>\n",
              "      <td>4</td>\n",
              "      <td>4</td>\n",
              "      <td>4</td>\n",
              "      <td>...</td>\n",
              "      <td>2</td>\n",
              "      <td>2</td>\n",
              "      <td>3</td>\n",
              "      <td>4</td>\n",
              "      <td>4</td>\n",
              "      <td>4</td>\n",
              "      <td>4</td>\n",
              "      <td>2</td>\n",
              "      <td>2</td>\n",
              "      <td>1</td>\n",
              "    </tr>\n",
              "    <tr>\n",
              "      <th>2</th>\n",
              "      <td>2</td>\n",
              "      <td>2</td>\n",
              "      <td>2</td>\n",
              "      <td>2</td>\n",
              "      <td>1</td>\n",
              "      <td>3</td>\n",
              "      <td>2</td>\n",
              "      <td>1</td>\n",
              "      <td>1</td>\n",
              "      <td>2</td>\n",
              "      <td>...</td>\n",
              "      <td>3</td>\n",
              "      <td>2</td>\n",
              "      <td>3</td>\n",
              "      <td>1</td>\n",
              "      <td>1</td>\n",
              "      <td>1</td>\n",
              "      <td>2</td>\n",
              "      <td>2</td>\n",
              "      <td>2</td>\n",
              "      <td>1</td>\n",
              "    </tr>\n",
              "    <tr>\n",
              "      <th>3</th>\n",
              "      <td>3</td>\n",
              "      <td>2</td>\n",
              "      <td>3</td>\n",
              "      <td>2</td>\n",
              "      <td>3</td>\n",
              "      <td>3</td>\n",
              "      <td>3</td>\n",
              "      <td>3</td>\n",
              "      <td>3</td>\n",
              "      <td>3</td>\n",
              "      <td>...</td>\n",
              "      <td>2</td>\n",
              "      <td>2</td>\n",
              "      <td>3</td>\n",
              "      <td>3</td>\n",
              "      <td>3</td>\n",
              "      <td>3</td>\n",
              "      <td>2</td>\n",
              "      <td>2</td>\n",
              "      <td>2</td>\n",
              "      <td>1</td>\n",
              "    </tr>\n",
              "    <tr>\n",
              "      <th>4</th>\n",
              "      <td>2</td>\n",
              "      <td>2</td>\n",
              "      <td>1</td>\n",
              "      <td>1</td>\n",
              "      <td>1</td>\n",
              "      <td>1</td>\n",
              "      <td>0</td>\n",
              "      <td>0</td>\n",
              "      <td>0</td>\n",
              "      <td>0</td>\n",
              "      <td>...</td>\n",
              "      <td>2</td>\n",
              "      <td>1</td>\n",
              "      <td>2</td>\n",
              "      <td>3</td>\n",
              "      <td>2</td>\n",
              "      <td>2</td>\n",
              "      <td>2</td>\n",
              "      <td>1</td>\n",
              "      <td>0</td>\n",
              "      <td>1</td>\n",
              "    </tr>\n",
              "  </tbody>\n",
              "</table>\n",
              "<p>5 rows × 55 columns</p>\n",
              "</div>\n",
              "    <div class=\"colab-df-buttons\">\n",
              "\n",
              "  <div class=\"colab-df-container\">\n",
              "    <button class=\"colab-df-convert\" onclick=\"convertToInteractive('df-b41460f1-4d31-4653-b9ea-a079866a2129')\"\n",
              "            title=\"Convert this dataframe to an interactive table.\"\n",
              "            style=\"display:none;\">\n",
              "\n",
              "  <svg xmlns=\"http://www.w3.org/2000/svg\" height=\"24px\" viewBox=\"0 -960 960 960\">\n",
              "    <path d=\"M120-120v-720h720v720H120Zm60-500h600v-160H180v160Zm220 220h160v-160H400v160Zm0 220h160v-160H400v160ZM180-400h160v-160H180v160Zm440 0h160v-160H620v160ZM180-180h160v-160H180v160Zm440 0h160v-160H620v160Z\"/>\n",
              "  </svg>\n",
              "    </button>\n",
              "\n",
              "  <style>\n",
              "    .colab-df-container {\n",
              "      display:flex;\n",
              "      gap: 12px;\n",
              "    }\n",
              "\n",
              "    .colab-df-convert {\n",
              "      background-color: #E8F0FE;\n",
              "      border: none;\n",
              "      border-radius: 50%;\n",
              "      cursor: pointer;\n",
              "      display: none;\n",
              "      fill: #1967D2;\n",
              "      height: 32px;\n",
              "      padding: 0 0 0 0;\n",
              "      width: 32px;\n",
              "    }\n",
              "\n",
              "    .colab-df-convert:hover {\n",
              "      background-color: #E2EBFA;\n",
              "      box-shadow: 0px 1px 2px rgba(60, 64, 67, 0.3), 0px 1px 3px 1px rgba(60, 64, 67, 0.15);\n",
              "      fill: #174EA6;\n",
              "    }\n",
              "\n",
              "    .colab-df-buttons div {\n",
              "      margin-bottom: 4px;\n",
              "    }\n",
              "\n",
              "    [theme=dark] .colab-df-convert {\n",
              "      background-color: #3B4455;\n",
              "      fill: #D2E3FC;\n",
              "    }\n",
              "\n",
              "    [theme=dark] .colab-df-convert:hover {\n",
              "      background-color: #434B5C;\n",
              "      box-shadow: 0px 1px 3px 1px rgba(0, 0, 0, 0.15);\n",
              "      filter: drop-shadow(0px 1px 2px rgba(0, 0, 0, 0.3));\n",
              "      fill: #FFFFFF;\n",
              "    }\n",
              "  </style>\n",
              "\n",
              "    <script>\n",
              "      const buttonEl =\n",
              "        document.querySelector('#df-b41460f1-4d31-4653-b9ea-a079866a2129 button.colab-df-convert');\n",
              "      buttonEl.style.display =\n",
              "        google.colab.kernel.accessAllowed ? 'block' : 'none';\n",
              "\n",
              "      async function convertToInteractive(key) {\n",
              "        const element = document.querySelector('#df-b41460f1-4d31-4653-b9ea-a079866a2129');\n",
              "        const dataTable =\n",
              "          await google.colab.kernel.invokeFunction('convertToInteractive',\n",
              "                                                    [key], {});\n",
              "        if (!dataTable) return;\n",
              "\n",
              "        const docLinkHtml = 'Like what you see? Visit the ' +\n",
              "          '<a target=\"_blank\" href=https://colab.research.google.com/notebooks/data_table.ipynb>data table notebook</a>'\n",
              "          + ' to learn more about interactive tables.';\n",
              "        element.innerHTML = '';\n",
              "        dataTable['output_type'] = 'display_data';\n",
              "        await google.colab.output.renderOutput(dataTable, element);\n",
              "        const docLink = document.createElement('div');\n",
              "        docLink.innerHTML = docLinkHtml;\n",
              "        element.appendChild(docLink);\n",
              "      }\n",
              "    </script>\n",
              "  </div>\n",
              "\n",
              "\n",
              "<div id=\"df-ecc53b49-92e3-41d5-88b1-b72af805e1de\">\n",
              "  <button class=\"colab-df-quickchart\" onclick=\"quickchart('df-ecc53b49-92e3-41d5-88b1-b72af805e1de')\"\n",
              "            title=\"Suggest charts\"\n",
              "            style=\"display:none;\">\n",
              "\n",
              "<svg xmlns=\"http://www.w3.org/2000/svg\" height=\"24px\"viewBox=\"0 0 24 24\"\n",
              "     width=\"24px\">\n",
              "    <g>\n",
              "        <path d=\"M19 3H5c-1.1 0-2 .9-2 2v14c0 1.1.9 2 2 2h14c1.1 0 2-.9 2-2V5c0-1.1-.9-2-2-2zM9 17H7v-7h2v7zm4 0h-2V7h2v10zm4 0h-2v-4h2v4z\"/>\n",
              "    </g>\n",
              "</svg>\n",
              "  </button>\n",
              "\n",
              "<style>\n",
              "  .colab-df-quickchart {\n",
              "      --bg-color: #E8F0FE;\n",
              "      --fill-color: #1967D2;\n",
              "      --hover-bg-color: #E2EBFA;\n",
              "      --hover-fill-color: #174EA6;\n",
              "      --disabled-fill-color: #AAA;\n",
              "      --disabled-bg-color: #DDD;\n",
              "  }\n",
              "\n",
              "  [theme=dark] .colab-df-quickchart {\n",
              "      --bg-color: #3B4455;\n",
              "      --fill-color: #D2E3FC;\n",
              "      --hover-bg-color: #434B5C;\n",
              "      --hover-fill-color: #FFFFFF;\n",
              "      --disabled-bg-color: #3B4455;\n",
              "      --disabled-fill-color: #666;\n",
              "  }\n",
              "\n",
              "  .colab-df-quickchart {\n",
              "    background-color: var(--bg-color);\n",
              "    border: none;\n",
              "    border-radius: 50%;\n",
              "    cursor: pointer;\n",
              "    display: none;\n",
              "    fill: var(--fill-color);\n",
              "    height: 32px;\n",
              "    padding: 0;\n",
              "    width: 32px;\n",
              "  }\n",
              "\n",
              "  .colab-df-quickchart:hover {\n",
              "    background-color: var(--hover-bg-color);\n",
              "    box-shadow: 0 1px 2px rgba(60, 64, 67, 0.3), 0 1px 3px 1px rgba(60, 64, 67, 0.15);\n",
              "    fill: var(--button-hover-fill-color);\n",
              "  }\n",
              "\n",
              "  .colab-df-quickchart-complete:disabled,\n",
              "  .colab-df-quickchart-complete:disabled:hover {\n",
              "    background-color: var(--disabled-bg-color);\n",
              "    fill: var(--disabled-fill-color);\n",
              "    box-shadow: none;\n",
              "  }\n",
              "\n",
              "  .colab-df-spinner {\n",
              "    border: 2px solid var(--fill-color);\n",
              "    border-color: transparent;\n",
              "    border-bottom-color: var(--fill-color);\n",
              "    animation:\n",
              "      spin 1s steps(1) infinite;\n",
              "  }\n",
              "\n",
              "  @keyframes spin {\n",
              "    0% {\n",
              "      border-color: transparent;\n",
              "      border-bottom-color: var(--fill-color);\n",
              "      border-left-color: var(--fill-color);\n",
              "    }\n",
              "    20% {\n",
              "      border-color: transparent;\n",
              "      border-left-color: var(--fill-color);\n",
              "      border-top-color: var(--fill-color);\n",
              "    }\n",
              "    30% {\n",
              "      border-color: transparent;\n",
              "      border-left-color: var(--fill-color);\n",
              "      border-top-color: var(--fill-color);\n",
              "      border-right-color: var(--fill-color);\n",
              "    }\n",
              "    40% {\n",
              "      border-color: transparent;\n",
              "      border-right-color: var(--fill-color);\n",
              "      border-top-color: var(--fill-color);\n",
              "    }\n",
              "    60% {\n",
              "      border-color: transparent;\n",
              "      border-right-color: var(--fill-color);\n",
              "    }\n",
              "    80% {\n",
              "      border-color: transparent;\n",
              "      border-right-color: var(--fill-color);\n",
              "      border-bottom-color: var(--fill-color);\n",
              "    }\n",
              "    90% {\n",
              "      border-color: transparent;\n",
              "      border-bottom-color: var(--fill-color);\n",
              "    }\n",
              "  }\n",
              "</style>\n",
              "\n",
              "  <script>\n",
              "    async function quickchart(key) {\n",
              "      const quickchartButtonEl =\n",
              "        document.querySelector('#' + key + ' button');\n",
              "      quickchartButtonEl.disabled = true;  // To prevent multiple clicks.\n",
              "      quickchartButtonEl.classList.add('colab-df-spinner');\n",
              "      try {\n",
              "        const charts = await google.colab.kernel.invokeFunction(\n",
              "            'suggestCharts', [key], {});\n",
              "      } catch (error) {\n",
              "        console.error('Error during call to suggestCharts:', error);\n",
              "      }\n",
              "      quickchartButtonEl.classList.remove('colab-df-spinner');\n",
              "      quickchartButtonEl.classList.add('colab-df-quickchart-complete');\n",
              "    }\n",
              "    (() => {\n",
              "      let quickchartButtonEl =\n",
              "        document.querySelector('#df-ecc53b49-92e3-41d5-88b1-b72af805e1de button');\n",
              "      quickchartButtonEl.style.display =\n",
              "        google.colab.kernel.accessAllowed ? 'block' : 'none';\n",
              "    })();\n",
              "  </script>\n",
              "</div>\n",
              "\n",
              "    </div>\n",
              "  </div>\n"
            ],
            "text/plain": [
              "   Q1  Q2  Q3  Q4  Q5  Q6  Q7  Q8  Q9  Q10  ...  Q46  Q47  Q48  Q49  Q50  Q51  \\\n",
              "0   2   2   4   1   0   0   0   0   0    0  ...    2    1    3    3    3    2   \n",
              "1   4   4   4   4   4   0   0   4   4    4  ...    2    2    3    4    4    4   \n",
              "2   2   2   2   2   1   3   2   1   1    2  ...    3    2    3    1    1    1   \n",
              "3   3   2   3   2   3   3   3   3   3    3  ...    2    2    3    3    3    3   \n",
              "4   2   2   1   1   1   1   0   0   0    0  ...    2    1    2    3    2    2   \n",
              "\n",
              "   Q52  Q53  Q54  Divorce  \n",
              "0    3    2    1        1  \n",
              "1    4    2    2        1  \n",
              "2    2    2    2        1  \n",
              "3    2    2    2        1  \n",
              "4    2    1    0        1  \n",
              "\n",
              "[5 rows x 55 columns]"
            ]
          },
          "execution_count": 31,
          "metadata": {},
          "output_type": "execute_result"
        }
      ],
      "source": [
        "df.head()"
      ]
    },
    {
      "cell_type": "markdown",
      "metadata": {
        "id": "xO4MgSyji82H"
      },
      "source": [
        "*El conjunto de datos presenta los registros iniciales del dataset utilizado para predecir el divorcio, mostrando las respuestas de las preguntas realizadas a las parejas y si estas están divorciadas o felizmente casadas.*"
      ]
    },
    {
      "cell_type": "markdown",
      "metadata": {
        "id": "iVAIl09pkqe4"
      },
      "source": [
        "# **Limpieza y preparacion de datos** 🛠️\n",
        "\n",
        "---\n",
        "\n"
      ]
    },
    {
      "cell_type": "markdown",
      "metadata": {
        "id": "h9CnqAXgrwHR"
      },
      "source": [
        "**Explorar el conjunto de datos**"
      ]
    },
    {
      "cell_type": "code",
      "execution_count": null,
      "metadata": {
        "colab": {
          "base_uri": "https://localhost:8080/",
          "height": 235
        },
        "id": "fXknZu-AkwgO",
        "outputId": "175c61bc-8665-495f-fd2b-3dbe0c346d9f"
      },
      "outputs": [
        {
          "data": {
            "application/vnd.google.colaboratory.intrinsic+json": {
              "type": "dataframe",
              "variable_name": "df"
            },
            "text/html": [
              "\n",
              "  <div id=\"df-f320ec45-8d2c-448f-8a03-c4f59763154e\" class=\"colab-df-container\">\n",
              "    <div>\n",
              "<style scoped>\n",
              "    .dataframe tbody tr th:only-of-type {\n",
              "        vertical-align: middle;\n",
              "    }\n",
              "\n",
              "    .dataframe tbody tr th {\n",
              "        vertical-align: top;\n",
              "    }\n",
              "\n",
              "    .dataframe thead th {\n",
              "        text-align: right;\n",
              "    }\n",
              "</style>\n",
              "<table border=\"1\" class=\"dataframe\">\n",
              "  <thead>\n",
              "    <tr style=\"text-align: right;\">\n",
              "      <th></th>\n",
              "      <th>Q1</th>\n",
              "      <th>Q2</th>\n",
              "      <th>Q3</th>\n",
              "      <th>Q4</th>\n",
              "      <th>Q5</th>\n",
              "      <th>Q6</th>\n",
              "      <th>Q7</th>\n",
              "      <th>Q8</th>\n",
              "      <th>Q9</th>\n",
              "      <th>Q10</th>\n",
              "      <th>...</th>\n",
              "      <th>Q46</th>\n",
              "      <th>Q47</th>\n",
              "      <th>Q48</th>\n",
              "      <th>Q49</th>\n",
              "      <th>Q50</th>\n",
              "      <th>Q51</th>\n",
              "      <th>Q52</th>\n",
              "      <th>Q53</th>\n",
              "      <th>Q54</th>\n",
              "      <th>Divorce</th>\n",
              "    </tr>\n",
              "  </thead>\n",
              "  <tbody>\n",
              "    <tr>\n",
              "      <th>0</th>\n",
              "      <td>2</td>\n",
              "      <td>2</td>\n",
              "      <td>4</td>\n",
              "      <td>1</td>\n",
              "      <td>0</td>\n",
              "      <td>0</td>\n",
              "      <td>0</td>\n",
              "      <td>0</td>\n",
              "      <td>0</td>\n",
              "      <td>0</td>\n",
              "      <td>...</td>\n",
              "      <td>2</td>\n",
              "      <td>1</td>\n",
              "      <td>3</td>\n",
              "      <td>3</td>\n",
              "      <td>3</td>\n",
              "      <td>2</td>\n",
              "      <td>3</td>\n",
              "      <td>2</td>\n",
              "      <td>1</td>\n",
              "      <td>1</td>\n",
              "    </tr>\n",
              "    <tr>\n",
              "      <th>1</th>\n",
              "      <td>4</td>\n",
              "      <td>4</td>\n",
              "      <td>4</td>\n",
              "      <td>4</td>\n",
              "      <td>4</td>\n",
              "      <td>0</td>\n",
              "      <td>0</td>\n",
              "      <td>4</td>\n",
              "      <td>4</td>\n",
              "      <td>4</td>\n",
              "      <td>...</td>\n",
              "      <td>2</td>\n",
              "      <td>2</td>\n",
              "      <td>3</td>\n",
              "      <td>4</td>\n",
              "      <td>4</td>\n",
              "      <td>4</td>\n",
              "      <td>4</td>\n",
              "      <td>2</td>\n",
              "      <td>2</td>\n",
              "      <td>1</td>\n",
              "    </tr>\n",
              "    <tr>\n",
              "      <th>2</th>\n",
              "      <td>2</td>\n",
              "      <td>2</td>\n",
              "      <td>2</td>\n",
              "      <td>2</td>\n",
              "      <td>1</td>\n",
              "      <td>3</td>\n",
              "      <td>2</td>\n",
              "      <td>1</td>\n",
              "      <td>1</td>\n",
              "      <td>2</td>\n",
              "      <td>...</td>\n",
              "      <td>3</td>\n",
              "      <td>2</td>\n",
              "      <td>3</td>\n",
              "      <td>1</td>\n",
              "      <td>1</td>\n",
              "      <td>1</td>\n",
              "      <td>2</td>\n",
              "      <td>2</td>\n",
              "      <td>2</td>\n",
              "      <td>1</td>\n",
              "    </tr>\n",
              "    <tr>\n",
              "      <th>3</th>\n",
              "      <td>3</td>\n",
              "      <td>2</td>\n",
              "      <td>3</td>\n",
              "      <td>2</td>\n",
              "      <td>3</td>\n",
              "      <td>3</td>\n",
              "      <td>3</td>\n",
              "      <td>3</td>\n",
              "      <td>3</td>\n",
              "      <td>3</td>\n",
              "      <td>...</td>\n",
              "      <td>2</td>\n",
              "      <td>2</td>\n",
              "      <td>3</td>\n",
              "      <td>3</td>\n",
              "      <td>3</td>\n",
              "      <td>3</td>\n",
              "      <td>2</td>\n",
              "      <td>2</td>\n",
              "      <td>2</td>\n",
              "      <td>1</td>\n",
              "    </tr>\n",
              "    <tr>\n",
              "      <th>4</th>\n",
              "      <td>2</td>\n",
              "      <td>2</td>\n",
              "      <td>1</td>\n",
              "      <td>1</td>\n",
              "      <td>1</td>\n",
              "      <td>1</td>\n",
              "      <td>0</td>\n",
              "      <td>0</td>\n",
              "      <td>0</td>\n",
              "      <td>0</td>\n",
              "      <td>...</td>\n",
              "      <td>2</td>\n",
              "      <td>1</td>\n",
              "      <td>2</td>\n",
              "      <td>3</td>\n",
              "      <td>2</td>\n",
              "      <td>2</td>\n",
              "      <td>2</td>\n",
              "      <td>1</td>\n",
              "      <td>0</td>\n",
              "      <td>1</td>\n",
              "    </tr>\n",
              "  </tbody>\n",
              "</table>\n",
              "<p>5 rows × 55 columns</p>\n",
              "</div>\n",
              "    <div class=\"colab-df-buttons\">\n",
              "\n",
              "  <div class=\"colab-df-container\">\n",
              "    <button class=\"colab-df-convert\" onclick=\"convertToInteractive('df-f320ec45-8d2c-448f-8a03-c4f59763154e')\"\n",
              "            title=\"Convert this dataframe to an interactive table.\"\n",
              "            style=\"display:none;\">\n",
              "\n",
              "  <svg xmlns=\"http://www.w3.org/2000/svg\" height=\"24px\" viewBox=\"0 -960 960 960\">\n",
              "    <path d=\"M120-120v-720h720v720H120Zm60-500h600v-160H180v160Zm220 220h160v-160H400v160Zm0 220h160v-160H400v160ZM180-400h160v-160H180v160Zm440 0h160v-160H620v160ZM180-180h160v-160H180v160Zm440 0h160v-160H620v160Z\"/>\n",
              "  </svg>\n",
              "    </button>\n",
              "\n",
              "  <style>\n",
              "    .colab-df-container {\n",
              "      display:flex;\n",
              "      gap: 12px;\n",
              "    }\n",
              "\n",
              "    .colab-df-convert {\n",
              "      background-color: #E8F0FE;\n",
              "      border: none;\n",
              "      border-radius: 50%;\n",
              "      cursor: pointer;\n",
              "      display: none;\n",
              "      fill: #1967D2;\n",
              "      height: 32px;\n",
              "      padding: 0 0 0 0;\n",
              "      width: 32px;\n",
              "    }\n",
              "\n",
              "    .colab-df-convert:hover {\n",
              "      background-color: #E2EBFA;\n",
              "      box-shadow: 0px 1px 2px rgba(60, 64, 67, 0.3), 0px 1px 3px 1px rgba(60, 64, 67, 0.15);\n",
              "      fill: #174EA6;\n",
              "    }\n",
              "\n",
              "    .colab-df-buttons div {\n",
              "      margin-bottom: 4px;\n",
              "    }\n",
              "\n",
              "    [theme=dark] .colab-df-convert {\n",
              "      background-color: #3B4455;\n",
              "      fill: #D2E3FC;\n",
              "    }\n",
              "\n",
              "    [theme=dark] .colab-df-convert:hover {\n",
              "      background-color: #434B5C;\n",
              "      box-shadow: 0px 1px 3px 1px rgba(0, 0, 0, 0.15);\n",
              "      filter: drop-shadow(0px 1px 2px rgba(0, 0, 0, 0.3));\n",
              "      fill: #FFFFFF;\n",
              "    }\n",
              "  </style>\n",
              "\n",
              "    <script>\n",
              "      const buttonEl =\n",
              "        document.querySelector('#df-f320ec45-8d2c-448f-8a03-c4f59763154e button.colab-df-convert');\n",
              "      buttonEl.style.display =\n",
              "        google.colab.kernel.accessAllowed ? 'block' : 'none';\n",
              "\n",
              "      async function convertToInteractive(key) {\n",
              "        const element = document.querySelector('#df-f320ec45-8d2c-448f-8a03-c4f59763154e');\n",
              "        const dataTable =\n",
              "          await google.colab.kernel.invokeFunction('convertToInteractive',\n",
              "                                                    [key], {});\n",
              "        if (!dataTable) return;\n",
              "\n",
              "        const docLinkHtml = 'Like what you see? Visit the ' +\n",
              "          '<a target=\"_blank\" href=https://colab.research.google.com/notebooks/data_table.ipynb>data table notebook</a>'\n",
              "          + ' to learn more about interactive tables.';\n",
              "        element.innerHTML = '';\n",
              "        dataTable['output_type'] = 'display_data';\n",
              "        await google.colab.output.renderOutput(dataTable, element);\n",
              "        const docLink = document.createElement('div');\n",
              "        docLink.innerHTML = docLinkHtml;\n",
              "        element.appendChild(docLink);\n",
              "      }\n",
              "    </script>\n",
              "  </div>\n",
              "\n",
              "\n",
              "<div id=\"df-17dc60da-c879-4fe0-b48e-407204bb3490\">\n",
              "  <button class=\"colab-df-quickchart\" onclick=\"quickchart('df-17dc60da-c879-4fe0-b48e-407204bb3490')\"\n",
              "            title=\"Suggest charts\"\n",
              "            style=\"display:none;\">\n",
              "\n",
              "<svg xmlns=\"http://www.w3.org/2000/svg\" height=\"24px\"viewBox=\"0 0 24 24\"\n",
              "     width=\"24px\">\n",
              "    <g>\n",
              "        <path d=\"M19 3H5c-1.1 0-2 .9-2 2v14c0 1.1.9 2 2 2h14c1.1 0 2-.9 2-2V5c0-1.1-.9-2-2-2zM9 17H7v-7h2v7zm4 0h-2V7h2v10zm4 0h-2v-4h2v4z\"/>\n",
              "    </g>\n",
              "</svg>\n",
              "  </button>\n",
              "\n",
              "<style>\n",
              "  .colab-df-quickchart {\n",
              "      --bg-color: #E8F0FE;\n",
              "      --fill-color: #1967D2;\n",
              "      --hover-bg-color: #E2EBFA;\n",
              "      --hover-fill-color: #174EA6;\n",
              "      --disabled-fill-color: #AAA;\n",
              "      --disabled-bg-color: #DDD;\n",
              "  }\n",
              "\n",
              "  [theme=dark] .colab-df-quickchart {\n",
              "      --bg-color: #3B4455;\n",
              "      --fill-color: #D2E3FC;\n",
              "      --hover-bg-color: #434B5C;\n",
              "      --hover-fill-color: #FFFFFF;\n",
              "      --disabled-bg-color: #3B4455;\n",
              "      --disabled-fill-color: #666;\n",
              "  }\n",
              "\n",
              "  .colab-df-quickchart {\n",
              "    background-color: var(--bg-color);\n",
              "    border: none;\n",
              "    border-radius: 50%;\n",
              "    cursor: pointer;\n",
              "    display: none;\n",
              "    fill: var(--fill-color);\n",
              "    height: 32px;\n",
              "    padding: 0;\n",
              "    width: 32px;\n",
              "  }\n",
              "\n",
              "  .colab-df-quickchart:hover {\n",
              "    background-color: var(--hover-bg-color);\n",
              "    box-shadow: 0 1px 2px rgba(60, 64, 67, 0.3), 0 1px 3px 1px rgba(60, 64, 67, 0.15);\n",
              "    fill: var(--button-hover-fill-color);\n",
              "  }\n",
              "\n",
              "  .colab-df-quickchart-complete:disabled,\n",
              "  .colab-df-quickchart-complete:disabled:hover {\n",
              "    background-color: var(--disabled-bg-color);\n",
              "    fill: var(--disabled-fill-color);\n",
              "    box-shadow: none;\n",
              "  }\n",
              "\n",
              "  .colab-df-spinner {\n",
              "    border: 2px solid var(--fill-color);\n",
              "    border-color: transparent;\n",
              "    border-bottom-color: var(--fill-color);\n",
              "    animation:\n",
              "      spin 1s steps(1) infinite;\n",
              "  }\n",
              "\n",
              "  @keyframes spin {\n",
              "    0% {\n",
              "      border-color: transparent;\n",
              "      border-bottom-color: var(--fill-color);\n",
              "      border-left-color: var(--fill-color);\n",
              "    }\n",
              "    20% {\n",
              "      border-color: transparent;\n",
              "      border-left-color: var(--fill-color);\n",
              "      border-top-color: var(--fill-color);\n",
              "    }\n",
              "    30% {\n",
              "      border-color: transparent;\n",
              "      border-left-color: var(--fill-color);\n",
              "      border-top-color: var(--fill-color);\n",
              "      border-right-color: var(--fill-color);\n",
              "    }\n",
              "    40% {\n",
              "      border-color: transparent;\n",
              "      border-right-color: var(--fill-color);\n",
              "      border-top-color: var(--fill-color);\n",
              "    }\n",
              "    60% {\n",
              "      border-color: transparent;\n",
              "      border-right-color: var(--fill-color);\n",
              "    }\n",
              "    80% {\n",
              "      border-color: transparent;\n",
              "      border-right-color: var(--fill-color);\n",
              "      border-bottom-color: var(--fill-color);\n",
              "    }\n",
              "    90% {\n",
              "      border-color: transparent;\n",
              "      border-bottom-color: var(--fill-color);\n",
              "    }\n",
              "  }\n",
              "</style>\n",
              "\n",
              "  <script>\n",
              "    async function quickchart(key) {\n",
              "      const quickchartButtonEl =\n",
              "        document.querySelector('#' + key + ' button');\n",
              "      quickchartButtonEl.disabled = true;  // To prevent multiple clicks.\n",
              "      quickchartButtonEl.classList.add('colab-df-spinner');\n",
              "      try {\n",
              "        const charts = await google.colab.kernel.invokeFunction(\n",
              "            'suggestCharts', [key], {});\n",
              "      } catch (error) {\n",
              "        console.error('Error during call to suggestCharts:', error);\n",
              "      }\n",
              "      quickchartButtonEl.classList.remove('colab-df-spinner');\n",
              "      quickchartButtonEl.classList.add('colab-df-quickchart-complete');\n",
              "    }\n",
              "    (() => {\n",
              "      let quickchartButtonEl =\n",
              "        document.querySelector('#df-17dc60da-c879-4fe0-b48e-407204bb3490 button');\n",
              "      quickchartButtonEl.style.display =\n",
              "        google.colab.kernel.accessAllowed ? 'block' : 'none';\n",
              "    })();\n",
              "  </script>\n",
              "</div>\n",
              "\n",
              "    </div>\n",
              "  </div>\n"
            ],
            "text/plain": [
              "   Q1  Q2  Q3  Q4  Q5  Q6  Q7  Q8  Q9  Q10  ...  Q46  Q47  Q48  Q49  Q50  Q51  \\\n",
              "0   2   2   4   1   0   0   0   0   0    0  ...    2    1    3    3    3    2   \n",
              "1   4   4   4   4   4   0   0   4   4    4  ...    2    2    3    4    4    4   \n",
              "2   2   2   2   2   1   3   2   1   1    2  ...    3    2    3    1    1    1   \n",
              "3   3   2   3   2   3   3   3   3   3    3  ...    2    2    3    3    3    3   \n",
              "4   2   2   1   1   1   1   0   0   0    0  ...    2    1    2    3    2    2   \n",
              "\n",
              "   Q52  Q53  Q54  Divorce  \n",
              "0    3    2    1        1  \n",
              "1    4    2    2        1  \n",
              "2    2    2    2        1  \n",
              "3    2    2    2        1  \n",
              "4    2    1    0        1  \n",
              "\n",
              "[5 rows x 55 columns]"
            ]
          },
          "execution_count": 6,
          "metadata": {},
          "output_type": "execute_result"
        }
      ],
      "source": [
        "df.head()"
      ]
    },
    {
      "cell_type": "markdown",
      "metadata": {
        "id": "ePErtrAEl36U"
      },
      "source": [
        "*El conjunto de datos muestra los primeros registros del dataset utilizado para predecir el divorcio, mostrando las respuestas de las preguntas realizadas a las parejas y si estas están divorciadas o felizmente casadas.*"
      ]
    },
    {
      "cell_type": "code",
      "execution_count": null,
      "metadata": {
        "colab": {
          "base_uri": "https://localhost:8080/",
          "height": 235
        },
        "id": "kPjliKWqrpod",
        "outputId": "c695a197-76ec-4c3a-f53e-0a6a1d418db0"
      },
      "outputs": [
        {
          "data": {
            "application/vnd.google.colaboratory.intrinsic+json": {
              "type": "dataframe"
            },
            "text/html": [
              "\n",
              "  <div id=\"df-f06e45e4-ef13-4bf4-a50b-72f65f7cd134\" class=\"colab-df-container\">\n",
              "    <div>\n",
              "<style scoped>\n",
              "    .dataframe tbody tr th:only-of-type {\n",
              "        vertical-align: middle;\n",
              "    }\n",
              "\n",
              "    .dataframe tbody tr th {\n",
              "        vertical-align: top;\n",
              "    }\n",
              "\n",
              "    .dataframe thead th {\n",
              "        text-align: right;\n",
              "    }\n",
              "</style>\n",
              "<table border=\"1\" class=\"dataframe\">\n",
              "  <thead>\n",
              "    <tr style=\"text-align: right;\">\n",
              "      <th></th>\n",
              "      <th>Q1</th>\n",
              "      <th>Q2</th>\n",
              "      <th>Q3</th>\n",
              "      <th>Q4</th>\n",
              "      <th>Q5</th>\n",
              "      <th>Q6</th>\n",
              "      <th>Q7</th>\n",
              "      <th>Q8</th>\n",
              "      <th>Q9</th>\n",
              "      <th>Q10</th>\n",
              "      <th>...</th>\n",
              "      <th>Q46</th>\n",
              "      <th>Q47</th>\n",
              "      <th>Q48</th>\n",
              "      <th>Q49</th>\n",
              "      <th>Q50</th>\n",
              "      <th>Q51</th>\n",
              "      <th>Q52</th>\n",
              "      <th>Q53</th>\n",
              "      <th>Q54</th>\n",
              "      <th>Divorce</th>\n",
              "    </tr>\n",
              "  </thead>\n",
              "  <tbody>\n",
              "    <tr>\n",
              "      <th>165</th>\n",
              "      <td>0</td>\n",
              "      <td>0</td>\n",
              "      <td>0</td>\n",
              "      <td>0</td>\n",
              "      <td>0</td>\n",
              "      <td>0</td>\n",
              "      <td>0</td>\n",
              "      <td>0</td>\n",
              "      <td>0</td>\n",
              "      <td>0</td>\n",
              "      <td>...</td>\n",
              "      <td>1</td>\n",
              "      <td>0</td>\n",
              "      <td>4</td>\n",
              "      <td>1</td>\n",
              "      <td>1</td>\n",
              "      <td>4</td>\n",
              "      <td>2</td>\n",
              "      <td>2</td>\n",
              "      <td>2</td>\n",
              "      <td>0</td>\n",
              "    </tr>\n",
              "    <tr>\n",
              "      <th>166</th>\n",
              "      <td>0</td>\n",
              "      <td>0</td>\n",
              "      <td>0</td>\n",
              "      <td>0</td>\n",
              "      <td>0</td>\n",
              "      <td>0</td>\n",
              "      <td>0</td>\n",
              "      <td>0</td>\n",
              "      <td>0</td>\n",
              "      <td>0</td>\n",
              "      <td>...</td>\n",
              "      <td>4</td>\n",
              "      <td>1</td>\n",
              "      <td>2</td>\n",
              "      <td>2</td>\n",
              "      <td>2</td>\n",
              "      <td>2</td>\n",
              "      <td>3</td>\n",
              "      <td>2</td>\n",
              "      <td>2</td>\n",
              "      <td>0</td>\n",
              "    </tr>\n",
              "    <tr>\n",
              "      <th>167</th>\n",
              "      <td>1</td>\n",
              "      <td>1</td>\n",
              "      <td>0</td>\n",
              "      <td>0</td>\n",
              "      <td>0</td>\n",
              "      <td>0</td>\n",
              "      <td>0</td>\n",
              "      <td>0</td>\n",
              "      <td>0</td>\n",
              "      <td>1</td>\n",
              "      <td>...</td>\n",
              "      <td>3</td>\n",
              "      <td>0</td>\n",
              "      <td>2</td>\n",
              "      <td>0</td>\n",
              "      <td>1</td>\n",
              "      <td>1</td>\n",
              "      <td>3</td>\n",
              "      <td>0</td>\n",
              "      <td>0</td>\n",
              "      <td>0</td>\n",
              "    </tr>\n",
              "    <tr>\n",
              "      <th>168</th>\n",
              "      <td>0</td>\n",
              "      <td>0</td>\n",
              "      <td>0</td>\n",
              "      <td>0</td>\n",
              "      <td>0</td>\n",
              "      <td>0</td>\n",
              "      <td>0</td>\n",
              "      <td>0</td>\n",
              "      <td>0</td>\n",
              "      <td>0</td>\n",
              "      <td>...</td>\n",
              "      <td>3</td>\n",
              "      <td>3</td>\n",
              "      <td>2</td>\n",
              "      <td>2</td>\n",
              "      <td>3</td>\n",
              "      <td>2</td>\n",
              "      <td>4</td>\n",
              "      <td>3</td>\n",
              "      <td>1</td>\n",
              "      <td>0</td>\n",
              "    </tr>\n",
              "    <tr>\n",
              "      <th>169</th>\n",
              "      <td>0</td>\n",
              "      <td>0</td>\n",
              "      <td>0</td>\n",
              "      <td>0</td>\n",
              "      <td>0</td>\n",
              "      <td>0</td>\n",
              "      <td>0</td>\n",
              "      <td>1</td>\n",
              "      <td>0</td>\n",
              "      <td>0</td>\n",
              "      <td>...</td>\n",
              "      <td>3</td>\n",
              "      <td>4</td>\n",
              "      <td>4</td>\n",
              "      <td>0</td>\n",
              "      <td>1</td>\n",
              "      <td>3</td>\n",
              "      <td>3</td>\n",
              "      <td>3</td>\n",
              "      <td>1</td>\n",
              "      <td>0</td>\n",
              "    </tr>\n",
              "  </tbody>\n",
              "</table>\n",
              "<p>5 rows × 55 columns</p>\n",
              "</div>\n",
              "    <div class=\"colab-df-buttons\">\n",
              "\n",
              "  <div class=\"colab-df-container\">\n",
              "    <button class=\"colab-df-convert\" onclick=\"convertToInteractive('df-f06e45e4-ef13-4bf4-a50b-72f65f7cd134')\"\n",
              "            title=\"Convert this dataframe to an interactive table.\"\n",
              "            style=\"display:none;\">\n",
              "\n",
              "  <svg xmlns=\"http://www.w3.org/2000/svg\" height=\"24px\" viewBox=\"0 -960 960 960\">\n",
              "    <path d=\"M120-120v-720h720v720H120Zm60-500h600v-160H180v160Zm220 220h160v-160H400v160Zm0 220h160v-160H400v160ZM180-400h160v-160H180v160Zm440 0h160v-160H620v160ZM180-180h160v-160H180v160Zm440 0h160v-160H620v160Z\"/>\n",
              "  </svg>\n",
              "    </button>\n",
              "\n",
              "  <style>\n",
              "    .colab-df-container {\n",
              "      display:flex;\n",
              "      gap: 12px;\n",
              "    }\n",
              "\n",
              "    .colab-df-convert {\n",
              "      background-color: #E8F0FE;\n",
              "      border: none;\n",
              "      border-radius: 50%;\n",
              "      cursor: pointer;\n",
              "      display: none;\n",
              "      fill: #1967D2;\n",
              "      height: 32px;\n",
              "      padding: 0 0 0 0;\n",
              "      width: 32px;\n",
              "    }\n",
              "\n",
              "    .colab-df-convert:hover {\n",
              "      background-color: #E2EBFA;\n",
              "      box-shadow: 0px 1px 2px rgba(60, 64, 67, 0.3), 0px 1px 3px 1px rgba(60, 64, 67, 0.15);\n",
              "      fill: #174EA6;\n",
              "    }\n",
              "\n",
              "    .colab-df-buttons div {\n",
              "      margin-bottom: 4px;\n",
              "    }\n",
              "\n",
              "    [theme=dark] .colab-df-convert {\n",
              "      background-color: #3B4455;\n",
              "      fill: #D2E3FC;\n",
              "    }\n",
              "\n",
              "    [theme=dark] .colab-df-convert:hover {\n",
              "      background-color: #434B5C;\n",
              "      box-shadow: 0px 1px 3px 1px rgba(0, 0, 0, 0.15);\n",
              "      filter: drop-shadow(0px 1px 2px rgba(0, 0, 0, 0.3));\n",
              "      fill: #FFFFFF;\n",
              "    }\n",
              "  </style>\n",
              "\n",
              "    <script>\n",
              "      const buttonEl =\n",
              "        document.querySelector('#df-f06e45e4-ef13-4bf4-a50b-72f65f7cd134 button.colab-df-convert');\n",
              "      buttonEl.style.display =\n",
              "        google.colab.kernel.accessAllowed ? 'block' : 'none';\n",
              "\n",
              "      async function convertToInteractive(key) {\n",
              "        const element = document.querySelector('#df-f06e45e4-ef13-4bf4-a50b-72f65f7cd134');\n",
              "        const dataTable =\n",
              "          await google.colab.kernel.invokeFunction('convertToInteractive',\n",
              "                                                    [key], {});\n",
              "        if (!dataTable) return;\n",
              "\n",
              "        const docLinkHtml = 'Like what you see? Visit the ' +\n",
              "          '<a target=\"_blank\" href=https://colab.research.google.com/notebooks/data_table.ipynb>data table notebook</a>'\n",
              "          + ' to learn more about interactive tables.';\n",
              "        element.innerHTML = '';\n",
              "        dataTable['output_type'] = 'display_data';\n",
              "        await google.colab.output.renderOutput(dataTable, element);\n",
              "        const docLink = document.createElement('div');\n",
              "        docLink.innerHTML = docLinkHtml;\n",
              "        element.appendChild(docLink);\n",
              "      }\n",
              "    </script>\n",
              "  </div>\n",
              "\n",
              "\n",
              "<div id=\"df-c732ec29-68fc-467d-929c-063b21f9f63d\">\n",
              "  <button class=\"colab-df-quickchart\" onclick=\"quickchart('df-c732ec29-68fc-467d-929c-063b21f9f63d')\"\n",
              "            title=\"Suggest charts\"\n",
              "            style=\"display:none;\">\n",
              "\n",
              "<svg xmlns=\"http://www.w3.org/2000/svg\" height=\"24px\"viewBox=\"0 0 24 24\"\n",
              "     width=\"24px\">\n",
              "    <g>\n",
              "        <path d=\"M19 3H5c-1.1 0-2 .9-2 2v14c0 1.1.9 2 2 2h14c1.1 0 2-.9 2-2V5c0-1.1-.9-2-2-2zM9 17H7v-7h2v7zm4 0h-2V7h2v10zm4 0h-2v-4h2v4z\"/>\n",
              "    </g>\n",
              "</svg>\n",
              "  </button>\n",
              "\n",
              "<style>\n",
              "  .colab-df-quickchart {\n",
              "      --bg-color: #E8F0FE;\n",
              "      --fill-color: #1967D2;\n",
              "      --hover-bg-color: #E2EBFA;\n",
              "      --hover-fill-color: #174EA6;\n",
              "      --disabled-fill-color: #AAA;\n",
              "      --disabled-bg-color: #DDD;\n",
              "  }\n",
              "\n",
              "  [theme=dark] .colab-df-quickchart {\n",
              "      --bg-color: #3B4455;\n",
              "      --fill-color: #D2E3FC;\n",
              "      --hover-bg-color: #434B5C;\n",
              "      --hover-fill-color: #FFFFFF;\n",
              "      --disabled-bg-color: #3B4455;\n",
              "      --disabled-fill-color: #666;\n",
              "  }\n",
              "\n",
              "  .colab-df-quickchart {\n",
              "    background-color: var(--bg-color);\n",
              "    border: none;\n",
              "    border-radius: 50%;\n",
              "    cursor: pointer;\n",
              "    display: none;\n",
              "    fill: var(--fill-color);\n",
              "    height: 32px;\n",
              "    padding: 0;\n",
              "    width: 32px;\n",
              "  }\n",
              "\n",
              "  .colab-df-quickchart:hover {\n",
              "    background-color: var(--hover-bg-color);\n",
              "    box-shadow: 0 1px 2px rgba(60, 64, 67, 0.3), 0 1px 3px 1px rgba(60, 64, 67, 0.15);\n",
              "    fill: var(--button-hover-fill-color);\n",
              "  }\n",
              "\n",
              "  .colab-df-quickchart-complete:disabled,\n",
              "  .colab-df-quickchart-complete:disabled:hover {\n",
              "    background-color: var(--disabled-bg-color);\n",
              "    fill: var(--disabled-fill-color);\n",
              "    box-shadow: none;\n",
              "  }\n",
              "\n",
              "  .colab-df-spinner {\n",
              "    border: 2px solid var(--fill-color);\n",
              "    border-color: transparent;\n",
              "    border-bottom-color: var(--fill-color);\n",
              "    animation:\n",
              "      spin 1s steps(1) infinite;\n",
              "  }\n",
              "\n",
              "  @keyframes spin {\n",
              "    0% {\n",
              "      border-color: transparent;\n",
              "      border-bottom-color: var(--fill-color);\n",
              "      border-left-color: var(--fill-color);\n",
              "    }\n",
              "    20% {\n",
              "      border-color: transparent;\n",
              "      border-left-color: var(--fill-color);\n",
              "      border-top-color: var(--fill-color);\n",
              "    }\n",
              "    30% {\n",
              "      border-color: transparent;\n",
              "      border-left-color: var(--fill-color);\n",
              "      border-top-color: var(--fill-color);\n",
              "      border-right-color: var(--fill-color);\n",
              "    }\n",
              "    40% {\n",
              "      border-color: transparent;\n",
              "      border-right-color: var(--fill-color);\n",
              "      border-top-color: var(--fill-color);\n",
              "    }\n",
              "    60% {\n",
              "      border-color: transparent;\n",
              "      border-right-color: var(--fill-color);\n",
              "    }\n",
              "    80% {\n",
              "      border-color: transparent;\n",
              "      border-right-color: var(--fill-color);\n",
              "      border-bottom-color: var(--fill-color);\n",
              "    }\n",
              "    90% {\n",
              "      border-color: transparent;\n",
              "      border-bottom-color: var(--fill-color);\n",
              "    }\n",
              "  }\n",
              "</style>\n",
              "\n",
              "  <script>\n",
              "    async function quickchart(key) {\n",
              "      const quickchartButtonEl =\n",
              "        document.querySelector('#' + key + ' button');\n",
              "      quickchartButtonEl.disabled = true;  // To prevent multiple clicks.\n",
              "      quickchartButtonEl.classList.add('colab-df-spinner');\n",
              "      try {\n",
              "        const charts = await google.colab.kernel.invokeFunction(\n",
              "            'suggestCharts', [key], {});\n",
              "      } catch (error) {\n",
              "        console.error('Error during call to suggestCharts:', error);\n",
              "      }\n",
              "      quickchartButtonEl.classList.remove('colab-df-spinner');\n",
              "      quickchartButtonEl.classList.add('colab-df-quickchart-complete');\n",
              "    }\n",
              "    (() => {\n",
              "      let quickchartButtonEl =\n",
              "        document.querySelector('#df-c732ec29-68fc-467d-929c-063b21f9f63d button');\n",
              "      quickchartButtonEl.style.display =\n",
              "        google.colab.kernel.accessAllowed ? 'block' : 'none';\n",
              "    })();\n",
              "  </script>\n",
              "</div>\n",
              "\n",
              "    </div>\n",
              "  </div>\n"
            ],
            "text/plain": [
              "     Q1  Q2  Q3  Q4  Q5  Q6  Q7  Q8  Q9  Q10  ...  Q46  Q47  Q48  Q49  Q50  \\\n",
              "165   0   0   0   0   0   0   0   0   0    0  ...    1    0    4    1    1   \n",
              "166   0   0   0   0   0   0   0   0   0    0  ...    4    1    2    2    2   \n",
              "167   1   1   0   0   0   0   0   0   0    1  ...    3    0    2    0    1   \n",
              "168   0   0   0   0   0   0   0   0   0    0  ...    3    3    2    2    3   \n",
              "169   0   0   0   0   0   0   0   1   0    0  ...    3    4    4    0    1   \n",
              "\n",
              "     Q51  Q52  Q53  Q54  Divorce  \n",
              "165    4    2    2    2        0  \n",
              "166    2    3    2    2        0  \n",
              "167    1    3    0    0        0  \n",
              "168    2    4    3    1        0  \n",
              "169    3    3    3    1        0  \n",
              "\n",
              "[5 rows x 55 columns]"
            ]
          },
          "execution_count": 7,
          "metadata": {},
          "output_type": "execute_result"
        }
      ],
      "source": [
        "df.tail()"
      ]
    },
    {
      "cell_type": "markdown",
      "metadata": {
        "id": "7B4RzHKGl5Bb"
      },
      "source": [
        "*El conjunto de datos muestra los ultimos registros del dataset utilizado para predecir el divorcio, mostrando las respuestas de las preguntas realizadas a las parejas y si estas están divorciadas o felizmente casadas.*"
      ]
    },
    {
      "cell_type": "code",
      "execution_count": null,
      "metadata": {
        "colab": {
          "base_uri": "https://localhost:8080/"
        },
        "id": "5c7Pgrs6rpcj",
        "outputId": "9589ace1-b7a6-492b-c88a-73b044c230c9"
      },
      "outputs": [
        {
          "name": "stdout",
          "output_type": "stream",
          "text": [
            "<class 'pandas.core.frame.DataFrame'>\n",
            "RangeIndex: 170 entries, 0 to 169\n",
            "Data columns (total 55 columns):\n",
            " #   Column   Non-Null Count  Dtype\n",
            "---  ------   --------------  -----\n",
            " 0   Q1       170 non-null    int64\n",
            " 1   Q2       170 non-null    int64\n",
            " 2   Q3       170 non-null    int64\n",
            " 3   Q4       170 non-null    int64\n",
            " 4   Q5       170 non-null    int64\n",
            " 5   Q6       170 non-null    int64\n",
            " 6   Q7       170 non-null    int64\n",
            " 7   Q8       170 non-null    int64\n",
            " 8   Q9       170 non-null    int64\n",
            " 9   Q10      170 non-null    int64\n",
            " 10  Q11      170 non-null    int64\n",
            " 11  Q12      170 non-null    int64\n",
            " 12  Q13      170 non-null    int64\n",
            " 13  Q14      170 non-null    int64\n",
            " 14  Q15      170 non-null    int64\n",
            " 15  Q16      170 non-null    int64\n",
            " 16  Q17      170 non-null    int64\n",
            " 17  Q18      170 non-null    int64\n",
            " 18  Q19      170 non-null    int64\n",
            " 19  Q20      170 non-null    int64\n",
            " 20  Q21      170 non-null    int64\n",
            " 21  Q22      170 non-null    int64\n",
            " 22  Q23      170 non-null    int64\n",
            " 23  Q24      170 non-null    int64\n",
            " 24  Q25      170 non-null    int64\n",
            " 25  Q26      170 non-null    int64\n",
            " 26  Q27      170 non-null    int64\n",
            " 27  Q28      170 non-null    int64\n",
            " 28  Q29      170 non-null    int64\n",
            " 29  Q30      170 non-null    int64\n",
            " 30  Q31      170 non-null    int64\n",
            " 31  Q32      170 non-null    int64\n",
            " 32  Q33      170 non-null    int64\n",
            " 33  Q34      170 non-null    int64\n",
            " 34  Q35      170 non-null    int64\n",
            " 35  Q36      170 non-null    int64\n",
            " 36  Q37      170 non-null    int64\n",
            " 37  Q38      170 non-null    int64\n",
            " 38  Q39      170 non-null    int64\n",
            " 39  Q40      170 non-null    int64\n",
            " 40  Q41      170 non-null    int64\n",
            " 41  Q42      170 non-null    int64\n",
            " 42  Q43      170 non-null    int64\n",
            " 43  Q44      170 non-null    int64\n",
            " 44  Q45      170 non-null    int64\n",
            " 45  Q46      170 non-null    int64\n",
            " 46  Q47      170 non-null    int64\n",
            " 47  Q48      170 non-null    int64\n",
            " 48  Q49      170 non-null    int64\n",
            " 49  Q50      170 non-null    int64\n",
            " 50  Q51      170 non-null    int64\n",
            " 51  Q52      170 non-null    int64\n",
            " 52  Q53      170 non-null    int64\n",
            " 53  Q54      170 non-null    int64\n",
            " 54  Divorce  170 non-null    int64\n",
            "dtypes: int64(55)\n",
            "memory usage: 73.2 KB\n"
          ]
        }
      ],
      "source": [
        "df.info()"
      ]
    },
    {
      "cell_type": "markdown",
      "metadata": {
        "id": "depPWhsWl9Z9"
      },
      "source": [
        "\n",
        "*El resultado del comando df.info() muestra que el conjunto de datos tiene 170 registros y 55 columnas, todas completas sin valores nulos y con tipo de datos enteros (int64). Esto indica que los datos están limpios, sin valores faltantes, y listos para su uso en análisis, utilizando 73.2 KB de memoria.*"
      ]
    },
    {
      "cell_type": "code",
      "execution_count": null,
      "metadata": {
        "colab": {
          "base_uri": "https://localhost:8080/",
          "height": 349
        },
        "id": "OAdYokkarpPV",
        "outputId": "cbc84c2d-78be-484c-cbb0-9e34c5c696e0"
      },
      "outputs": [
        {
          "data": {
            "application/vnd.google.colaboratory.intrinsic+json": {
              "type": "dataframe"
            },
            "text/html": [
              "\n",
              "  <div id=\"df-9964f93b-ae52-4404-8adb-3ce887c16269\" class=\"colab-df-container\">\n",
              "    <div>\n",
              "<style scoped>\n",
              "    .dataframe tbody tr th:only-of-type {\n",
              "        vertical-align: middle;\n",
              "    }\n",
              "\n",
              "    .dataframe tbody tr th {\n",
              "        vertical-align: top;\n",
              "    }\n",
              "\n",
              "    .dataframe thead th {\n",
              "        text-align: right;\n",
              "    }\n",
              "</style>\n",
              "<table border=\"1\" class=\"dataframe\">\n",
              "  <thead>\n",
              "    <tr style=\"text-align: right;\">\n",
              "      <th></th>\n",
              "      <th>Q1</th>\n",
              "      <th>Q2</th>\n",
              "      <th>Q3</th>\n",
              "      <th>Q4</th>\n",
              "      <th>Q5</th>\n",
              "      <th>Q6</th>\n",
              "      <th>Q7</th>\n",
              "      <th>Q8</th>\n",
              "      <th>Q9</th>\n",
              "      <th>Q10</th>\n",
              "      <th>...</th>\n",
              "      <th>Q46</th>\n",
              "      <th>Q47</th>\n",
              "      <th>Q48</th>\n",
              "      <th>Q49</th>\n",
              "      <th>Q50</th>\n",
              "      <th>Q51</th>\n",
              "      <th>Q52</th>\n",
              "      <th>Q53</th>\n",
              "      <th>Q54</th>\n",
              "      <th>Divorce</th>\n",
              "    </tr>\n",
              "  </thead>\n",
              "  <tbody>\n",
              "    <tr>\n",
              "      <th>count</th>\n",
              "      <td>170.000000</td>\n",
              "      <td>170.000000</td>\n",
              "      <td>170.000000</td>\n",
              "      <td>170.000000</td>\n",
              "      <td>170.000000</td>\n",
              "      <td>170.000000</td>\n",
              "      <td>170.000000</td>\n",
              "      <td>170.000000</td>\n",
              "      <td>170.000000</td>\n",
              "      <td>170.000000</td>\n",
              "      <td>...</td>\n",
              "      <td>170.000000</td>\n",
              "      <td>170.000000</td>\n",
              "      <td>170.000000</td>\n",
              "      <td>170.000000</td>\n",
              "      <td>170.000000</td>\n",
              "      <td>170.000000</td>\n",
              "      <td>170.000000</td>\n",
              "      <td>170.000000</td>\n",
              "      <td>170.000000</td>\n",
              "      <td>170.000000</td>\n",
              "    </tr>\n",
              "    <tr>\n",
              "      <th>mean</th>\n",
              "      <td>1.776471</td>\n",
              "      <td>1.652941</td>\n",
              "      <td>1.764706</td>\n",
              "      <td>1.482353</td>\n",
              "      <td>1.541176</td>\n",
              "      <td>0.747059</td>\n",
              "      <td>0.494118</td>\n",
              "      <td>1.452941</td>\n",
              "      <td>1.458824</td>\n",
              "      <td>1.576471</td>\n",
              "      <td>...</td>\n",
              "      <td>2.552941</td>\n",
              "      <td>2.270588</td>\n",
              "      <td>2.741176</td>\n",
              "      <td>2.382353</td>\n",
              "      <td>2.429412</td>\n",
              "      <td>2.476471</td>\n",
              "      <td>2.517647</td>\n",
              "      <td>2.241176</td>\n",
              "      <td>2.011765</td>\n",
              "      <td>0.494118</td>\n",
              "    </tr>\n",
              "    <tr>\n",
              "      <th>std</th>\n",
              "      <td>1.627257</td>\n",
              "      <td>1.468654</td>\n",
              "      <td>1.415444</td>\n",
              "      <td>1.504327</td>\n",
              "      <td>1.632169</td>\n",
              "      <td>0.904046</td>\n",
              "      <td>0.898698</td>\n",
              "      <td>1.546371</td>\n",
              "      <td>1.557976</td>\n",
              "      <td>1.421529</td>\n",
              "      <td>...</td>\n",
              "      <td>1.371786</td>\n",
              "      <td>1.586841</td>\n",
              "      <td>1.137348</td>\n",
              "      <td>1.511587</td>\n",
              "      <td>1.405090</td>\n",
              "      <td>1.260238</td>\n",
              "      <td>1.476537</td>\n",
              "      <td>1.505634</td>\n",
              "      <td>1.667611</td>\n",
              "      <td>0.501442</td>\n",
              "    </tr>\n",
              "    <tr>\n",
              "      <th>min</th>\n",
              "      <td>0.000000</td>\n",
              "      <td>0.000000</td>\n",
              "      <td>0.000000</td>\n",
              "      <td>0.000000</td>\n",
              "      <td>0.000000</td>\n",
              "      <td>0.000000</td>\n",
              "      <td>0.000000</td>\n",
              "      <td>0.000000</td>\n",
              "      <td>0.000000</td>\n",
              "      <td>0.000000</td>\n",
              "      <td>...</td>\n",
              "      <td>0.000000</td>\n",
              "      <td>0.000000</td>\n",
              "      <td>0.000000</td>\n",
              "      <td>0.000000</td>\n",
              "      <td>0.000000</td>\n",
              "      <td>0.000000</td>\n",
              "      <td>0.000000</td>\n",
              "      <td>0.000000</td>\n",
              "      <td>0.000000</td>\n",
              "      <td>0.000000</td>\n",
              "    </tr>\n",
              "    <tr>\n",
              "      <th>25%</th>\n",
              "      <td>0.000000</td>\n",
              "      <td>0.000000</td>\n",
              "      <td>0.000000</td>\n",
              "      <td>0.000000</td>\n",
              "      <td>0.000000</td>\n",
              "      <td>0.000000</td>\n",
              "      <td>0.000000</td>\n",
              "      <td>0.000000</td>\n",
              "      <td>0.000000</td>\n",
              "      <td>0.000000</td>\n",
              "      <td>...</td>\n",
              "      <td>2.000000</td>\n",
              "      <td>1.000000</td>\n",
              "      <td>2.000000</td>\n",
              "      <td>1.000000</td>\n",
              "      <td>1.000000</td>\n",
              "      <td>2.000000</td>\n",
              "      <td>1.000000</td>\n",
              "      <td>1.000000</td>\n",
              "      <td>0.000000</td>\n",
              "      <td>0.000000</td>\n",
              "    </tr>\n",
              "    <tr>\n",
              "      <th>50%</th>\n",
              "      <td>2.000000</td>\n",
              "      <td>2.000000</td>\n",
              "      <td>2.000000</td>\n",
              "      <td>1.000000</td>\n",
              "      <td>1.000000</td>\n",
              "      <td>0.000000</td>\n",
              "      <td>0.000000</td>\n",
              "      <td>1.000000</td>\n",
              "      <td>1.000000</td>\n",
              "      <td>2.000000</td>\n",
              "      <td>...</td>\n",
              "      <td>3.000000</td>\n",
              "      <td>2.000000</td>\n",
              "      <td>3.000000</td>\n",
              "      <td>3.000000</td>\n",
              "      <td>2.000000</td>\n",
              "      <td>3.000000</td>\n",
              "      <td>3.000000</td>\n",
              "      <td>2.000000</td>\n",
              "      <td>2.000000</td>\n",
              "      <td>0.000000</td>\n",
              "    </tr>\n",
              "    <tr>\n",
              "      <th>75%</th>\n",
              "      <td>3.000000</td>\n",
              "      <td>3.000000</td>\n",
              "      <td>3.000000</td>\n",
              "      <td>3.000000</td>\n",
              "      <td>3.000000</td>\n",
              "      <td>1.000000</td>\n",
              "      <td>1.000000</td>\n",
              "      <td>3.000000</td>\n",
              "      <td>3.000000</td>\n",
              "      <td>3.000000</td>\n",
              "      <td>...</td>\n",
              "      <td>4.000000</td>\n",
              "      <td>4.000000</td>\n",
              "      <td>4.000000</td>\n",
              "      <td>4.000000</td>\n",
              "      <td>4.000000</td>\n",
              "      <td>4.000000</td>\n",
              "      <td>4.000000</td>\n",
              "      <td>4.000000</td>\n",
              "      <td>4.000000</td>\n",
              "      <td>1.000000</td>\n",
              "    </tr>\n",
              "    <tr>\n",
              "      <th>max</th>\n",
              "      <td>4.000000</td>\n",
              "      <td>4.000000</td>\n",
              "      <td>4.000000</td>\n",
              "      <td>4.000000</td>\n",
              "      <td>4.000000</td>\n",
              "      <td>4.000000</td>\n",
              "      <td>4.000000</td>\n",
              "      <td>4.000000</td>\n",
              "      <td>4.000000</td>\n",
              "      <td>4.000000</td>\n",
              "      <td>...</td>\n",
              "      <td>4.000000</td>\n",
              "      <td>4.000000</td>\n",
              "      <td>4.000000</td>\n",
              "      <td>4.000000</td>\n",
              "      <td>4.000000</td>\n",
              "      <td>4.000000</td>\n",
              "      <td>4.000000</td>\n",
              "      <td>4.000000</td>\n",
              "      <td>4.000000</td>\n",
              "      <td>1.000000</td>\n",
              "    </tr>\n",
              "  </tbody>\n",
              "</table>\n",
              "<p>8 rows × 55 columns</p>\n",
              "</div>\n",
              "    <div class=\"colab-df-buttons\">\n",
              "\n",
              "  <div class=\"colab-df-container\">\n",
              "    <button class=\"colab-df-convert\" onclick=\"convertToInteractive('df-9964f93b-ae52-4404-8adb-3ce887c16269')\"\n",
              "            title=\"Convert this dataframe to an interactive table.\"\n",
              "            style=\"display:none;\">\n",
              "\n",
              "  <svg xmlns=\"http://www.w3.org/2000/svg\" height=\"24px\" viewBox=\"0 -960 960 960\">\n",
              "    <path d=\"M120-120v-720h720v720H120Zm60-500h600v-160H180v160Zm220 220h160v-160H400v160Zm0 220h160v-160H400v160ZM180-400h160v-160H180v160Zm440 0h160v-160H620v160ZM180-180h160v-160H180v160Zm440 0h160v-160H620v160Z\"/>\n",
              "  </svg>\n",
              "    </button>\n",
              "\n",
              "  <style>\n",
              "    .colab-df-container {\n",
              "      display:flex;\n",
              "      gap: 12px;\n",
              "    }\n",
              "\n",
              "    .colab-df-convert {\n",
              "      background-color: #E8F0FE;\n",
              "      border: none;\n",
              "      border-radius: 50%;\n",
              "      cursor: pointer;\n",
              "      display: none;\n",
              "      fill: #1967D2;\n",
              "      height: 32px;\n",
              "      padding: 0 0 0 0;\n",
              "      width: 32px;\n",
              "    }\n",
              "\n",
              "    .colab-df-convert:hover {\n",
              "      background-color: #E2EBFA;\n",
              "      box-shadow: 0px 1px 2px rgba(60, 64, 67, 0.3), 0px 1px 3px 1px rgba(60, 64, 67, 0.15);\n",
              "      fill: #174EA6;\n",
              "    }\n",
              "\n",
              "    .colab-df-buttons div {\n",
              "      margin-bottom: 4px;\n",
              "    }\n",
              "\n",
              "    [theme=dark] .colab-df-convert {\n",
              "      background-color: #3B4455;\n",
              "      fill: #D2E3FC;\n",
              "    }\n",
              "\n",
              "    [theme=dark] .colab-df-convert:hover {\n",
              "      background-color: #434B5C;\n",
              "      box-shadow: 0px 1px 3px 1px rgba(0, 0, 0, 0.15);\n",
              "      filter: drop-shadow(0px 1px 2px rgba(0, 0, 0, 0.3));\n",
              "      fill: #FFFFFF;\n",
              "    }\n",
              "  </style>\n",
              "\n",
              "    <script>\n",
              "      const buttonEl =\n",
              "        document.querySelector('#df-9964f93b-ae52-4404-8adb-3ce887c16269 button.colab-df-convert');\n",
              "      buttonEl.style.display =\n",
              "        google.colab.kernel.accessAllowed ? 'block' : 'none';\n",
              "\n",
              "      async function convertToInteractive(key) {\n",
              "        const element = document.querySelector('#df-9964f93b-ae52-4404-8adb-3ce887c16269');\n",
              "        const dataTable =\n",
              "          await google.colab.kernel.invokeFunction('convertToInteractive',\n",
              "                                                    [key], {});\n",
              "        if (!dataTable) return;\n",
              "\n",
              "        const docLinkHtml = 'Like what you see? Visit the ' +\n",
              "          '<a target=\"_blank\" href=https://colab.research.google.com/notebooks/data_table.ipynb>data table notebook</a>'\n",
              "          + ' to learn more about interactive tables.';\n",
              "        element.innerHTML = '';\n",
              "        dataTable['output_type'] = 'display_data';\n",
              "        await google.colab.output.renderOutput(dataTable, element);\n",
              "        const docLink = document.createElement('div');\n",
              "        docLink.innerHTML = docLinkHtml;\n",
              "        element.appendChild(docLink);\n",
              "      }\n",
              "    </script>\n",
              "  </div>\n",
              "\n",
              "\n",
              "<div id=\"df-1ada4d24-f604-4f16-a00e-f4c3404225b6\">\n",
              "  <button class=\"colab-df-quickchart\" onclick=\"quickchart('df-1ada4d24-f604-4f16-a00e-f4c3404225b6')\"\n",
              "            title=\"Suggest charts\"\n",
              "            style=\"display:none;\">\n",
              "\n",
              "<svg xmlns=\"http://www.w3.org/2000/svg\" height=\"24px\"viewBox=\"0 0 24 24\"\n",
              "     width=\"24px\">\n",
              "    <g>\n",
              "        <path d=\"M19 3H5c-1.1 0-2 .9-2 2v14c0 1.1.9 2 2 2h14c1.1 0 2-.9 2-2V5c0-1.1-.9-2-2-2zM9 17H7v-7h2v7zm4 0h-2V7h2v10zm4 0h-2v-4h2v4z\"/>\n",
              "    </g>\n",
              "</svg>\n",
              "  </button>\n",
              "\n",
              "<style>\n",
              "  .colab-df-quickchart {\n",
              "      --bg-color: #E8F0FE;\n",
              "      --fill-color: #1967D2;\n",
              "      --hover-bg-color: #E2EBFA;\n",
              "      --hover-fill-color: #174EA6;\n",
              "      --disabled-fill-color: #AAA;\n",
              "      --disabled-bg-color: #DDD;\n",
              "  }\n",
              "\n",
              "  [theme=dark] .colab-df-quickchart {\n",
              "      --bg-color: #3B4455;\n",
              "      --fill-color: #D2E3FC;\n",
              "      --hover-bg-color: #434B5C;\n",
              "      --hover-fill-color: #FFFFFF;\n",
              "      --disabled-bg-color: #3B4455;\n",
              "      --disabled-fill-color: #666;\n",
              "  }\n",
              "\n",
              "  .colab-df-quickchart {\n",
              "    background-color: var(--bg-color);\n",
              "    border: none;\n",
              "    border-radius: 50%;\n",
              "    cursor: pointer;\n",
              "    display: none;\n",
              "    fill: var(--fill-color);\n",
              "    height: 32px;\n",
              "    padding: 0;\n",
              "    width: 32px;\n",
              "  }\n",
              "\n",
              "  .colab-df-quickchart:hover {\n",
              "    background-color: var(--hover-bg-color);\n",
              "    box-shadow: 0 1px 2px rgba(60, 64, 67, 0.3), 0 1px 3px 1px rgba(60, 64, 67, 0.15);\n",
              "    fill: var(--button-hover-fill-color);\n",
              "  }\n",
              "\n",
              "  .colab-df-quickchart-complete:disabled,\n",
              "  .colab-df-quickchart-complete:disabled:hover {\n",
              "    background-color: var(--disabled-bg-color);\n",
              "    fill: var(--disabled-fill-color);\n",
              "    box-shadow: none;\n",
              "  }\n",
              "\n",
              "  .colab-df-spinner {\n",
              "    border: 2px solid var(--fill-color);\n",
              "    border-color: transparent;\n",
              "    border-bottom-color: var(--fill-color);\n",
              "    animation:\n",
              "      spin 1s steps(1) infinite;\n",
              "  }\n",
              "\n",
              "  @keyframes spin {\n",
              "    0% {\n",
              "      border-color: transparent;\n",
              "      border-bottom-color: var(--fill-color);\n",
              "      border-left-color: var(--fill-color);\n",
              "    }\n",
              "    20% {\n",
              "      border-color: transparent;\n",
              "      border-left-color: var(--fill-color);\n",
              "      border-top-color: var(--fill-color);\n",
              "    }\n",
              "    30% {\n",
              "      border-color: transparent;\n",
              "      border-left-color: var(--fill-color);\n",
              "      border-top-color: var(--fill-color);\n",
              "      border-right-color: var(--fill-color);\n",
              "    }\n",
              "    40% {\n",
              "      border-color: transparent;\n",
              "      border-right-color: var(--fill-color);\n",
              "      border-top-color: var(--fill-color);\n",
              "    }\n",
              "    60% {\n",
              "      border-color: transparent;\n",
              "      border-right-color: var(--fill-color);\n",
              "    }\n",
              "    80% {\n",
              "      border-color: transparent;\n",
              "      border-right-color: var(--fill-color);\n",
              "      border-bottom-color: var(--fill-color);\n",
              "    }\n",
              "    90% {\n",
              "      border-color: transparent;\n",
              "      border-bottom-color: var(--fill-color);\n",
              "    }\n",
              "  }\n",
              "</style>\n",
              "\n",
              "  <script>\n",
              "    async function quickchart(key) {\n",
              "      const quickchartButtonEl =\n",
              "        document.querySelector('#' + key + ' button');\n",
              "      quickchartButtonEl.disabled = true;  // To prevent multiple clicks.\n",
              "      quickchartButtonEl.classList.add('colab-df-spinner');\n",
              "      try {\n",
              "        const charts = await google.colab.kernel.invokeFunction(\n",
              "            'suggestCharts', [key], {});\n",
              "      } catch (error) {\n",
              "        console.error('Error during call to suggestCharts:', error);\n",
              "      }\n",
              "      quickchartButtonEl.classList.remove('colab-df-spinner');\n",
              "      quickchartButtonEl.classList.add('colab-df-quickchart-complete');\n",
              "    }\n",
              "    (() => {\n",
              "      let quickchartButtonEl =\n",
              "        document.querySelector('#df-1ada4d24-f604-4f16-a00e-f4c3404225b6 button');\n",
              "      quickchartButtonEl.style.display =\n",
              "        google.colab.kernel.accessAllowed ? 'block' : 'none';\n",
              "    })();\n",
              "  </script>\n",
              "</div>\n",
              "\n",
              "    </div>\n",
              "  </div>\n"
            ],
            "text/plain": [
              "               Q1          Q2          Q3          Q4          Q5          Q6  \\\n",
              "count  170.000000  170.000000  170.000000  170.000000  170.000000  170.000000   \n",
              "mean     1.776471    1.652941    1.764706    1.482353    1.541176    0.747059   \n",
              "std      1.627257    1.468654    1.415444    1.504327    1.632169    0.904046   \n",
              "min      0.000000    0.000000    0.000000    0.000000    0.000000    0.000000   \n",
              "25%      0.000000    0.000000    0.000000    0.000000    0.000000    0.000000   \n",
              "50%      2.000000    2.000000    2.000000    1.000000    1.000000    0.000000   \n",
              "75%      3.000000    3.000000    3.000000    3.000000    3.000000    1.000000   \n",
              "max      4.000000    4.000000    4.000000    4.000000    4.000000    4.000000   \n",
              "\n",
              "               Q7          Q8          Q9         Q10  ...         Q46  \\\n",
              "count  170.000000  170.000000  170.000000  170.000000  ...  170.000000   \n",
              "mean     0.494118    1.452941    1.458824    1.576471  ...    2.552941   \n",
              "std      0.898698    1.546371    1.557976    1.421529  ...    1.371786   \n",
              "min      0.000000    0.000000    0.000000    0.000000  ...    0.000000   \n",
              "25%      0.000000    0.000000    0.000000    0.000000  ...    2.000000   \n",
              "50%      0.000000    1.000000    1.000000    2.000000  ...    3.000000   \n",
              "75%      1.000000    3.000000    3.000000    3.000000  ...    4.000000   \n",
              "max      4.000000    4.000000    4.000000    4.000000  ...    4.000000   \n",
              "\n",
              "              Q47         Q48         Q49         Q50         Q51         Q52  \\\n",
              "count  170.000000  170.000000  170.000000  170.000000  170.000000  170.000000   \n",
              "mean     2.270588    2.741176    2.382353    2.429412    2.476471    2.517647   \n",
              "std      1.586841    1.137348    1.511587    1.405090    1.260238    1.476537   \n",
              "min      0.000000    0.000000    0.000000    0.000000    0.000000    0.000000   \n",
              "25%      1.000000    2.000000    1.000000    1.000000    2.000000    1.000000   \n",
              "50%      2.000000    3.000000    3.000000    2.000000    3.000000    3.000000   \n",
              "75%      4.000000    4.000000    4.000000    4.000000    4.000000    4.000000   \n",
              "max      4.000000    4.000000    4.000000    4.000000    4.000000    4.000000   \n",
              "\n",
              "              Q53         Q54     Divorce  \n",
              "count  170.000000  170.000000  170.000000  \n",
              "mean     2.241176    2.011765    0.494118  \n",
              "std      1.505634    1.667611    0.501442  \n",
              "min      0.000000    0.000000    0.000000  \n",
              "25%      1.000000    0.000000    0.000000  \n",
              "50%      2.000000    2.000000    0.000000  \n",
              "75%      4.000000    4.000000    1.000000  \n",
              "max      4.000000    4.000000    1.000000  \n",
              "\n",
              "[8 rows x 55 columns]"
            ]
          },
          "execution_count": 9,
          "metadata": {},
          "output_type": "execute_result"
        }
      ],
      "source": [
        "df.describe()"
      ]
    },
    {
      "cell_type": "markdown",
      "metadata": {
        "id": "ajEltwBRmBg2"
      },
      "source": [
        "*El resultado del comando df.describe() proporciona estadísticas descriptivas para el conjunto de datos, indicando que cada columna tiene 170 observaciones con valores mínimos y máximos entre 0 y 4, medias que varían entre aproximadamente 0.49 y 2.74, y diferentes percentiles que reflejan la dispersión de las respuestas. Esto sugiere una variabilidad considerable en las respuestas de las parejas y que los datos están bien distribuidos, lo cual es útil para análisis estadísticos más profundos.*"
      ]
    },
    {
      "cell_type": "markdown",
      "metadata": {
        "id": "sD2Mu40jsnTZ"
      },
      "source": [
        "**Identificar y manejar valores faltantes**"
      ]
    },
    {
      "cell_type": "code",
      "execution_count": null,
      "metadata": {
        "colab": {
          "base_uri": "https://localhost:8080/",
          "height": 1000
        },
        "id": "SfV9ByzestSv",
        "outputId": "59c2024c-9351-4af3-a88c-25a959473453"
      },
      "outputs": [
        {
          "data": {
            "text/html": [
              "<div>\n",
              "<style scoped>\n",
              "    .dataframe tbody tr th:only-of-type {\n",
              "        vertical-align: middle;\n",
              "    }\n",
              "\n",
              "    .dataframe tbody tr th {\n",
              "        vertical-align: top;\n",
              "    }\n",
              "\n",
              "    .dataframe thead th {\n",
              "        text-align: right;\n",
              "    }\n",
              "</style>\n",
              "<table border=\"1\" class=\"dataframe\">\n",
              "  <thead>\n",
              "    <tr style=\"text-align: right;\">\n",
              "      <th></th>\n",
              "      <th>0</th>\n",
              "    </tr>\n",
              "  </thead>\n",
              "  <tbody>\n",
              "    <tr>\n",
              "      <th>Q1</th>\n",
              "      <td>0</td>\n",
              "    </tr>\n",
              "    <tr>\n",
              "      <th>Q2</th>\n",
              "      <td>0</td>\n",
              "    </tr>\n",
              "    <tr>\n",
              "      <th>Q3</th>\n",
              "      <td>0</td>\n",
              "    </tr>\n",
              "    <tr>\n",
              "      <th>Q4</th>\n",
              "      <td>0</td>\n",
              "    </tr>\n",
              "    <tr>\n",
              "      <th>Q5</th>\n",
              "      <td>0</td>\n",
              "    </tr>\n",
              "    <tr>\n",
              "      <th>Q6</th>\n",
              "      <td>0</td>\n",
              "    </tr>\n",
              "    <tr>\n",
              "      <th>Q7</th>\n",
              "      <td>0</td>\n",
              "    </tr>\n",
              "    <tr>\n",
              "      <th>Q8</th>\n",
              "      <td>0</td>\n",
              "    </tr>\n",
              "    <tr>\n",
              "      <th>Q9</th>\n",
              "      <td>0</td>\n",
              "    </tr>\n",
              "    <tr>\n",
              "      <th>Q10</th>\n",
              "      <td>0</td>\n",
              "    </tr>\n",
              "    <tr>\n",
              "      <th>Q11</th>\n",
              "      <td>0</td>\n",
              "    </tr>\n",
              "    <tr>\n",
              "      <th>Q12</th>\n",
              "      <td>0</td>\n",
              "    </tr>\n",
              "    <tr>\n",
              "      <th>Q13</th>\n",
              "      <td>0</td>\n",
              "    </tr>\n",
              "    <tr>\n",
              "      <th>Q14</th>\n",
              "      <td>0</td>\n",
              "    </tr>\n",
              "    <tr>\n",
              "      <th>Q15</th>\n",
              "      <td>0</td>\n",
              "    </tr>\n",
              "    <tr>\n",
              "      <th>Q16</th>\n",
              "      <td>0</td>\n",
              "    </tr>\n",
              "    <tr>\n",
              "      <th>Q17</th>\n",
              "      <td>0</td>\n",
              "    </tr>\n",
              "    <tr>\n",
              "      <th>Q18</th>\n",
              "      <td>0</td>\n",
              "    </tr>\n",
              "    <tr>\n",
              "      <th>Q19</th>\n",
              "      <td>0</td>\n",
              "    </tr>\n",
              "    <tr>\n",
              "      <th>Q20</th>\n",
              "      <td>0</td>\n",
              "    </tr>\n",
              "    <tr>\n",
              "      <th>Q21</th>\n",
              "      <td>0</td>\n",
              "    </tr>\n",
              "    <tr>\n",
              "      <th>Q22</th>\n",
              "      <td>0</td>\n",
              "    </tr>\n",
              "    <tr>\n",
              "      <th>Q23</th>\n",
              "      <td>0</td>\n",
              "    </tr>\n",
              "    <tr>\n",
              "      <th>Q24</th>\n",
              "      <td>0</td>\n",
              "    </tr>\n",
              "    <tr>\n",
              "      <th>Q25</th>\n",
              "      <td>0</td>\n",
              "    </tr>\n",
              "    <tr>\n",
              "      <th>Q26</th>\n",
              "      <td>0</td>\n",
              "    </tr>\n",
              "    <tr>\n",
              "      <th>Q27</th>\n",
              "      <td>0</td>\n",
              "    </tr>\n",
              "    <tr>\n",
              "      <th>Q28</th>\n",
              "      <td>0</td>\n",
              "    </tr>\n",
              "    <tr>\n",
              "      <th>Q29</th>\n",
              "      <td>0</td>\n",
              "    </tr>\n",
              "    <tr>\n",
              "      <th>Q30</th>\n",
              "      <td>0</td>\n",
              "    </tr>\n",
              "    <tr>\n",
              "      <th>Q31</th>\n",
              "      <td>0</td>\n",
              "    </tr>\n",
              "    <tr>\n",
              "      <th>Q32</th>\n",
              "      <td>0</td>\n",
              "    </tr>\n",
              "    <tr>\n",
              "      <th>Q33</th>\n",
              "      <td>0</td>\n",
              "    </tr>\n",
              "    <tr>\n",
              "      <th>Q34</th>\n",
              "      <td>0</td>\n",
              "    </tr>\n",
              "    <tr>\n",
              "      <th>Q35</th>\n",
              "      <td>0</td>\n",
              "    </tr>\n",
              "    <tr>\n",
              "      <th>Q36</th>\n",
              "      <td>0</td>\n",
              "    </tr>\n",
              "    <tr>\n",
              "      <th>Q37</th>\n",
              "      <td>0</td>\n",
              "    </tr>\n",
              "    <tr>\n",
              "      <th>Q38</th>\n",
              "      <td>0</td>\n",
              "    </tr>\n",
              "    <tr>\n",
              "      <th>Q39</th>\n",
              "      <td>0</td>\n",
              "    </tr>\n",
              "    <tr>\n",
              "      <th>Q40</th>\n",
              "      <td>0</td>\n",
              "    </tr>\n",
              "    <tr>\n",
              "      <th>Q41</th>\n",
              "      <td>0</td>\n",
              "    </tr>\n",
              "    <tr>\n",
              "      <th>Q42</th>\n",
              "      <td>0</td>\n",
              "    </tr>\n",
              "    <tr>\n",
              "      <th>Q43</th>\n",
              "      <td>0</td>\n",
              "    </tr>\n",
              "    <tr>\n",
              "      <th>Q44</th>\n",
              "      <td>0</td>\n",
              "    </tr>\n",
              "    <tr>\n",
              "      <th>Q45</th>\n",
              "      <td>0</td>\n",
              "    </tr>\n",
              "    <tr>\n",
              "      <th>Q46</th>\n",
              "      <td>0</td>\n",
              "    </tr>\n",
              "    <tr>\n",
              "      <th>Q47</th>\n",
              "      <td>0</td>\n",
              "    </tr>\n",
              "    <tr>\n",
              "      <th>Q48</th>\n",
              "      <td>0</td>\n",
              "    </tr>\n",
              "    <tr>\n",
              "      <th>Q49</th>\n",
              "      <td>0</td>\n",
              "    </tr>\n",
              "    <tr>\n",
              "      <th>Q50</th>\n",
              "      <td>0</td>\n",
              "    </tr>\n",
              "    <tr>\n",
              "      <th>Q51</th>\n",
              "      <td>0</td>\n",
              "    </tr>\n",
              "    <tr>\n",
              "      <th>Q52</th>\n",
              "      <td>0</td>\n",
              "    </tr>\n",
              "    <tr>\n",
              "      <th>Q53</th>\n",
              "      <td>0</td>\n",
              "    </tr>\n",
              "    <tr>\n",
              "      <th>Q54</th>\n",
              "      <td>0</td>\n",
              "    </tr>\n",
              "    <tr>\n",
              "      <th>Divorce</th>\n",
              "      <td>0</td>\n",
              "    </tr>\n",
              "  </tbody>\n",
              "</table>\n",
              "</div><br><label><b>dtype:</b> int64</label>"
            ],
            "text/plain": [
              "Q1         0\n",
              "Q2         0\n",
              "Q3         0\n",
              "Q4         0\n",
              "Q5         0\n",
              "Q6         0\n",
              "Q7         0\n",
              "Q8         0\n",
              "Q9         0\n",
              "Q10        0\n",
              "Q11        0\n",
              "Q12        0\n",
              "Q13        0\n",
              "Q14        0\n",
              "Q15        0\n",
              "Q16        0\n",
              "Q17        0\n",
              "Q18        0\n",
              "Q19        0\n",
              "Q20        0\n",
              "Q21        0\n",
              "Q22        0\n",
              "Q23        0\n",
              "Q24        0\n",
              "Q25        0\n",
              "Q26        0\n",
              "Q27        0\n",
              "Q28        0\n",
              "Q29        0\n",
              "Q30        0\n",
              "Q31        0\n",
              "Q32        0\n",
              "Q33        0\n",
              "Q34        0\n",
              "Q35        0\n",
              "Q36        0\n",
              "Q37        0\n",
              "Q38        0\n",
              "Q39        0\n",
              "Q40        0\n",
              "Q41        0\n",
              "Q42        0\n",
              "Q43        0\n",
              "Q44        0\n",
              "Q45        0\n",
              "Q46        0\n",
              "Q47        0\n",
              "Q48        0\n",
              "Q49        0\n",
              "Q50        0\n",
              "Q51        0\n",
              "Q52        0\n",
              "Q53        0\n",
              "Q54        0\n",
              "Divorce    0\n",
              "dtype: int64"
            ]
          },
          "execution_count": 10,
          "metadata": {},
          "output_type": "execute_result"
        }
      ],
      "source": [
        "df.isnull().sum()"
      ]
    },
    {
      "cell_type": "markdown",
      "metadata": {
        "id": "CGqCNnnXmO-P"
      },
      "source": [
        "*El comando df.isnull().sum() muestra que el dataset no tiene valores nulos.*"
      ]
    },
    {
      "cell_type": "markdown",
      "metadata": {
        "id": "4Dj1cuZws2mN"
      },
      "source": [
        "**Manejar valores faltantes**"
      ]
    },
    {
      "cell_type": "code",
      "execution_count": null,
      "metadata": {
        "id": "9bUmBx0Ss2Su"
      },
      "outputs": [],
      "source": [
        "#Eliminar filas con valores faltantes\n",
        "#df=df.dropna()\n",
        "#Rellenar valores faltantes\n",
        "#df=df.fillna(method='ffill')"
      ]
    },
    {
      "cell_type": "markdown",
      "metadata": {
        "id": "tfzFjyL0mYA0"
      },
      "source": [
        "*El comando df.dropna() elimina todas las filas que contienen valores nulos en el dataset. Pero como el dataset no contiene valores nulos no es necesario eliminar ni rellenar.*"
      ]
    },
    {
      "cell_type": "code",
      "execution_count": null,
      "metadata": {
        "colab": {
          "base_uri": "https://localhost:8080/",
          "height": 423
        },
        "id": "Kmn_YgHNj2O4",
        "outputId": "65d76050-cf4d-4c37-b1a4-76f703dbf074"
      },
      "outputs": [
        {
          "data": {
            "application/vnd.google.colaboratory.intrinsic+json": {
              "type": "dataframe",
              "variable_name": "df"
            },
            "text/html": [
              "\n",
              "  <div id=\"df-967924cb-abf3-445f-927a-ba481cc88f80\" class=\"colab-df-container\">\n",
              "    <div>\n",
              "<style scoped>\n",
              "    .dataframe tbody tr th:only-of-type {\n",
              "        vertical-align: middle;\n",
              "    }\n",
              "\n",
              "    .dataframe tbody tr th {\n",
              "        vertical-align: top;\n",
              "    }\n",
              "\n",
              "    .dataframe thead th {\n",
              "        text-align: right;\n",
              "    }\n",
              "</style>\n",
              "<table border=\"1\" class=\"dataframe\">\n",
              "  <thead>\n",
              "    <tr style=\"text-align: right;\">\n",
              "      <th></th>\n",
              "      <th>Q1</th>\n",
              "      <th>Q2</th>\n",
              "      <th>Q3</th>\n",
              "      <th>Q4</th>\n",
              "      <th>Q5</th>\n",
              "      <th>Q6</th>\n",
              "      <th>Q7</th>\n",
              "      <th>Q8</th>\n",
              "      <th>Q9</th>\n",
              "      <th>Q10</th>\n",
              "      <th>...</th>\n",
              "      <th>Q46</th>\n",
              "      <th>Q47</th>\n",
              "      <th>Q48</th>\n",
              "      <th>Q49</th>\n",
              "      <th>Q50</th>\n",
              "      <th>Q51</th>\n",
              "      <th>Q52</th>\n",
              "      <th>Q53</th>\n",
              "      <th>Q54</th>\n",
              "      <th>Divorce</th>\n",
              "    </tr>\n",
              "  </thead>\n",
              "  <tbody>\n",
              "    <tr>\n",
              "      <th>0</th>\n",
              "      <td>2</td>\n",
              "      <td>2</td>\n",
              "      <td>4</td>\n",
              "      <td>1</td>\n",
              "      <td>0</td>\n",
              "      <td>0</td>\n",
              "      <td>0</td>\n",
              "      <td>0</td>\n",
              "      <td>0</td>\n",
              "      <td>0</td>\n",
              "      <td>...</td>\n",
              "      <td>2</td>\n",
              "      <td>1</td>\n",
              "      <td>3</td>\n",
              "      <td>3</td>\n",
              "      <td>3</td>\n",
              "      <td>2</td>\n",
              "      <td>3</td>\n",
              "      <td>2</td>\n",
              "      <td>1</td>\n",
              "      <td>1</td>\n",
              "    </tr>\n",
              "    <tr>\n",
              "      <th>1</th>\n",
              "      <td>4</td>\n",
              "      <td>4</td>\n",
              "      <td>4</td>\n",
              "      <td>4</td>\n",
              "      <td>4</td>\n",
              "      <td>0</td>\n",
              "      <td>0</td>\n",
              "      <td>4</td>\n",
              "      <td>4</td>\n",
              "      <td>4</td>\n",
              "      <td>...</td>\n",
              "      <td>2</td>\n",
              "      <td>2</td>\n",
              "      <td>3</td>\n",
              "      <td>4</td>\n",
              "      <td>4</td>\n",
              "      <td>4</td>\n",
              "      <td>4</td>\n",
              "      <td>2</td>\n",
              "      <td>2</td>\n",
              "      <td>1</td>\n",
              "    </tr>\n",
              "    <tr>\n",
              "      <th>2</th>\n",
              "      <td>2</td>\n",
              "      <td>2</td>\n",
              "      <td>2</td>\n",
              "      <td>2</td>\n",
              "      <td>1</td>\n",
              "      <td>3</td>\n",
              "      <td>2</td>\n",
              "      <td>1</td>\n",
              "      <td>1</td>\n",
              "      <td>2</td>\n",
              "      <td>...</td>\n",
              "      <td>3</td>\n",
              "      <td>2</td>\n",
              "      <td>3</td>\n",
              "      <td>1</td>\n",
              "      <td>1</td>\n",
              "      <td>1</td>\n",
              "      <td>2</td>\n",
              "      <td>2</td>\n",
              "      <td>2</td>\n",
              "      <td>1</td>\n",
              "    </tr>\n",
              "    <tr>\n",
              "      <th>3</th>\n",
              "      <td>3</td>\n",
              "      <td>2</td>\n",
              "      <td>3</td>\n",
              "      <td>2</td>\n",
              "      <td>3</td>\n",
              "      <td>3</td>\n",
              "      <td>3</td>\n",
              "      <td>3</td>\n",
              "      <td>3</td>\n",
              "      <td>3</td>\n",
              "      <td>...</td>\n",
              "      <td>2</td>\n",
              "      <td>2</td>\n",
              "      <td>3</td>\n",
              "      <td>3</td>\n",
              "      <td>3</td>\n",
              "      <td>3</td>\n",
              "      <td>2</td>\n",
              "      <td>2</td>\n",
              "      <td>2</td>\n",
              "      <td>1</td>\n",
              "    </tr>\n",
              "    <tr>\n",
              "      <th>4</th>\n",
              "      <td>2</td>\n",
              "      <td>2</td>\n",
              "      <td>1</td>\n",
              "      <td>1</td>\n",
              "      <td>1</td>\n",
              "      <td>1</td>\n",
              "      <td>0</td>\n",
              "      <td>0</td>\n",
              "      <td>0</td>\n",
              "      <td>0</td>\n",
              "      <td>...</td>\n",
              "      <td>2</td>\n",
              "      <td>1</td>\n",
              "      <td>2</td>\n",
              "      <td>3</td>\n",
              "      <td>2</td>\n",
              "      <td>2</td>\n",
              "      <td>2</td>\n",
              "      <td>1</td>\n",
              "      <td>0</td>\n",
              "      <td>1</td>\n",
              "    </tr>\n",
              "    <tr>\n",
              "      <th>...</th>\n",
              "      <td>...</td>\n",
              "      <td>...</td>\n",
              "      <td>...</td>\n",
              "      <td>...</td>\n",
              "      <td>...</td>\n",
              "      <td>...</td>\n",
              "      <td>...</td>\n",
              "      <td>...</td>\n",
              "      <td>...</td>\n",
              "      <td>...</td>\n",
              "      <td>...</td>\n",
              "      <td>...</td>\n",
              "      <td>...</td>\n",
              "      <td>...</td>\n",
              "      <td>...</td>\n",
              "      <td>...</td>\n",
              "      <td>...</td>\n",
              "      <td>...</td>\n",
              "      <td>...</td>\n",
              "      <td>...</td>\n",
              "      <td>...</td>\n",
              "    </tr>\n",
              "    <tr>\n",
              "      <th>165</th>\n",
              "      <td>0</td>\n",
              "      <td>0</td>\n",
              "      <td>0</td>\n",
              "      <td>0</td>\n",
              "      <td>0</td>\n",
              "      <td>0</td>\n",
              "      <td>0</td>\n",
              "      <td>0</td>\n",
              "      <td>0</td>\n",
              "      <td>0</td>\n",
              "      <td>...</td>\n",
              "      <td>1</td>\n",
              "      <td>0</td>\n",
              "      <td>4</td>\n",
              "      <td>1</td>\n",
              "      <td>1</td>\n",
              "      <td>4</td>\n",
              "      <td>2</td>\n",
              "      <td>2</td>\n",
              "      <td>2</td>\n",
              "      <td>0</td>\n",
              "    </tr>\n",
              "    <tr>\n",
              "      <th>166</th>\n",
              "      <td>0</td>\n",
              "      <td>0</td>\n",
              "      <td>0</td>\n",
              "      <td>0</td>\n",
              "      <td>0</td>\n",
              "      <td>0</td>\n",
              "      <td>0</td>\n",
              "      <td>0</td>\n",
              "      <td>0</td>\n",
              "      <td>0</td>\n",
              "      <td>...</td>\n",
              "      <td>4</td>\n",
              "      <td>1</td>\n",
              "      <td>2</td>\n",
              "      <td>2</td>\n",
              "      <td>2</td>\n",
              "      <td>2</td>\n",
              "      <td>3</td>\n",
              "      <td>2</td>\n",
              "      <td>2</td>\n",
              "      <td>0</td>\n",
              "    </tr>\n",
              "    <tr>\n",
              "      <th>167</th>\n",
              "      <td>1</td>\n",
              "      <td>1</td>\n",
              "      <td>0</td>\n",
              "      <td>0</td>\n",
              "      <td>0</td>\n",
              "      <td>0</td>\n",
              "      <td>0</td>\n",
              "      <td>0</td>\n",
              "      <td>0</td>\n",
              "      <td>1</td>\n",
              "      <td>...</td>\n",
              "      <td>3</td>\n",
              "      <td>0</td>\n",
              "      <td>2</td>\n",
              "      <td>0</td>\n",
              "      <td>1</td>\n",
              "      <td>1</td>\n",
              "      <td>3</td>\n",
              "      <td>0</td>\n",
              "      <td>0</td>\n",
              "      <td>0</td>\n",
              "    </tr>\n",
              "    <tr>\n",
              "      <th>168</th>\n",
              "      <td>0</td>\n",
              "      <td>0</td>\n",
              "      <td>0</td>\n",
              "      <td>0</td>\n",
              "      <td>0</td>\n",
              "      <td>0</td>\n",
              "      <td>0</td>\n",
              "      <td>0</td>\n",
              "      <td>0</td>\n",
              "      <td>0</td>\n",
              "      <td>...</td>\n",
              "      <td>3</td>\n",
              "      <td>3</td>\n",
              "      <td>2</td>\n",
              "      <td>2</td>\n",
              "      <td>3</td>\n",
              "      <td>2</td>\n",
              "      <td>4</td>\n",
              "      <td>3</td>\n",
              "      <td>1</td>\n",
              "      <td>0</td>\n",
              "    </tr>\n",
              "    <tr>\n",
              "      <th>169</th>\n",
              "      <td>0</td>\n",
              "      <td>0</td>\n",
              "      <td>0</td>\n",
              "      <td>0</td>\n",
              "      <td>0</td>\n",
              "      <td>0</td>\n",
              "      <td>0</td>\n",
              "      <td>1</td>\n",
              "      <td>0</td>\n",
              "      <td>0</td>\n",
              "      <td>...</td>\n",
              "      <td>3</td>\n",
              "      <td>4</td>\n",
              "      <td>4</td>\n",
              "      <td>0</td>\n",
              "      <td>1</td>\n",
              "      <td>3</td>\n",
              "      <td>3</td>\n",
              "      <td>3</td>\n",
              "      <td>1</td>\n",
              "      <td>0</td>\n",
              "    </tr>\n",
              "  </tbody>\n",
              "</table>\n",
              "<p>170 rows × 55 columns</p>\n",
              "</div>\n",
              "    <div class=\"colab-df-buttons\">\n",
              "\n",
              "  <div class=\"colab-df-container\">\n",
              "    <button class=\"colab-df-convert\" onclick=\"convertToInteractive('df-967924cb-abf3-445f-927a-ba481cc88f80')\"\n",
              "            title=\"Convert this dataframe to an interactive table.\"\n",
              "            style=\"display:none;\">\n",
              "\n",
              "  <svg xmlns=\"http://www.w3.org/2000/svg\" height=\"24px\" viewBox=\"0 -960 960 960\">\n",
              "    <path d=\"M120-120v-720h720v720H120Zm60-500h600v-160H180v160Zm220 220h160v-160H400v160Zm0 220h160v-160H400v160ZM180-400h160v-160H180v160Zm440 0h160v-160H620v160ZM180-180h160v-160H180v160Zm440 0h160v-160H620v160Z\"/>\n",
              "  </svg>\n",
              "    </button>\n",
              "\n",
              "  <style>\n",
              "    .colab-df-container {\n",
              "      display:flex;\n",
              "      gap: 12px;\n",
              "    }\n",
              "\n",
              "    .colab-df-convert {\n",
              "      background-color: #E8F0FE;\n",
              "      border: none;\n",
              "      border-radius: 50%;\n",
              "      cursor: pointer;\n",
              "      display: none;\n",
              "      fill: #1967D2;\n",
              "      height: 32px;\n",
              "      padding: 0 0 0 0;\n",
              "      width: 32px;\n",
              "    }\n",
              "\n",
              "    .colab-df-convert:hover {\n",
              "      background-color: #E2EBFA;\n",
              "      box-shadow: 0px 1px 2px rgba(60, 64, 67, 0.3), 0px 1px 3px 1px rgba(60, 64, 67, 0.15);\n",
              "      fill: #174EA6;\n",
              "    }\n",
              "\n",
              "    .colab-df-buttons div {\n",
              "      margin-bottom: 4px;\n",
              "    }\n",
              "\n",
              "    [theme=dark] .colab-df-convert {\n",
              "      background-color: #3B4455;\n",
              "      fill: #D2E3FC;\n",
              "    }\n",
              "\n",
              "    [theme=dark] .colab-df-convert:hover {\n",
              "      background-color: #434B5C;\n",
              "      box-shadow: 0px 1px 3px 1px rgba(0, 0, 0, 0.15);\n",
              "      filter: drop-shadow(0px 1px 2px rgba(0, 0, 0, 0.3));\n",
              "      fill: #FFFFFF;\n",
              "    }\n",
              "  </style>\n",
              "\n",
              "    <script>\n",
              "      const buttonEl =\n",
              "        document.querySelector('#df-967924cb-abf3-445f-927a-ba481cc88f80 button.colab-df-convert');\n",
              "      buttonEl.style.display =\n",
              "        google.colab.kernel.accessAllowed ? 'block' : 'none';\n",
              "\n",
              "      async function convertToInteractive(key) {\n",
              "        const element = document.querySelector('#df-967924cb-abf3-445f-927a-ba481cc88f80');\n",
              "        const dataTable =\n",
              "          await google.colab.kernel.invokeFunction('convertToInteractive',\n",
              "                                                    [key], {});\n",
              "        if (!dataTable) return;\n",
              "\n",
              "        const docLinkHtml = 'Like what you see? Visit the ' +\n",
              "          '<a target=\"_blank\" href=https://colab.research.google.com/notebooks/data_table.ipynb>data table notebook</a>'\n",
              "          + ' to learn more about interactive tables.';\n",
              "        element.innerHTML = '';\n",
              "        dataTable['output_type'] = 'display_data';\n",
              "        await google.colab.output.renderOutput(dataTable, element);\n",
              "        const docLink = document.createElement('div');\n",
              "        docLink.innerHTML = docLinkHtml;\n",
              "        element.appendChild(docLink);\n",
              "      }\n",
              "    </script>\n",
              "  </div>\n",
              "\n",
              "\n",
              "<div id=\"df-ef639c39-ed7b-4093-9138-a291bf1b2656\">\n",
              "  <button class=\"colab-df-quickchart\" onclick=\"quickchart('df-ef639c39-ed7b-4093-9138-a291bf1b2656')\"\n",
              "            title=\"Suggest charts\"\n",
              "            style=\"display:none;\">\n",
              "\n",
              "<svg xmlns=\"http://www.w3.org/2000/svg\" height=\"24px\"viewBox=\"0 0 24 24\"\n",
              "     width=\"24px\">\n",
              "    <g>\n",
              "        <path d=\"M19 3H5c-1.1 0-2 .9-2 2v14c0 1.1.9 2 2 2h14c1.1 0 2-.9 2-2V5c0-1.1-.9-2-2-2zM9 17H7v-7h2v7zm4 0h-2V7h2v10zm4 0h-2v-4h2v4z\"/>\n",
              "    </g>\n",
              "</svg>\n",
              "  </button>\n",
              "\n",
              "<style>\n",
              "  .colab-df-quickchart {\n",
              "      --bg-color: #E8F0FE;\n",
              "      --fill-color: #1967D2;\n",
              "      --hover-bg-color: #E2EBFA;\n",
              "      --hover-fill-color: #174EA6;\n",
              "      --disabled-fill-color: #AAA;\n",
              "      --disabled-bg-color: #DDD;\n",
              "  }\n",
              "\n",
              "  [theme=dark] .colab-df-quickchart {\n",
              "      --bg-color: #3B4455;\n",
              "      --fill-color: #D2E3FC;\n",
              "      --hover-bg-color: #434B5C;\n",
              "      --hover-fill-color: #FFFFFF;\n",
              "      --disabled-bg-color: #3B4455;\n",
              "      --disabled-fill-color: #666;\n",
              "  }\n",
              "\n",
              "  .colab-df-quickchart {\n",
              "    background-color: var(--bg-color);\n",
              "    border: none;\n",
              "    border-radius: 50%;\n",
              "    cursor: pointer;\n",
              "    display: none;\n",
              "    fill: var(--fill-color);\n",
              "    height: 32px;\n",
              "    padding: 0;\n",
              "    width: 32px;\n",
              "  }\n",
              "\n",
              "  .colab-df-quickchart:hover {\n",
              "    background-color: var(--hover-bg-color);\n",
              "    box-shadow: 0 1px 2px rgba(60, 64, 67, 0.3), 0 1px 3px 1px rgba(60, 64, 67, 0.15);\n",
              "    fill: var(--button-hover-fill-color);\n",
              "  }\n",
              "\n",
              "  .colab-df-quickchart-complete:disabled,\n",
              "  .colab-df-quickchart-complete:disabled:hover {\n",
              "    background-color: var(--disabled-bg-color);\n",
              "    fill: var(--disabled-fill-color);\n",
              "    box-shadow: none;\n",
              "  }\n",
              "\n",
              "  .colab-df-spinner {\n",
              "    border: 2px solid var(--fill-color);\n",
              "    border-color: transparent;\n",
              "    border-bottom-color: var(--fill-color);\n",
              "    animation:\n",
              "      spin 1s steps(1) infinite;\n",
              "  }\n",
              "\n",
              "  @keyframes spin {\n",
              "    0% {\n",
              "      border-color: transparent;\n",
              "      border-bottom-color: var(--fill-color);\n",
              "      border-left-color: var(--fill-color);\n",
              "    }\n",
              "    20% {\n",
              "      border-color: transparent;\n",
              "      border-left-color: var(--fill-color);\n",
              "      border-top-color: var(--fill-color);\n",
              "    }\n",
              "    30% {\n",
              "      border-color: transparent;\n",
              "      border-left-color: var(--fill-color);\n",
              "      border-top-color: var(--fill-color);\n",
              "      border-right-color: var(--fill-color);\n",
              "    }\n",
              "    40% {\n",
              "      border-color: transparent;\n",
              "      border-right-color: var(--fill-color);\n",
              "      border-top-color: var(--fill-color);\n",
              "    }\n",
              "    60% {\n",
              "      border-color: transparent;\n",
              "      border-right-color: var(--fill-color);\n",
              "    }\n",
              "    80% {\n",
              "      border-color: transparent;\n",
              "      border-right-color: var(--fill-color);\n",
              "      border-bottom-color: var(--fill-color);\n",
              "    }\n",
              "    90% {\n",
              "      border-color: transparent;\n",
              "      border-bottom-color: var(--fill-color);\n",
              "    }\n",
              "  }\n",
              "</style>\n",
              "\n",
              "  <script>\n",
              "    async function quickchart(key) {\n",
              "      const quickchartButtonEl =\n",
              "        document.querySelector('#' + key + ' button');\n",
              "      quickchartButtonEl.disabled = true;  // To prevent multiple clicks.\n",
              "      quickchartButtonEl.classList.add('colab-df-spinner');\n",
              "      try {\n",
              "        const charts = await google.colab.kernel.invokeFunction(\n",
              "            'suggestCharts', [key], {});\n",
              "      } catch (error) {\n",
              "        console.error('Error during call to suggestCharts:', error);\n",
              "      }\n",
              "      quickchartButtonEl.classList.remove('colab-df-spinner');\n",
              "      quickchartButtonEl.classList.add('colab-df-quickchart-complete');\n",
              "    }\n",
              "    (() => {\n",
              "      let quickchartButtonEl =\n",
              "        document.querySelector('#df-ef639c39-ed7b-4093-9138-a291bf1b2656 button');\n",
              "      quickchartButtonEl.style.display =\n",
              "        google.colab.kernel.accessAllowed ? 'block' : 'none';\n",
              "    })();\n",
              "  </script>\n",
              "</div>\n",
              "\n",
              "  <div id=\"id_b0d2712f-03a0-44ac-8e59-bea8f5c0c630\">\n",
              "    <style>\n",
              "      .colab-df-generate {\n",
              "        background-color: #E8F0FE;\n",
              "        border: none;\n",
              "        border-radius: 50%;\n",
              "        cursor: pointer;\n",
              "        display: none;\n",
              "        fill: #1967D2;\n",
              "        height: 32px;\n",
              "        padding: 0 0 0 0;\n",
              "        width: 32px;\n",
              "      }\n",
              "\n",
              "      .colab-df-generate:hover {\n",
              "        background-color: #E2EBFA;\n",
              "        box-shadow: 0px 1px 2px rgba(60, 64, 67, 0.3), 0px 1px 3px 1px rgba(60, 64, 67, 0.15);\n",
              "        fill: #174EA6;\n",
              "      }\n",
              "\n",
              "      [theme=dark] .colab-df-generate {\n",
              "        background-color: #3B4455;\n",
              "        fill: #D2E3FC;\n",
              "      }\n",
              "\n",
              "      [theme=dark] .colab-df-generate:hover {\n",
              "        background-color: #434B5C;\n",
              "        box-shadow: 0px 1px 3px 1px rgba(0, 0, 0, 0.15);\n",
              "        filter: drop-shadow(0px 1px 2px rgba(0, 0, 0, 0.3));\n",
              "        fill: #FFFFFF;\n",
              "      }\n",
              "    </style>\n",
              "    <button class=\"colab-df-generate\" onclick=\"generateWithVariable('df')\"\n",
              "            title=\"Generate code using this dataframe.\"\n",
              "            style=\"display:none;\">\n",
              "\n",
              "  <svg xmlns=\"http://www.w3.org/2000/svg\" height=\"24px\"viewBox=\"0 0 24 24\"\n",
              "       width=\"24px\">\n",
              "    <path d=\"M7,19H8.4L18.45,9,17,7.55,7,17.6ZM5,21V16.75L18.45,3.32a2,2,0,0,1,2.83,0l1.4,1.43a1.91,1.91,0,0,1,.58,1.4,1.91,1.91,0,0,1-.58,1.4L9.25,21ZM18.45,9,17,7.55Zm-12,3A5.31,5.31,0,0,0,4.9,8.1,5.31,5.31,0,0,0,1,6.5,5.31,5.31,0,0,0,4.9,4.9,5.31,5.31,0,0,0,6.5,1,5.31,5.31,0,0,0,8.1,4.9,5.31,5.31,0,0,0,12,6.5,5.46,5.46,0,0,0,6.5,12Z\"/>\n",
              "  </svg>\n",
              "    </button>\n",
              "    <script>\n",
              "      (() => {\n",
              "      const buttonEl =\n",
              "        document.querySelector('#id_b0d2712f-03a0-44ac-8e59-bea8f5c0c630 button.colab-df-generate');\n",
              "      buttonEl.style.display =\n",
              "        google.colab.kernel.accessAllowed ? 'block' : 'none';\n",
              "\n",
              "      buttonEl.onclick = () => {\n",
              "        google.colab.notebook.generateWithVariable('df');\n",
              "      }\n",
              "      })();\n",
              "    </script>\n",
              "  </div>\n",
              "\n",
              "    </div>\n",
              "  </div>\n"
            ],
            "text/plain": [
              "     Q1  Q2  Q3  Q4  Q5  Q6  Q7  Q8  Q9  Q10  ...  Q46  Q47  Q48  Q49  Q50  \\\n",
              "0     2   2   4   1   0   0   0   0   0    0  ...    2    1    3    3    3   \n",
              "1     4   4   4   4   4   0   0   4   4    4  ...    2    2    3    4    4   \n",
              "2     2   2   2   2   1   3   2   1   1    2  ...    3    2    3    1    1   \n",
              "3     3   2   3   2   3   3   3   3   3    3  ...    2    2    3    3    3   \n",
              "4     2   2   1   1   1   1   0   0   0    0  ...    2    1    2    3    2   \n",
              "..   ..  ..  ..  ..  ..  ..  ..  ..  ..  ...  ...  ...  ...  ...  ...  ...   \n",
              "165   0   0   0   0   0   0   0   0   0    0  ...    1    0    4    1    1   \n",
              "166   0   0   0   0   0   0   0   0   0    0  ...    4    1    2    2    2   \n",
              "167   1   1   0   0   0   0   0   0   0    1  ...    3    0    2    0    1   \n",
              "168   0   0   0   0   0   0   0   0   0    0  ...    3    3    2    2    3   \n",
              "169   0   0   0   0   0   0   0   1   0    0  ...    3    4    4    0    1   \n",
              "\n",
              "     Q51  Q52  Q53  Q54  Divorce  \n",
              "0      2    3    2    1        1  \n",
              "1      4    4    2    2        1  \n",
              "2      1    2    2    2        1  \n",
              "3      3    2    2    2        1  \n",
              "4      2    2    1    0        1  \n",
              "..   ...  ...  ...  ...      ...  \n",
              "165    4    2    2    2        0  \n",
              "166    2    3    2    2        0  \n",
              "167    1    3    0    0        0  \n",
              "168    2    4    3    1        0  \n",
              "169    3    3    3    1        0  \n",
              "\n",
              "[170 rows x 55 columns]"
            ]
          },
          "execution_count": 12,
          "metadata": {},
          "output_type": "execute_result"
        }
      ],
      "source": [
        "df"
      ]
    },
    {
      "cell_type": "markdown",
      "metadata": {
        "id": "zuTpWASlm6h2"
      },
      "source": [
        "*El comando df muestra el estado actual del dataset tras el análisis, indicando que los datos están limpios, sin valores faltantes, y listos para su uso en futuros análisis.*"
      ]
    },
    {
      "cell_type": "markdown",
      "metadata": {
        "id": "QNF8cNAF0GxV"
      },
      "source": [
        "## **PROBLEMA COMERCIAL**\n",
        "---\n",
        "\n"
      ]
    },
    {
      "cell_type": "markdown",
      "metadata": {
        "id": "6BiTvq7W30A4"
      },
      "source": [
        "## **¿Qué comportamientos o actitudes (reflejados en las respuestas a Q1-Q54) se correlacionan más fuertemente con la probabilidad de que una pareja se divorcie (Divorce = 0) o permanezca casada (Divorce = 1)?**\n",
        "\n"
      ]
    },
    {
      "cell_type": "markdown",
      "metadata": {
        "id": "NiO9MgTH4R5R"
      },
      "source": [
        "### **Analisis Descriptivo de los datos**"
      ]
    },
    {
      "cell_type": "code",
      "execution_count": null,
      "metadata": {
        "colab": {
          "base_uri": "https://localhost:8080/"
        },
        "id": "o14EgDLz4YzO",
        "outputId": "95119278-937d-475e-dd5c-06b46706499c"
      },
      "outputs": [
        {
          "name": "stdout",
          "output_type": "stream",
          "text": [
            "Análisis descriptivo de los datos:\n",
            "               Q1          Q2          Q3          Q4          Q5          Q6  \\\n",
            "count  170.000000  170.000000  170.000000  170.000000  170.000000  170.000000   \n",
            "mean     1.776471    1.652941    1.764706    1.482353    1.541176    0.747059   \n",
            "std      1.627257    1.468654    1.415444    1.504327    1.632169    0.904046   \n",
            "min      0.000000    0.000000    0.000000    0.000000    0.000000    0.000000   \n",
            "25%      0.000000    0.000000    0.000000    0.000000    0.000000    0.000000   \n",
            "50%      2.000000    2.000000    2.000000    1.000000    1.000000    0.000000   \n",
            "75%      3.000000    3.000000    3.000000    3.000000    3.000000    1.000000   \n",
            "max      4.000000    4.000000    4.000000    4.000000    4.000000    4.000000   \n",
            "\n",
            "               Q7          Q8          Q9         Q10  ...         Q46  \\\n",
            "count  170.000000  170.000000  170.000000  170.000000  ...  170.000000   \n",
            "mean     0.494118    1.452941    1.458824    1.576471  ...    2.552941   \n",
            "std      0.898698    1.546371    1.557976    1.421529  ...    1.371786   \n",
            "min      0.000000    0.000000    0.000000    0.000000  ...    0.000000   \n",
            "25%      0.000000    0.000000    0.000000    0.000000  ...    2.000000   \n",
            "50%      0.000000    1.000000    1.000000    2.000000  ...    3.000000   \n",
            "75%      1.000000    3.000000    3.000000    3.000000  ...    4.000000   \n",
            "max      4.000000    4.000000    4.000000    4.000000  ...    4.000000   \n",
            "\n",
            "              Q47         Q48         Q49         Q50         Q51         Q52  \\\n",
            "count  170.000000  170.000000  170.000000  170.000000  170.000000  170.000000   \n",
            "mean     2.270588    2.741176    2.382353    2.429412    2.476471    2.517647   \n",
            "std      1.586841    1.137348    1.511587    1.405090    1.260238    1.476537   \n",
            "min      0.000000    0.000000    0.000000    0.000000    0.000000    0.000000   \n",
            "25%      1.000000    2.000000    1.000000    1.000000    2.000000    1.000000   \n",
            "50%      2.000000    3.000000    3.000000    2.000000    3.000000    3.000000   \n",
            "75%      4.000000    4.000000    4.000000    4.000000    4.000000    4.000000   \n",
            "max      4.000000    4.000000    4.000000    4.000000    4.000000    4.000000   \n",
            "\n",
            "              Q53         Q54     Divorce  \n",
            "count  170.000000  170.000000  170.000000  \n",
            "mean     2.241176    2.011765    0.494118  \n",
            "std      1.505634    1.667611    0.501442  \n",
            "min      0.000000    0.000000    0.000000  \n",
            "25%      1.000000    0.000000    0.000000  \n",
            "50%      2.000000    2.000000    0.000000  \n",
            "75%      4.000000    4.000000    1.000000  \n",
            "max      4.000000    4.000000    1.000000  \n",
            "\n",
            "[8 rows x 55 columns]\n"
          ]
        }
      ],
      "source": [
        "print(\"Análisis descriptivo de los datos:\")\n",
        "print(df.describe())"
      ]
    },
    {
      "cell_type": "markdown",
      "metadata": {
        "id": "f_kv-KZX4hOU"
      },
      "source": [
        "*La mayoría de las preguntas presentan una amplia variabilidad en las respuestas, con desviaciones estándar significativas y valores que cubren todo el rango de la escala (0 a 4). Esto sugiere que hay una diversidad considerable en cómo las parejas perciben y experimentan su relación.*\n",
        "\n",
        "*La variable \"Divorce\" está distribuida casi de manera uniforme, con un 49.4% de las parejas habiendo experimentado el divorcio. Esto sugiere que el dataset tiene una buena representación tanto de parejas divorciadas como de aquellas que permanecieron juntas, lo que es útil para el análisis comparativo y la predicción.*\n",
        "\n",
        "*Los resultados sugieren que existe una mezcla significativa de comportamientos positivos y negativos en las relaciones de las parejas encuestadas. Los comportamientos durante las discusiones, incluyendo el uso de insultos y la tendencia a evitar conflictos, parecen ser factores clave que podrían estar relacionados con el desenlace de la relación, ya sea la estabilidad o el divorcio.*"
      ]
    },
    {
      "cell_type": "markdown",
      "metadata": {
        "id": "2tNEVp6x4rkA"
      },
      "source": [
        "#### **Crear nuevas columnas calculadas a partir de las existentes.**\n",
        "\n",
        "Se crean nuevas columnas basadas en promedios de respuestas para diferentes categorías de preguntas, permitiendo un análisis más enfocado en diferentes aspectos de la relación"
      ]
    },
    {
      "cell_type": "code",
      "execution_count": null,
      "metadata": {
        "colab": {
          "base_uri": "https://localhost:8080/"
        },
        "id": "6WSR8fzv4v6v",
        "outputId": "7c50b08f-09da-4736-f28f-0b0b2470f954"
      },
      "outputs": [
        {
          "name": "stdout",
          "output_type": "stream",
          "text": [
            "\n",
            "Primeras filas con nuevas columnas calculadas:\n",
            "   Q1  Q2  Q3  Q4  Q5  Q6  Q7  Q8  Q9  Q10  ...  Q52  Q53  Q54  Divorce  \\\n",
            "0   2   2   4   1   0   0   0   0   0    0  ...    3    2    1        1   \n",
            "1   4   4   4   4   4   0   0   4   4    4  ...    4    2    2        1   \n",
            "2   2   2   2   2   1   3   2   1   1    2  ...    2    2    2        1   \n",
            "3   3   2   3   2   3   3   3   3   3    3  ...    2    2    2        1   \n",
            "4   2   2   1   1   1   1   0   0   0    0  ...    2    1    0        1   \n",
            "\n",
            "   Puntaje_Aspectos_Positivos  Puntaje_Conexion_Emocional  \\\n",
            "0                         1.8                         0.3   \n",
            "1                         4.0                         2.7   \n",
            "2                         1.8                         2.4   \n",
            "3                         2.6                         3.2   \n",
            "4                         1.4                         0.4   \n",
            "\n",
            "   Puntaje_Conocimiento_Mutuo  Puntaje_Comportamientos_Negativos  \\\n",
            "0                    0.200000                           1.636364   \n",
            "1                    1.866667                           2.363636   \n",
            "2                    2.066667                           2.000000   \n",
            "3                    1.933333                           2.454545   \n",
            "4                    0.933333                           0.636364   \n",
            "\n",
            "   Puntaje_Evitacion_Conflictos  Puntaje_Critica  \n",
            "0                           2.1         2.000000  \n",
            "1                           3.0         2.666667  \n",
            "2                           2.1         2.000000  \n",
            "3                           2.6         2.000000  \n",
            "4                           1.9         1.000000  \n",
            "\n",
            "[5 rows x 61 columns]\n"
          ]
        }
      ],
      "source": [
        "# Crear puntajes agregados para diferentes categorías de preguntas\n",
        "df['Puntaje_Aspectos_Positivos'] = df[['Q1', 'Q2', 'Q3', 'Q4', 'Q5']].mean(axis=1)\n",
        "df['Puntaje_Conexion_Emocional'] = df[['Q6', 'Q7', 'Q8', 'Q9', 'Q10', 'Q11', 'Q12', 'Q13', 'Q14', 'Q15']].mean(axis=1)\n",
        "df['Puntaje_Conocimiento_Mutuo'] = df[['Q16', 'Q17', 'Q18', 'Q19', 'Q20', 'Q21', 'Q22', 'Q23', 'Q24', 'Q25', 'Q26', 'Q27', 'Q28', 'Q29', 'Q30']].mean(axis=1)\n",
        "df['Puntaje_Comportamientos_Negativos'] = df[['Q31', 'Q32', 'Q33', 'Q34', 'Q35', 'Q36', 'Q37', 'Q38', 'Q39', 'Q40', 'Q41']].mean(axis=1)\n",
        "df['Puntaje_Evitacion_Conflictos'] = df[['Q42', 'Q43', 'Q44', 'Q45', 'Q46', 'Q47', 'Q48', 'Q49', 'Q50', 'Q51']].mean(axis=1)\n",
        "df['Puntaje_Critica'] = df[['Q52', 'Q53', 'Q54']].mean(axis=1)\n",
        "\n",
        "print(\"\\nPrimeras filas con nuevas columnas calculadas:\")\n",
        "print(df.head())"
      ]
    },
    {
      "cell_type": "markdown",
      "metadata": {
        "id": "mVGzk-yY43Kg"
      },
      "source": [
        "*El análisis realizado generó nuevas columnas en el dataset que resumen diferentes aspectos de las relaciones de pareja a través de puntajes agregados. Estas columnas son:*\n",
        "* *Puntaje_Aspectos_Positivos: Representa la puntuación media de los aspectos positivos en la relación, como la capacidad de resolver conflictos y disfrutar del tiempo juntos.*\n",
        "\n",
        "* *Puntaje_Conexion_Emocional: Indica la puntuación media relacionada con la conexión emocional y los intereses compartidos entre los cónyuges.*\n",
        "\n",
        "* *Puntaje_Conocimiento_Mutuo: Resume la puntuación media sobre el conocimiento mutuo entre los cónyuges, como las preferencias y preocupaciones del otro.*\n",
        "\n",
        "* *Puntaje_Comportamientos_Negativos: Refleja la puntuación media de los comportamientos negativos durante las discusiones, como el uso de insultos o la agresividad.*\n",
        "* *Puntaje_Evitacion_Conflictos: Indica la tendencia media de un cónyuge a evitar discusiones o permanecer en silencio para calmar la situación.*\n",
        "* *Puntaje_Critica: Evalúa la tendencia media de uno de los cónyuges a criticar o menospreciar al otro durante las discusiones.*\n",
        "\n",
        "*Las primeras filas del dataset muestran la diversidad en los puntajes agregados entre diferentes parejas, lo que sugiere variaciones significativas en cómo las parejas experimentan y manejan diferentes aspectos de su relación. Estos puntajes agregados proporcionan una forma más concisa de analizar y comparar los factores que pueden influir en la probabilidad de divorcio, facilitando la identificación de patrones y relaciones dentro del dataset.*"
      ]
    },
    {
      "cell_type": "markdown",
      "metadata": {
        "id": "xs1aqOWr47vM"
      },
      "source": [
        "#### **Agrupar Datos y Aplicar Funciones de Agregación**\n",
        "\n",
        "Agrupar por el estado de divorcio y calcular la media de los puntajes"
      ]
    },
    {
      "cell_type": "code",
      "execution_count": null,
      "metadata": {
        "colab": {
          "base_uri": "https://localhost:8080/"
        },
        "id": "nTVTcJpS5DUl",
        "outputId": "51894069-a151-434b-fc2f-7391019518ed"
      },
      "outputs": [
        {
          "name": "stdout",
          "output_type": "stream",
          "text": [
            "\n",
            "Media de puntajes agrupados por estado de divorcio (0: Divorciados, 1: Casados):\n",
            "         Puntaje_Aspectos_Positivos  Puntaje_Conexion_Emocional  \\\n",
            "Divorce                                                           \n",
            "0                          0.374419                    0.269767   \n",
            "1                          2.942857                    2.566667   \n",
            "\n",
            "         Puntaje_Conocimiento_Mutuo  Puntaje_Comportamientos_Negativos  \\\n",
            "Divorce                                                                  \n",
            "0                          0.151163                           0.435518   \n",
            "1                          2.829365                           3.429654   \n",
            "\n",
            "         Puntaje_Evitacion_Conflictos  Puntaje_Critica  \n",
            "Divorce                                                 \n",
            "0                            1.467442         1.147287  \n",
            "1                            3.378571         3.392857  \n"
          ]
        }
      ],
      "source": [
        "grupo_divorcio = df.groupby('Divorce').mean()\n",
        "print(\"\\nMedia de puntajes agrupados por estado de divorcio (0: Divorciados, 1: Casados):\")\n",
        "print(grupo_divorcio[['Puntaje_Aspectos_Positivos', 'Puntaje_Conexion_Emocional', 'Puntaje_Conocimiento_Mutuo',\n",
        "                      'Puntaje_Comportamientos_Negativos', 'Puntaje_Evitacion_Conflictos', 'Puntaje_Critica']])"
      ]
    },
    {
      "cell_type": "markdown",
      "metadata": {
        "id": "PcyeE8ym5IPm"
      },
      "source": [
        "#### Filtrar datos según criterios específicos\n",
        "Se filtran parejas con altos puntajes en comportamientos negativos y que están divorciadas para un análisis más detallado."
      ]
    },
    {
      "cell_type": "code",
      "execution_count": null,
      "metadata": {
        "colab": {
          "base_uri": "https://localhost:8080/"
        },
        "id": "NnhViExc5Hyo",
        "outputId": "195e12af-fb89-4992-f634-659bcc9272df"
      },
      "outputs": [
        {
          "name": "stdout",
          "output_type": "stream",
          "text": [
            "\n",
            "Parejas con puntajes altos en puntaje_aspectos_positivos y que están divorciados:\n",
            "     Q1  Q2  Q3  Q4  Q5  Q6  Q7  Q8  Q9  Q10  ...  Q52  Q53  Q54  Divorce  \\\n",
            "88    4   0   3   4   0   0   0   0   0    0  ...    0    0    0        0   \n",
            "142   4   3   4   4   0   0   0   0   0    0  ...    0    0    0        0   \n",
            "\n",
            "     Puntaje_Aspectos_Positivos  Puntaje_Conexion_Emocional  \\\n",
            "88                          2.2                         0.0   \n",
            "142                         3.0                         0.0   \n",
            "\n",
            "     Puntaje_Conocimiento_Mutuo  Puntaje_Comportamientos_Negativos  \\\n",
            "88                     0.000000                                0.0   \n",
            "142                    0.133333                                0.0   \n",
            "\n",
            "     Puntaje_Evitacion_Conflictos  Puntaje_Critica  \n",
            "88                            0.4              0.0  \n",
            "142                           1.6              0.0  \n",
            "\n",
            "[2 rows x 61 columns]\n"
          ]
        }
      ],
      "source": [
        "# Definir variables para representar los estados de las parejas\n",
        "Divorciados = 0\n",
        "Casados = 1\n",
        "estado_pareja = \"Divorciados\" # @param ['Casados', 'Divorciados'] {allow-input: true}\n",
        "puntaje_seleccionado = 'Puntaje_Aspectos_Positivos' # @param ['Puntaje_Aspectos_Positivos','Puntaje_Conexion_Emocional','Puntaje_Conocimiento_Mutuo','Puntaje_Comportamientos_Negativos','Puntaje_Evitacion_Conflictos','Puntaje_Critica']\n",
        "puntos_minimos = 2 # @param {\"type\":\"number\",\"placeholder\":\"0\"}\n",
        "\n",
        "# Filtrar parejas con puntajes altos en comportamientos negativos y estado civil seleccionado\n",
        "parejas_filtradas = df[(df[puntaje_seleccionado] > puntos_minimos) & (df['Divorce'] == eval(estado_pareja))]\n",
        "print(f\"\\nParejas con puntajes altos en {puntaje_seleccionado.lower()} y que están {estado_pareja.lower()}:\")\n",
        "print(parejas_filtradas)"
      ]
    },
    {
      "cell_type": "markdown",
      "metadata": {
        "id": "Ggl6RTJA5RVo"
      },
      "source": [
        "### **Visualización de datos**"
      ]
    },
    {
      "cell_type": "markdown",
      "metadata": {
        "id": "c2P50R2K5UBe"
      },
      "source": [
        "####**Gráficos de Líneas**\n",
        "\n",
        "**Tendencias de Puntajes Promedios por Categorías**\n",
        "\n",
        "El gráfico muestra las tendencias de puntajes promedios en diferentes categorías, diferenciadas por la variable Divorce, donde:\n",
        "\n",
        "La línea sólida azul representa los puntajes de las parejas divorciadas (Divorce = 0).\n",
        "La línea punteada naranja representa los puntajes de las parejas casadas (Divorce = 1)."
      ]
    },
    {
      "cell_type": "code",
      "execution_count": null,
      "metadata": {
        "colab": {
          "base_uri": "https://localhost:8080/",
          "height": 274
        },
        "id": "H5zPBwFA5elO",
        "outputId": "eec37daa-a96e-4cf9-f6d1-f8ead8517b20"
      },
      "outputs": [
        {
          "data": {
            "image/png": "[encoded data removed]",
            "text/plain": [
              "<Figure size 2000x500 with 1 Axes>"
            ]
          },
          "metadata": {},
          "output_type": "display_data"
        }
      ],
      "source": [
        "# Gráficos de líneas para visualizar tendencias (aunque no hay series temporales, mostramos el puntaje de grupos)\n",
        "plt.figure(figsize=(20, 5))\n",
        "sns.lineplot(data=grupo_divorcio[['Puntaje_Aspectos_Positivos', 'Puntaje_Conexion_Emocional',\n",
        "                                  'Puntaje_Conocimiento_Mutuo', 'Puntaje_Comportamientos_Negativos',\n",
        "                                  'Puntaje_Evitacion_Conflictos', 'Puntaje_Critica']].T)\n",
        "plt.title('Tendencias de Puntajes Promedios por Categoría')\n",
        "plt.xlabel('Categoría')\n",
        "plt.ylabel('Puntaje Promedio')\n",
        "plt.show()"
      ]
    },
    {
      "cell_type": "markdown",
      "metadata": {
        "id": "RjfUbdrl5gXj"
      },
      "source": [
        "*El gráfico sugiere que no hay una correlación clara entre un mayor puntaje en Comportamientos Negativos y el divorcio. Al contrario, las parejas casadas (Divorce = 1) tienen puntajes más altos en todos los aspectos, incluyendo los negativos. Esto podría indicar que las parejas casadas experimentan relaciones más intensas en general (tanto positivas como negativas), mientras que las parejas divorciadas muestran menos conexión emocional, menos comportamientos positivos y negativos.*\n",
        "\n",
        "*Por lo tanto, la falta de intensidad en cualquier tipo de comportamiento, tanto positivo como negativo, parece correlacionarse más con el divorcio (Divorce = 0), mientras que relaciones con mayor actividad emocional, incluyendo conflictos, están más correlacionadas con la permanencia en el matrimonio.*"
      ]
    },
    {
      "cell_type": "markdown",
      "metadata": {
        "id": "_iAImhjz5sfs"
      },
      "source": [
        "####**Gráficos de Barras**\n",
        "\n",
        "**Promedio de Puntajes de Comportamientos Negativos por Estado de Divorcio**\n",
        "\n",
        "Este gráfico de barras muestra el promedio de puntajes de comportamientos negativos durante discusiones, separados por el estado de divorcio (1 para casados y 0 para divorciados)."
      ]
    },
    {
      "cell_type": "code",
      "execution_count": null,
      "metadata": {
        "colab": {
          "base_uri": "https://localhost:8080/",
          "height": 574
        },
        "id": "YiimL0ZR5w5j",
        "outputId": "29490ca2-ba41-4c55-8e93-bb0509f32e84"
      },
      "outputs": [
        {
          "name": "stderr",
          "output_type": "stream",
          "text": [
            "<ipython-input-12-bfb298255807>:4: FutureWarning: \n",
            "\n",
            "Passing `palette` without assigning `hue` is deprecated and will be removed in v0.14.0. Assign the `x` variable to `hue` and set `legend=False` for the same effect.\n",
            "\n",
            "  sns.barplot(x=grupo_divorcio.index, y=grupo_divorcio[puntaje_seleccionado], palette='coolwarm')\n"
          ]
        },
        {
          "data": {
            "image/png": "[encoded data removed]",
            "text/plain": [
              "<Figure size 1000x500 with 1 Axes>"
            ]
          },
          "metadata": {},
          "output_type": "display_data"
        }
      ],
      "source": [
        "# Gráficos de barras para mostrar la distribución de variables categóricas\n",
        "plt.figure(figsize=(10, 5))\n",
        "puntaje_seleccionado = 'Puntaje_Comportamientos_Negativos' # @param ['Puntaje_Aspectos_Positivos','Puntaje_Conexion_Emocional','Puntaje_Conocimiento_Mutuo','Puntaje_Comportamientos_Negativos','Puntaje_Evitacion_Conflictos','Puntaje_Critica']\n",
        "sns.barplot(x=grupo_divorcio.index, y=grupo_divorcio[puntaje_seleccionado], palette='coolwarm')\n",
        "plt.title('Promedio de '+puntaje_seleccionado+' por Estado de Divorcio')\n",
        "plt.xlabel('Estado de Divorcio (1: Casados, 0: Divorciados)')\n",
        "plt.ylabel('Promedio: '+ puntaje_seleccionado)\n",
        "\n",
        "plt.show()"
      ]
    },
    {
      "cell_type": "markdown",
      "metadata": {
        "id": "JzB7DQUd50b_"
      },
      "source": [
        "*Las graficas muestran que las parejas casadas tienden a tener puntajes más altos tanto en aspectos positivos (como conexión emocional y conocimiento mutuo) como en aspectos negativos (como comportamientos negativos, evitación de conflictos y crítica) en comparación con las parejas divorciadas. Esto sugiere que, aunque las parejas casadas pueden experimentar más aspectos positivos en su relación, también enfrentan más desafíos y tensiones que las parejas divorciadas, lo que podría estar relacionado con la complejidad y las dinámicas en las relaciones matrimoniales que aún no han llegado a la separación.*"
      ]
    },
    {
      "cell_type": "markdown",
      "metadata": {
        "id": "NKqm4UAG51jH"
      },
      "source": [
        "####**Histograma**\n",
        "\n",
        "**Distribución de Puntajes de Comportamientos Negativos**\n",
        "\n",
        " Visualiza la distribución de puntajes de comportamientos negativos.\n",
        " Este histograma muestra cómo se distribuyen los puntajes de \"Comportamientos Negativos\" dentro de la muestra. La curva de densidad superpuesta (KDE) ayuda a visualizar la forma de la distribución con mayor precisión"
      ]
    },
    {
      "cell_type": "code",
      "execution_count": null,
      "metadata": {
        "colab": {
          "base_uri": "https://localhost:8080/",
          "height": 508
        },
        "id": "B6UcwOkG59nt",
        "outputId": "ee1be241-b682-40fa-9782-738c2fdb9234"
      },
      "outputs": [
        {
          "data": {
            "image/png": "[encoded data removed]",
            "text/plain": [
              "<Figure size 1000x500 with 1 Axes>"
            ]
          },
          "metadata": {},
          "output_type": "display_data"
        }
      ],
      "source": [
        "# Histogramas para mostrar la distribución de variables numéricas\n",
        "plt.figure(figsize=(10, 5))\n",
        "puntaje_seleccionado = 'Puntaje_Critica' # @param ['Puntaje_Aspectos_Positivos','Puntaje_Conexion_Emocional','Puntaje_Conocimiento_Mutuo','Puntaje_Comportamientos_Negativos','Puntaje_Evitacion_Conflictos','Puntaje_Critica']\n",
        "sns.histplot(df[puntaje_seleccionado], bins=20, kde=True, color='violet')\n",
        "plt.title('Distribución de '+puntaje_seleccionado)\n",
        "plt.xlabel(puntaje_seleccionado)\n",
        "plt.ylabel('Frecuencia')\n",
        "plt.show()"
      ]
    },
    {
      "cell_type": "markdown",
      "metadata": {
        "id": "sA_iYF1q6BVD"
      },
      "source": [
        "*El análisis de las diferentes variables relacionadas con las relaciones de pareja revela una tendencia clara hacia la polarización en varias dimensiones clave. En todas las variables analizadas, como los aspectos positivos, la conexión emocional, el conocimiento mutuo, los comportamientos negativos,los puntajes criticos y la evitación de conflictos, se observan distribuciones bimodales o multimodales. Esto indica que las parejas tienden a agruparse en dos extremos: algunas experimentan relaciones más saludables y positivas, mientras que otras enfrentan desafíos significativos.*\n",
        "\n",
        "*La polarización observada en estas variables sugiere que las relaciones dentro de la muestra tienden a ubicarse en extremos opuestos. Algunas parejas logran mantener una relación relativamente saludable y positiva, mientras que otras enfrentan dificultades significativas, manifestadas en bajos niveles de conexión emocional, alto desconocimiento mutuo, y comportamientos conflictivos o evasivos. Esto resalta la importancia de intervenciones que puedan ayudar a las parejas a mejorar en las áreas de comunicación, manejo de conflictos, y construcción de aspectos positivos dentro de la relación.*\n"
      ]
    },
    {
      "cell_type": "markdown",
      "metadata": {
        "id": "JRE4pJSg6C6E"
      },
      "source": [
        "####**Diagramas de Dispersión**\n",
        "\n",
        "**Relación entre Aspectos Positivos y Comportamientos Negativos**\n",
        "\n",
        "El gráfico de dispersión muestra la relación entre dos puntajes,  con los puntos coloreados según el estado de divorcio (Divorce), donde el naranja indica que la pareja sigue junta y el azul indica que se han divorciado."
      ]
    },
    {
      "cell_type": "code",
      "execution_count": null,
      "metadata": {
        "colab": {
          "base_uri": "https://localhost:8080/",
          "height": 376
        },
        "id": "lKiF5w946CPi",
        "outputId": "e12f10ce-e3b4-4260-c21b-7a30a0ce02f3"
      },
      "outputs": [
        {
          "data": {
            "image/png": "[encoded data removed]",
            "text/plain": [
              "<Figure size 1000x500 with 1 Axes>"
            ]
          },
          "metadata": {},
          "output_type": "display_data"
        }
      ],
      "source": [
        "# Diagramas de dispersión para analizar la relación entre dos variables\n",
        "plt.figure(figsize=(10, 5))\n",
        "puntaje_seleccionado1 = 'Puntaje_Aspectos_Positivos' # @param ['Puntaje_Aspectos_Positivos','Puntaje_Conexion_Emocional','Puntaje_Conocimiento_Mutuo','Puntaje_Comportamientos_Negativos','Puntaje_Evitacion_Conflictos','Puntaje_Critica']\n",
        "puntaje_seleccionado2 = 'Puntaje_Comportamientos_Negativos' # @param ['Puntaje_Aspectos_Positivos','Puntaje_Conexion_Emocional','Puntaje_Conocimiento_Mutuo','Puntaje_Comportamientos_Negativos','Puntaje_Evitacion_Conflictos','Puntaje_Critica']\n",
        "sns.scatterplot(x=puntaje_seleccionado1, y=puntaje_seleccionado2, hue='Divorce', data=df, palette='coolwarm')\n",
        "plt.title('Relación entre '+puntaje_seleccionado1+' y '+puntaje_seleccionado2)\n",
        "plt.xlabel(puntaje_seleccionado1)\n",
        "plt.ylabel(puntaje_seleccionado2)\n",
        "plt.show()"
      ]
    },
    {
      "cell_type": "markdown",
      "metadata": {
        "id": "JRdBPgJO6LS4"
      },
      "source": [
        "*El gráfico muestra que en las parejas casadas, los aspectos positivos de la relación están más inversamente relacionados con los comportamientos negativos, lo que podría ayudar a mantener la relación. Por otro lado, las parejas divorciadas tienden a tener menos aspectos positivos, independientemente de los comportamientos negativos.*\n",
        "\n",
        "*Este tipo de análisis es valioso para comprender cómo las dinámicas positivas y negativas dentro de una relación pueden influir en su estabilidad a largo plazo.*"
      ]
    },
    {
      "cell_type": "markdown",
      "metadata": {
        "id": "WZo8mHNLrXLx"
      },
      "source": [
        "## **¿La capacidad de los cónyuges para resolver sus conflictos de manera efectiva (Q1-Q3) reduce la probabilidad de divorcio?**\n"
      ]
    },
    {
      "cell_type": "markdown",
      "metadata": {
        "id": "1JvdjvjtsBtR"
      },
      "source": [
        "###**Análisis de la Comparación de Porcentajes de Respuestas entre Divorciados y No Divorciados**"
      ]
    },
    {
      "cell_type": "markdown",
      "metadata": {
        "id": "h5MjKmbtsC7y"
      },
      "source": [
        "El gráfico muestra cómo se distribuyen las respuestas a las preguntas Q1 y Q3 entre los grupos de divorciados y no divorciados. Por lo general, se espera que los no divorciados presenten una mayor proporción de respuestas en las categorías que indican capacidades de resolución de conflictos más efectivas, como \"Frecuentemente\" y \"Siempre\".\n",
        "\n",
        "\n",
        "Al calcular y graficar los porcentajes de respuestas para Q1 y Q3 en el conjunto total, se obtiene una visión general de cómo se perciben las habilidades de resolución de conflictos en la población encuestada. Esto puede ser útil para identificar tendencias generales y comportamientos que son comunes en la muestra."
      ]
    },
    {
      "cell_type": "code",
      "execution_count": null,
      "metadata": {
        "colab": {
          "base_uri": "https://localhost:8080/",
          "height": 586
        },
        "id": "hoJS0TVjsrqZ",
        "outputId": "e060c12e-d06c-4f44-b83b-0487b87456cf"
      },
      "outputs": [
        {
          "data": {
            "image/png": "[encoded data removed]",
            "text/plain": [
              "<Figure size 1000x600 with 1 Axes>"
            ]
          },
          "metadata": {},
          "output_type": "display_data"
        }
      ],
      "source": [
        "# Función para calcular porcentajes\n",
        "def calcular_porcentajes(columna):\n",
        "    conteo = columna.value_counts(normalize=True) * 100\n",
        "    return conteo.reindex([0, 1, 2, 3, 4], fill_value=0)\n",
        "\n",
        "# Calcular porcentajes para Q1 y Q3\n",
        "porcentaje_q1 = calcular_porcentajes(df['Q1'])\n",
        "porcentaje_q3 = calcular_porcentajes(df['Q3'])\n",
        "\n",
        "# Crear un DataFrame para graficar\n",
        "df_porcentajes = pd.DataFrame({\n",
        "    'Valores': [0, 1, 2, 3, 4] * 2,\n",
        "    'Porcentaje': porcentaje_q1.tolist() + porcentaje_q3.tolist(),\n",
        "    'Pregunta': ['Q1'] * 5 + ['Q3'] * 5\n",
        "})\n",
        "etiquetas = ['Nunca', 'Rara vez', 'Promedio', 'Frecuentemente', 'Siempre']\n",
        "\n",
        "# Graficar\n",
        "plt.figure(figsize=(10, 6))\n",
        "\n",
        "# Especificar colores\n",
        "colores = ['#FF9999', '#66B3FF']  # Colores para Q1 y Q3\n",
        "\n",
        "# Crear el gráfico de barras\n",
        "sns.barplot(x='Valores', y='Porcentaje', hue='Pregunta', data=df_porcentajes, palette=colores)\n",
        "\n",
        "plt.xticks(ticks=[0, 1, 2, 3, 4], labels=etiquetas)\n",
        "# Añadir etiquetas y título\n",
        "plt.xlabel('Valores')\n",
        "plt.ylabel('Porcentaje (%)')\n",
        "plt.title('Q1: Si uno de nosotros se disculpa cuando nuestra discusión se deteriora, la discusión termina \\n  Q3: Cuando lo necesitamos, podemos retomar nuestras discusiones con mi cónyuge desde el principio y corregirlas')\n",
        "\n",
        "plt.legend(title='Pregunta')\n",
        "plt.ylim(0, 100)  # Ajustar el límite del eje y\n",
        "plt.show()"
      ]
    },
    {
      "cell_type": "markdown",
      "metadata": {
        "id": "eo6l4p8OshWx"
      },
      "source": [
        "* **Respuestas Bajas (0 y 1):**\n",
        "Un porcentaje elevado de respuestas en las categorías \"Nunca\" y \"Rara vez\" entre los divorciados podría indicar que estos individuos se sienten menos capaces de manejar conflictos en sus relaciones. Esto puede ser un factor significativo que contribuye a la decisión de divorciarse.\n",
        "Si los no divorciados tienen un porcentaje significativamente menor en estas categorías, esto sugiere que poseen una mejor percepción de sus habilidades de resolución de conflictos, lo que puede correlacionarse con relaciones más estables.\n",
        "* **Respuestas Altas (3 y 4):**\n",
        "Un porcentaje alto en las categorías \"Frecuentemente\" y \"Siempre\" para los no divorciados indica que estos individuos se sienten cómodos y competentes al enfrentar conflictos. Esto puede reflejar un estilo de comunicación más efectivo y habilidades interpersonales que contribuyen a la satisfacción en la relación.\n",
        "Si los divorciados presentan porcentajes bajos en estas categorías, esto refuerza la idea de que la falta de habilidades en la resolución de conflictos puede estar relacionada con la insatisfacción y la ruptura de la relación."
      ]
    },
    {
      "cell_type": "markdown",
      "metadata": {
        "id": "1rA1wlpuswJ5"
      },
      "source": [
        "Haremos pruebas análisis por separado para los dos grupos: divorciados y no divorciados"
      ]
    },
    {
      "cell_type": "code",
      "execution_count": null,
      "metadata": {
        "id": "Wj3eiRVKszX5"
      },
      "outputs": [],
      "source": [
        "# Filtrar solo los divorciados\n",
        "divorciados = df[df['Divorce'] == 0]\n",
        "\n",
        "# Filtrar solo los no divorciados\n",
        "no_divorciados = df[df['Divorce'] == 1]"
      ]
    },
    {
      "cell_type": "markdown",
      "metadata": {
        "id": "yKZCnYNjs3l5"
      },
      "source": [
        "### **Porcentajes de Respuestas para Q1 y Q3 entre Divorciados**"
      ]
    },
    {
      "cell_type": "markdown",
      "metadata": {
        "id": "g5_JXQROtCtJ"
      },
      "source": [
        "Observamos cómo se distribuyen las respuestas de los divorciados en las preguntas Q1 y Q3. Si los porcentajes son altos en las categorías que indican dificultades en la resolución de conflictos (por ejemplo, \"Nunca\" o \"Rara vez\"), esto puede sugerir una correlación con la decisión de divorciarse.\n",
        "\n",
        "Si hay una diferencia notable entre las respuestas a Q1 y Q3, esto podría indicar que los divorciados perciben de manera distinta su capacidad para resolver conflictos en diferentes contextos. Por ejemplo, una mayor proporción de respuestas bajas en Q1 en comparación con Q3 podría sugerir una percepción de insatisfacción más fuerte en situaciones de conflicto."
      ]
    },
    {
      "cell_type": "code",
      "execution_count": null,
      "metadata": {
        "colab": {
          "base_uri": "https://localhost:8080/",
          "height": 607
        },
        "id": "OVK_pCCmtF65",
        "outputId": "d5e258b4-d1f9-47ce-cb31-dc21d3682349"
      },
      "outputs": [
        {
          "data": {
            "image/png": "[encoded data removed]",
            "text/plain": [
              "<Figure size 1000x600 with 1 Axes>"
            ]
          },
          "metadata": {},
          "output_type": "display_data"
        }
      ],
      "source": [
        "# Función para calcular porcentajes\n",
        "def calcular_porcentajes(columna):\n",
        "    conteo = columna.value_counts(normalize=True) * 100\n",
        "    return conteo.reindex([0, 1, 2, 3, 4], fill_value=0)\n",
        "\n",
        "# Calcular porcentajes para Q1 y Q3 en el DataFrame de divorciados\n",
        "porcentaje_q1_divorciados = calcular_porcentajes(divorciados['Q1'])\n",
        "porcentaje_q3_divorciados = calcular_porcentajes(divorciados['Q3'])\n",
        "\n",
        "# Crear un DataFrame para graficar\n",
        "df_porcentajes_divorciados = pd.DataFrame({\n",
        "    'Valores': [0, 1, 2, 3, 4] * 2,\n",
        "    'Porcentaje': porcentaje_q1_divorciados.tolist() + porcentaje_q3_divorciados.tolist(),\n",
        "    'Pregunta': ['Q1'] * 5 + ['Q3'] * 5\n",
        "})\n",
        "\n",
        "# Mapeo de valores a descripciones\n",
        "etiquetas = ['Nunca', 'Rara vez', 'Promedio', 'Frecuentemente', 'Siempre']\n",
        "\n",
        "# Graficar\n",
        "plt.figure(figsize=(10, 6))\n",
        "\n",
        "\n",
        "\n",
        "# Especificar colores\n",
        "colores = ['#FF9999', '#66B3FF']  # Colores para Q1 y Q3\n",
        "\n",
        "# Crear el gráfico de barras\n",
        "sns.barplot(x='Valores', y='Porcentaje', hue='Pregunta', data=df_porcentajes_divorciados, palette=colores)\n",
        "\n",
        "# Cambiar las etiquetas del eje x\n",
        "plt.xticks(ticks=[0, 1, 2, 3, 4], labels=etiquetas)\n",
        "\n",
        "# Añadir etiquetas y título\n",
        "plt.xlabel('Frecuencia de Respuestas')\n",
        "plt.ylabel('Porcentaje (%)')\n",
        "plt.title('Respuestas para Q1 y Q3 entre Divorciados \\n Q1: Si uno de nosotros se disculpa cuando nuestra discusión se deteriora, la discusión termina \\n  Q3: Cuando lo necesitamos, podemos retomar nuestras discusiones con mi cónyuge desde el principio y corregirlas')\n",
        "plt.legend(title='Pregunta')\n",
        "plt.ylim(0, 100)  # Ajustar el límite del eje y\n",
        "plt.show()"
      ]
    },
    {
      "cell_type": "markdown",
      "metadata": {
        "id": "IOLZcWXBtDcA"
      },
      "source": [
        "Un porcentaje significativamente bajo en las categorías más altas (como \"Frecuentemente\" y \"Siempre\") podría ser indicativo de problemas persistentes en la comunicación y resolución de conflictos, lo que potencialmente contribuyó al divorcio."
      ]
    },
    {
      "cell_type": "markdown",
      "metadata": {
        "id": "uFjTk8izuBdN"
      },
      "source": [
        "###**Porcentajes de Respuestas para Q1 y Q3 entre No Divorciados**"
      ]
    },
    {
      "cell_type": "markdown",
      "metadata": {
        "id": "aG22dub6uGqR"
      },
      "source": [
        "En este gráfico, se espera ver una distribución más positiva en las respuestas, con un porcentaje mayor en las categorías que indican habilidades de resolución de conflictos más efectivas (como \"Frecuentemente\" y \"Siempre\"). Esto puede sugerir que los no divorciados se sienten más satisfechos y capaces de manejar los conflictos en sus relaciones."
      ]
    },
    {
      "cell_type": "code",
      "execution_count": null,
      "metadata": {
        "colab": {
          "base_uri": "https://localhost:8080/",
          "height": 607
        },
        "id": "Ruxhx1YGuEgx",
        "outputId": "90740129-191d-4774-b310-ebac0ded6c4e"
      },
      "outputs": [
        {
          "data": {
            "image/png": "[encoded data removed]",
            "text/plain": [
              "<Figure size 1000x600 with 1 Axes>"
            ]
          },
          "metadata": {},
          "output_type": "display_data"
        }
      ],
      "source": [
        "# Función para calcular porcentajes\n",
        "def calcular_porcentajes(columna):\n",
        "    conteo = columna.value_counts(normalize=True) * 100\n",
        "    return conteo.reindex([0, 1, 2, 3, 4], fill_value=0)\n",
        "\n",
        "# Calcular porcentajes para Q1 y Q3 en el DataFrame de no divorciados\n",
        "porcentaje_q1_no_divorciados = calcular_porcentajes(no_divorciados['Q1'])\n",
        "porcentaje_q3_no_divorciados = calcular_porcentajes(no_divorciados['Q3'])\n",
        "\n",
        "# Crear un DataFrame para graficar\n",
        "df_porcentajes_no_divorciados = pd.DataFrame({\n",
        "    'Valores': [0, 1, 2, 3, 4] * 2,\n",
        "    'Porcentaje': porcentaje_q1_no_divorciados.tolist() + porcentaje_q3_no_divorciados.tolist(),\n",
        "    'Pregunta': ['Q1'] * 5 + ['Q3'] * 5\n",
        "})\n",
        "\n",
        "# Mapeo de valores a descripciones\n",
        "etiquetas = ['Nunca', 'Rara vez', 'Promedio', 'Frecuentemente', 'Siempre']\n",
        "\n",
        "# Graficar\n",
        "plt.figure(figsize=(10, 6))\n",
        "\n",
        "# Especificar colores\n",
        "colores = ['#FF9999', '#66B3FF']  # Colores para Q1 y Q3\n",
        "\n",
        "# Crear el gráfico de barras\n",
        "sns.barplot(x='Valores', y='Porcentaje', hue='Pregunta', data=df_porcentajes_no_divorciados, palette=colores)\n",
        "\n",
        "# Cambiar las etiquetas del eje x\n",
        "plt.xticks(ticks=[0, 1, 2, 3, 4], labels=etiquetas)\n",
        "\n",
        "# Añadir etiquetas y título\n",
        "plt.xlabel('Frecuencia de Respuestas')\n",
        "plt.ylabel('Porcentaje (%)')\n",
        "plt.title('Porcentaje de Respuestas para Q1 y Q3 entre No Divorciados \\n Q1: Si uno de nosotros se disculpa cuando nuestra discusión se deteriora, la discusión termina \\n  Q3: Cuando lo necesitamos, podemos retomar nuestras discusiones con mi cónyuge desde el principio y corregirlas')\n",
        "plt.legend(title='Pregunta')\n",
        "plt.ylim(0, 100)  # Ajustar el límite del eje y\n",
        "plt.show()"
      ]
    },
    {
      "cell_type": "markdown",
      "metadata": {
        "id": "fWbHKARCuMZR"
      },
      "source": [
        "\"Un porcentaje alto en las respuestas que indican una buena capacidad de resolución de conflictos puede ser un indicador de relaciones saludables y satisfactorias, sugiriendo que estos individuos tienen estrategias efectivas para manejar desacuerdos.\""
      ]
    },
    {
      "cell_type": "markdown",
      "metadata": {
        "id": "szkEeU69uNN5"
      },
      "source": [
        "*Al comparar los gráficos de divorciados y no divorciados, se pueden identificar diferencias significativas en las tendencias de respuesta. Por ejemplo, si los divorciados tienen un porcentaje más alto en las categorías de respuestas bajas, esto puede ser un indicativo directo de por qué sus relaciones no han perdurado, mientras que los no divorciados tienden a tener respuestas que reflejan mayor satisfacción y competencia en la resolución de conflictos.*"
      ]
    },
    {
      "cell_type": "code",
      "execution_count": null,
      "metadata": {
        "colab": {
          "base_uri": "https://localhost:8080/"
        },
        "id": "W98uLT7oFwFl",
        "outputId": "f80c97d3-e4a2-4f8b-c3e1-2cbe883a500a"
      },
      "outputs": [
        {
          "name": "stdout",
          "output_type": "stream",
          "text": [
            "\n",
            "Primeras filas con nuevas columnas calculadas para satisfacción y tiempo juntos:\n",
            "   Puntaje_Satisfaccion_Relacion  Puntaje_Tiempo_Juntos\n",
            "0                            0.0                    0.1\n",
            "1                            2.4                    1.1\n",
            "2                            1.6                    1.7\n",
            "3                            3.0                    1.3\n",
            "4                            0.4                    0.8\n"
          ]
        }
      ],
      "source": [
        "# Crear puntajes agregados para las categorías de preguntas relacionadas con la satisfacción\n",
        "df['Puntaje_Satisfaccion_Relacion'] = df[['Q5', 'Q6', 'Q7', 'Q8', 'Q9']].mean(axis=1)\n",
        "df['Puntaje_Tiempo_Juntos'] = df[['Q21', 'Q22', 'Q23', 'Q24', 'Q25', 'Q26', 'Q27', 'Q28', 'Q29', 'Q30']].mean(axis=1)\n",
        "\n",
        "print(\"\\nPrimeras filas con nuevas columnas calculadas para satisfacción y tiempo juntos:\")\n",
        "print(df[['Puntaje_Satisfaccion_Relacion', 'Puntaje_Tiempo_Juntos']].head())\n"
      ]
    },
    {
      "cell_type": "code",
      "execution_count": null,
      "metadata": {
        "colab": {
          "base_uri": "https://localhost:8080/"
        },
        "id": "JL21S6UYF0Ua",
        "outputId": "5dc33ff2-e677-4fe2-8c5d-91f8f2df4459"
      },
      "outputs": [
        {
          "name": "stdout",
          "output_type": "stream",
          "text": [
            "\n",
            "Análisis descriptivo de los puntajes de satisfacción y tiempo juntos:\n",
            "       Puntaje_Satisfaccion_Relacion  Puntaje_Tiempo_Juntos\n",
            "count                     170.000000             170.000000\n",
            "mean                        1.138824               1.437059\n",
            "std                         1.081758               1.422051\n",
            "min                         0.000000               0.000000\n",
            "25%                         0.000000               0.100000\n",
            "50%                         0.600000               0.600000\n",
            "75%                         2.200000               2.800000\n",
            "max                         3.600000               3.800000\n"
          ]
        }
      ],
      "source": [
        "# Análisis descriptivo de los puntajes\n",
        "print(\"\\nAnálisis descriptivo de los puntajes de satisfacción y tiempo juntos:\")\n",
        "print(df[['Puntaje_Satisfaccion_Relacion', 'Puntaje_Tiempo_Juntos']].describe())\n"
      ]
    },
    {
      "cell_type": "code",
      "execution_count": null,
      "metadata": {
        "colab": {
          "base_uri": "https://localhost:8080/"
        },
        "id": "mgpf3P1KF2qn",
        "outputId": "4631d2df-eb8e-40e0-8738-610b09853b48"
      },
      "outputs": [
        {
          "name": "stdout",
          "output_type": "stream",
          "text": [
            "\n",
            "Media de puntajes de satisfacción y tiempo juntos agrupados por estado de divorcio:\n",
            "         Puntaje_Satisfaccion_Relacion  Puntaje_Tiempo_Juntos\n",
            "Divorce                                                      \n",
            "0                             0.134884               0.162791\n",
            "1                             2.166667               2.741667\n"
          ]
        }
      ],
      "source": [
        "# Agrupar por estado de divorcio y calcular la media de los puntajes\n",
        "grupo_divorcio_satisfaccion = df.groupby('Divorce').mean()[['Puntaje_Satisfaccion_Relacion', 'Puntaje_Tiempo_Juntos']]\n",
        "print(\"\\nMedia de puntajes de satisfacción y tiempo juntos agrupados por estado de divorcio:\")\n",
        "print(grupo_divorcio_satisfaccion)\n"
      ]
    },
    {
      "cell_type": "code",
      "execution_count": null,
      "metadata": {
        "colab": {
          "base_uri": "https://localhost:8080/",
          "height": 1000
        },
        "id": "m1c2LlRbF4dp",
        "outputId": "4dc70349-2aab-4f7e-90fc-d4f45937489a"
      },
      "outputs": [
        {
          "name": "stderr",
          "output_type": "stream",
          "text": [
            "<ipython-input-13-44dbc4bb27bb>:6: FutureWarning: \n",
            "\n",
            "Passing `palette` without assigning `hue` is deprecated and will be removed in v0.14.0. Assign the `x` variable to `hue` and set `legend=False` for the same effect.\n",
            "\n",
            "  sns.barplot(x=grupo_divorcio_satisfaccion.index, y=grupo_divorcio_satisfaccion['Puntaje_Satisfaccion_Relacion'], palette='coolwarm')\n"
          ]
        },
        {
          "data": {
            "image/png": "[encoded data removed]",
            "text/plain": [
              "<Figure size 1200x600 with 1 Axes>"
            ]
          },
          "metadata": {},
          "output_type": "display_data"
        },
        {
          "name": "stderr",
          "output_type": "stream",
          "text": [
            "<ipython-input-13-44dbc4bb27bb>:15: FutureWarning: \n",
            "\n",
            "Passing `palette` without assigning `hue` is deprecated and will be removed in v0.14.0. Assign the `x` variable to `hue` and set `legend=False` for the same effect.\n",
            "\n",
            "  sns.barplot(x=grupo_divorcio_satisfaccion.index, y=grupo_divorcio_satisfaccion['Puntaje_Tiempo_Juntos'], palette='coolwarm')\n"
          ]
        },
        {
          "data": {
            "image/png": "[encoded data removed]",
            "text/plain": [
              "<Figure size 600x300 with 1 Axes>"
            ]
          },
          "metadata": {},
          "output_type": "display_data"
        }
      ],
      "source": [
        "import seaborn as sns\n",
        "import matplotlib.pyplot as plt\n",
        "\n",
        "# Gráfico de barras para la satisfacción con la relación\n",
        "plt.figure(figsize=(12, 6))\n",
        "sns.barplot(x=grupo_divorcio_satisfaccion.index, y=grupo_divorcio_satisfaccion['Puntaje_Satisfaccion_Relacion'], palette='coolwarm')\n",
        "plt.title('Satisfacción con la Relación por Estado de Divorcio')\n",
        "plt.xlabel('Estado de Divorcio (1: Casados, 0: Divorciados)')\n",
        "plt.ylabel('Puntaje Promedio de Satisfacción con la Relación')\n",
        "plt.ylim(0, 4)  # Ajustar el límite del eje y si es necesario\n",
        "plt.show()\n",
        "\n",
        "# Gráfico de barras para el tiempo que pasan juntos\n",
        "plt.figure(figsize=(6, 3))\n",
        "sns.barplot(x=grupo_divorcio_satisfaccion.index, y=grupo_divorcio_satisfaccion['Puntaje_Tiempo_Juntos'], palette='coolwarm')\n",
        "plt.title('Tiempo que Pasan Juntos por Estado de Divorcio')\n",
        "plt.xlabel('Estado de Divorcio (1: Casados, 0: Divorciados)')\n",
        "plt.ylabel('Puntaje Promedio de Tiempo que Pasan Juntos')\n",
        "plt.ylim(0, 4)  # Ajustar el límite del eje y si es necesario\n",
        "plt.show()\n"
      ]
    },
    {
      "cell_type": "code",
      "execution_count": null,
      "metadata": {
        "colab": {
          "base_uri": "https://localhost:8080/"
        },
        "id": "TdmqBEokGNYv",
        "outputId": "04bc9fce-b952-479a-8d62-4157d278427d"
      },
      "outputs": [
        {
          "name": "stdout",
          "output_type": "stream",
          "text": [
            "\n",
            "Satisfacción con la relación - Estadístico t: -36.319108951240835, p-valor: 1.8378022337259963e-81\n",
            "Tiempo que pasan juntos - Estadístico t: -28.332841380440737, p-valor: 6.891782010305786e-66\n"
          ]
        }
      ],
      "source": [
        "from scipy.stats import ttest_ind\n",
        "\n",
        "# Prueba t para satisfacción con la relación\n",
        "t_stat_satisfaccion, p_val_satisfaccion = ttest_ind(df[df['Divorce'] == 0]['Puntaje_Satisfaccion_Relacion'],\n",
        "                                                   df[df['Divorce'] == 1]['Puntaje_Satisfaccion_Relacion'])\n",
        "print(f\"\\nSatisfacción con la relación - Estadístico t: {t_stat_satisfaccion}, p-valor: {p_val_satisfaccion}\")\n",
        "\n",
        "# Prueba t para tiempo que pasan juntos\n",
        "t_stat_tiempo, p_val_tiempo = ttest_ind(df[df['Divorce'] == 0]['Puntaje_Tiempo_Juntos'],\n",
        "                                        df[df['Divorce'] == 1]['Puntaje_Tiempo_Juntos'])\n",
        "print(f\"Tiempo que pasan juntos - Estadístico t: {t_stat_tiempo}, p-valor: {p_val_tiempo}\")\n"
      ]
    },
    {
      "cell_type": "markdown",
      "metadata": {
        "id": "Z6i4TKe00N0u"
      },
      "source": [
        "## **MACHINE LEARNING**\n",
        "---"
      ]
    },
    {
      "cell_type": "markdown",
      "metadata": {
        "id": "2iooDJsHR0qK"
      },
      "source": [
        "### **Definir el problema**\n",
        "Predecir si una pareja se divorciará o no, basándose en un conjunto de preguntas que exploran diferentes aspectos de su relación."
      ]
    },
    {
      "cell_type": "markdown",
      "metadata": {
        "id": "1LvUaRyMR8Zk"
      },
      "source": [
        "#### **Identificar la variable objetivo y las variables predictoras**\n",
        "\n",
        "**Variable objetivo:** Divorce (0 = Divorciados, 1 = Casados).\n",
        "\n",
        "**Variables predictoras:** Q1 a Q54, que cubren diferentes aspectos de la relación de la pareja"
      ]
    },
    {
      "cell_type": "code",
      "execution_count": null,
      "metadata": {
        "id": "VSL-hjLRSIiv"
      },
      "outputs": [],
      "source": [
        "# Separar las variables predictoras y la variable objetivo\n",
        "X = df.drop('Divorce', axis=1) #Variables predictorias\n",
        "y = df['Divorce'] #Variables objetivos"
      ]
    },
    {
      "cell_type": "markdown",
      "metadata": {
        "id": "apkPxmOqSJb9"
      },
      "source": [
        "**Escalar las variables numéricas**\n",
        "\n",
        "Escalamos los datos, ya que algunos algoritmos, como SVM y KNN, requieren que las características estén en la misma escala."
      ]
    },
    {
      "cell_type": "code",
      "execution_count": null,
      "metadata": {
        "id": "uDqWsuCbSSy6"
      },
      "outputs": [],
      "source": [
        "scaler = StandardScaler()  # O MinMaxScaler()\n",
        "X_scaled = scaler.fit_transform(X)"
      ]
    },
    {
      "cell_type": "markdown",
      "metadata": {
        "id": "pW0EfVPzvfVS"
      },
      "source": [
        "*Este código se utiliza para normalizar o estandarizar las variables predictoras (X) antes de entrenar un modelo.*"
      ]
    },
    {
      "cell_type": "markdown",
      "metadata": {
        "id": "8iASAsC8SV4h"
      },
      "source": [
        "**Dividir el conjunto de datos en entrenamiento y prueba**"
      ]
    },
    {
      "cell_type": "code",
      "execution_count": null,
      "metadata": {
        "id": "3gmwuykpSXv0"
      },
      "outputs": [],
      "source": [
        "X_train, X_test, y_train, y_test = train_test_split(X_scaled, y, test_size=0.3, random_state=42)"
      ]
    },
    {
      "cell_type": "markdown",
      "metadata": {
        "id": "-WLDknoowELh"
      },
      "source": [
        "*Este código divide el dataset en dos partes: entrenamiento (70%) y prueba (30%). El conjunto de entrenamiento (X_train, y_train) se utiliza para ajustar (entrenar) el modelo, mientras que el conjunto de prueba (X_test, y_test) se reserva para evaluar la precisión del modelo en datos que no ha visto antes. Esto es crucial para validar el rendimiento real del modelo y evitar problemas como el sobreajuste.*\n",
        "\n",
        "* ***X_train:*** *Contendrá las variables predictoras del conjunto de entrenamiento.*\n",
        "* ***X_test:*** *Contendrá las variables predictoras del conjunto de prueba.*\n",
        "* ***y_train:*** *Contendrá la variable objetivo del conjunto de entrenamiento.*\n",
        "* ***y_test:*** *Contendrá la variable objetivo del conjunto de prueba.*"
      ]
    },
    {
      "cell_type": "markdown",
      "metadata": {
        "id": "abjlRyJxSaaj"
      },
      "source": [
        "#### **Evaluacion del modelo**\n",
        "Definir una función para evaluar el modelo"
      ]
    },
    {
      "cell_type": "code",
      "execution_count": null,
      "metadata": {
        "id": "zCKc0wfkSdR8"
      },
      "outputs": [],
      "source": [
        "def evaluar_modelo(y_test, y_pred):\n",
        "    accuracy = accuracy_score(y_test, y_pred)\n",
        "    precision = precision_score(y_test, y_pred)\n",
        "    recall = recall_score(y_test, y_pred)\n",
        "    f1 = f1_score(y_test, y_pred)\n",
        "    conf_matrix = confusion_matrix(y_test, y_pred)\n",
        "\n",
        "    print(f\"Exactitud: {accuracy:.4f}\")\n",
        "    print(f\"Precisión: {precision:.4f}\")\n",
        "    print(f\"Sensibilidad (Recall) {recall:.4f}\")\n",
        "    print(f\"F1-score: {f1:.4f}\")\n",
        "    print(\"Matriz de Confusión:\")\n",
        "    print(conf_matrix)\n",
        "\n",
        "    sns.heatmap(conf_matrix, annot=True, fmt='d', cmap='Blues')\n",
        "    plt.xlabel('Predicted')\n",
        "    plt.ylabel('Actual')\n",
        "    plt.title('Confusion Matrix')\n",
        "    plt.show()"
      ]
    },
    {
      "cell_type": "markdown",
      "metadata": {
        "id": "Y5F8PIiwxuvt"
      },
      "source": [
        "*La función evaluar_modelo proporciona una evaluación exhaustiva del rendimiento del modelo mediante métricas clave como exactitud, precisión, sensibilidad(recall) y F1-score, y visualiza la matriz de confusión para ofrecer una comprensión clara de cómo el modelo clasifica las instancias reales frente a las predicciones.*"
      ]
    },
    {
      "cell_type": "markdown",
      "metadata": {
        "id": "D50JEpRASiJa"
      },
      "source": [
        "### **Selección del modelo y entrenamiento**"
      ]
    },
    {
      "cell_type": "markdown",
      "metadata": {
        "id": "12WkKoYnSkRU"
      },
      "source": [
        "#### **Regresión Logística**"
      ]
    },
    {
      "cell_type": "code",
      "execution_count": null,
      "metadata": {
        "colab": {
          "base_uri": "https://localhost:8080/",
          "height": 611
        },
        "id": "WZw27Jt1Sm_c",
        "outputId": "a9600d9d-dbe3-4522-e6c1-841a70c601a6"
      },
      "outputs": [
        {
          "name": "stdout",
          "output_type": "stream",
          "text": [
            "Regresión Logística:\n",
            "Exactitud: 1.0000\n",
            "Precisión: 1.0000\n",
            "Sensibilidad (Recall) 1.0000\n",
            "F1-score: 1.0000\n",
            "Matriz de Confusión:\n",
            "[[25  0]\n",
            " [ 0 26]]\n"
          ]
        },
        {
          "data": {
            "image/png": "[encoded data removed]",
            "text/plain": [
              "<Figure size 640x480 with 2 Axes>"
            ]
          },
          "metadata": {},
          "output_type": "display_data"
        }
      ],
      "source": [
        "# Inicializar el modelo\n",
        "log_reg = LogisticRegression(random_state=42)\n",
        "\n",
        "# Entrenar el modelo\n",
        "log_reg.fit(X_train, y_train)\n",
        "\n",
        "# Hacer predicciones\n",
        "y_pred_log = log_reg.predict(X_test)\n",
        "\n",
        "# Evaluar el modelo\n",
        "print(\"Regresión Logística:\")\n",
        "evaluar_modelo(y_test, y_pred_log)"
      ]
    },
    {
      "cell_type": "markdown",
      "metadata": {
        "id": "IXpL7w33yQ05"
      },
      "source": [
        "*El modelo ha alcanzado un rendimiento perfecto en la predicción del estado de las relaciones matrimoniales. Con una exactitud, precisión, recall y F1-score de 1.0000, el modelo clasifica correctamente todas las instancias del conjunto de prueba. La matriz de confusión muestra que no hubo errores en las predicciones, ya que el modelo identificó correctamente todas las instancias de las dos clases (divorciados y casados). Este resultado indica que el modelo está altamente eficiente en este conjunto de datos.*"
      ]
    },
    {
      "cell_type": "markdown",
      "metadata": {
        "id": "HWujinO8Sp_d"
      },
      "source": [
        "#### **Árbol de Decisión**"
      ]
    },
    {
      "cell_type": "code",
      "execution_count": null,
      "metadata": {
        "colab": {
          "base_uri": "https://localhost:8080/",
          "height": 611
        },
        "id": "qmqmZ28BSq9c",
        "outputId": "dbac5b6c-f7ec-4284-8269-9902d5a5d485"
      },
      "outputs": [
        {
          "name": "stdout",
          "output_type": "stream",
          "text": [
            "Árbol de Decisión:\n",
            "Exactitud: 0.9804\n",
            "Precisión: 1.0000\n",
            "Sensibilidad (Recall) 0.9615\n",
            "F1-score: 0.9804\n",
            "Matriz de Confusión:\n",
            "[[25  0]\n",
            " [ 1 25]]\n"
          ]
        },
        {
          "data": {
            "image/png": "[encoded data removed]",
            "text/plain": [
              "<Figure size 640x480 with 2 Axes>"
            ]
          },
          "metadata": {},
          "output_type": "display_data"
        }
      ],
      "source": [
        "# Inicializar el modelo\n",
        "tree = DecisionTreeClassifier(random_state=42)\n",
        "\n",
        "# Entrenar el modelo\n",
        "tree.fit(X_train, y_train)\n",
        "\n",
        "# Hacer predicciones\n",
        "y_pred_tree = tree.predict(X_test)\n",
        "\n",
        "# Evaluar el modelo\n",
        "print(\"Árbol de Decisión:\")\n",
        "evaluar_modelo(y_test, y_pred_tree)"
      ]
    },
    {
      "cell_type": "markdown",
      "metadata": {
        "id": "hvDJTPAjyswu"
      },
      "source": [
        "*El modelo de árbol de decisión muestra un rendimiento excelente en la predicción del estado de las relaciones matrimoniales, con una exactitud de 0.9804. Aunque la precisión es perfecta (1.0000), el recall es ligeramente menor (0.9615), indicando que el modelo ha clasificado correctamente casi todas las instancias positivas, pero ha cometido un pequeño error. La F1-score, que combina precisión y recall, también es alta (0.9804). La matriz de confusión muestra que hubo solo una instancia mal clasificada como divorciada cuando en realidad era casada, mientras que todas las instancias divorciadas fueron clasificadas correctamente. En general, el árbol de decisión es muy eficaz, con un ligero margen de mejora en la capacidad de detectar todas las instancias positivas.*"
      ]
    },
    {
      "cell_type": "markdown",
      "metadata": {
        "id": "ObX1gQf4SuPW"
      },
      "source": [
        "#### **Random Forest**"
      ]
    },
    {
      "cell_type": "code",
      "execution_count": null,
      "metadata": {
        "colab": {
          "base_uri": "https://localhost:8080/",
          "height": 611
        },
        "id": "sH47z3BWSxLj",
        "outputId": "1c79fea3-67b5-4411-92d6-9f906001d2a3"
      },
      "outputs": [
        {
          "name": "stdout",
          "output_type": "stream",
          "text": [
            "Random Forest:\n",
            "Exactitud: 0.9804\n",
            "Precisión: 1.0000\n",
            "Recall: 0.9615\n",
            "F1-score: 0.9804\n",
            "Matriz de Confusión:\n",
            "[[25  0]\n",
            " [ 1 25]]\n"
          ]
        },
        {
          "data": {
            "image/png": "[encoded data removed]",
            "text/plain": [
              "<Figure size 640x480 with 2 Axes>"
            ]
          },
          "metadata": {},
          "output_type": "display_data"
        }
      ],
      "source": [
        "# Inicializar el modelo\n",
        "forest = RandomForestClassifier(random_state=42)\n",
        "\n",
        "# Entrenar el modelo\n",
        "forest.fit(X_train, y_train)\n",
        "\n",
        "# Hacer predicciones\n",
        "y_pred_forest = forest.predict(X_test)\n",
        "\n",
        "# Evaluar el modelo\n",
        "print(\"Random Forest:\")\n",
        "evaluar_modelo(y_test, y_pred_forest)"
      ]
    },
    {
      "cell_type": "markdown",
      "metadata": {
        "id": "OWACyZc9zD1J"
      },
      "source": [
        "*El modelo de Random Forest presenta un rendimiento muy sólido en la predicción del estado de las relaciones matrimoniales, con una exactitud de 0.9804. Al igual que con el árbol de decisión, la precisión es perfecta (1.0000), pero el recall es ligeramente menor (0.9615), indicando que el modelo ha identificado correctamente casi todas las instancias positivas, con solo una instancia mal clasificada. La F1-score también es alta (0.9804), reflejando un buen equilibrio entre precisión y recall. La matriz de confusión revela que solo una instancia de la clase casada fue clasificada incorrectamente como divorciada, mientras que todas las instancias de la clase divorciada fueron correctamente clasificadas.*"
      ]
    },
    {
      "cell_type": "markdown",
      "metadata": {
        "id": "Le5IbLmAS0Ad"
      },
      "source": [
        "#### **Support Vector Machine (SVM)**"
      ]
    },
    {
      "cell_type": "code",
      "execution_count": null,
      "metadata": {
        "colab": {
          "base_uri": "https://localhost:8080/",
          "height": 611
        },
        "id": "AepQZeWzS2-E",
        "outputId": "1bb2a99e-d92e-4335-b981-3f384ac91772"
      },
      "outputs": [
        {
          "name": "stdout",
          "output_type": "stream",
          "text": [
            "Support Vector Machine:\n",
            "Exactitud: 0.9804\n",
            "Precisión: 1.0000\n",
            "Recall: 0.9615\n",
            "F1-score: 0.9804\n",
            "Matriz de Confusión:\n",
            "[[25  0]\n",
            " [ 1 25]]\n"
          ]
        },
        {
          "data": {
            "image/png": "[encoded data removed]",
            "text/plain": [
              "<Figure size 640x480 with 2 Axes>"
            ]
          },
          "metadata": {},
          "output_type": "display_data"
        }
      ],
      "source": [
        "# Inicializar el modelo\n",
        "svm = SVC(random_state=42)\n",
        "\n",
        "# Entrenar el modelo\n",
        "svm.fit(X_train, y_train)\n",
        "\n",
        "# Hacer predicciones\n",
        "y_pred_svm = svm.predict(X_test)\n",
        "\n",
        "# Evaluar el modelo\n",
        "print(\"Support Vector Machine:\")\n",
        "evaluar_modelo(y_test, y_pred_svm)"
      ]
    },
    {
      "cell_type": "markdown",
      "metadata": {
        "id": "CUY2LPITzQXD"
      },
      "source": [
        "*El modelo de Support Vector Machine (SVM) muestra un rendimiento destacado en la predicción del estado de las relaciones matrimoniales, con una exactitud de 0.9804. La precisión es perfecta (1.0000), y el recall es de 0.9615, indicando que el modelo ha clasificado correctamente casi todas las instancias positivas, con solo una instancia mal clasificada. La F1-score también es alta (0.9804), lo que refleja un buen equilibrio entre precisión y recall. La matriz de confusión muestra que solo una instancia de la clase casada fue clasificada incorrectamente como divorciada, mientras que todas las instancias de la clase divorciada fueron correctamente identificadas.*"
      ]
    },
    {
      "cell_type": "markdown",
      "metadata": {
        "id": "12yOxWpNS5-f"
      },
      "source": [
        "#### **K-Nearest Neighbors (KNN)**"
      ]
    },
    {
      "cell_type": "code",
      "execution_count": null,
      "metadata": {
        "colab": {
          "base_uri": "https://localhost:8080/",
          "height": 611
        },
        "id": "H3j3yaJwS82m",
        "outputId": "1291abdb-1ab5-41da-fe26-b1c8a73d78cc"
      },
      "outputs": [
        {
          "name": "stdout",
          "output_type": "stream",
          "text": [
            "K-Nearest Neighbors:\n",
            "Exactitud: 0.9804\n",
            "Precisión: 1.0000\n",
            "Recall: 0.9615\n",
            "F1-score: 0.9804\n",
            "Matriz de Confusión:\n",
            "[[25  0]\n",
            " [ 1 25]]\n"
          ]
        },
        {
          "data": {
            "image/png": "[encoded data removed]",
            "text/plain": [
              "<Figure size 640x480 with 2 Axes>"
            ]
          },
          "metadata": {},
          "output_type": "display_data"
        }
      ],
      "source": [
        "# Inicializar el modelo\n",
        "knn = KNeighborsClassifier()\n",
        "\n",
        "# Entrenar el modelo\n",
        "knn.fit(X_train, y_train)\n",
        "\n",
        "# Hacer predicciones\n",
        "y_pred_knn = knn.predict(X_test)\n",
        "\n",
        "# Evaluar el modelo\n",
        "print(\"K-Nearest Neighbors:\")\n",
        "evaluar_modelo(y_test, y_pred_knn)"
      ]
    },
    {
      "cell_type": "markdown",
      "metadata": {
        "id": "-EJ6YkP3z4KN"
      },
      "source": [
        "*El modelo de K-Nearest Neighbors (KNN) muestra un rendimiento muy sólido en la predicción del estado de las relaciones matrimoniales, con una exactitud de 0.9804. La precisión es perfecta (1.0000), y el recall es de 0.9615, lo que indica que el modelo ha clasificado correctamente casi todas las instancias positivas, con solo una instancia mal clasificada. La F1-score también es alta (0.9804), reflejando un buen equilibrio entre precisión y recall. La matriz de confusión muestra que solo una instancia de la clase casada fue clasificada incorrectamente como divorciada, mientras que todas las instancias de la clase divorciada fueron identificadas correctamente.*"
      ]
    },
    {
      "cell_type": "markdown",
      "metadata": {
        "id": "l1kUmMeSS-Q1"
      },
      "source": [
        "### **Optimización del Modelo (Opcional)**"
      ]
    },
    {
      "cell_type": "markdown",
      "metadata": {
        "id": "qxAEFyId1XJT"
      },
      "source": [
        "Optimizacion para Arbol de Decision"
      ]
    },
    {
      "cell_type": "code",
      "execution_count": null,
      "metadata": {
        "colab": {
          "base_uri": "https://localhost:8080/",
          "height": 646
        },
        "id": "OYAaOWjPTDHz",
        "outputId": "c68ee53b-4c0d-452f-e459-bca608771133"
      },
      "outputs": [
        {
          "name": "stdout",
          "output_type": "stream",
          "text": [
            "Mejores Hiperparámetros para Árbol de Decisión:\n",
            "{'criterion': 'gini', 'max_depth': None, 'max_features': 'sqrt', 'min_samples_leaf': 2, 'min_samples_split': 2}\n",
            "Árbol de Decisión Optimizado:\n",
            "Exactitud: 0.9020\n",
            "Precisión: 0.8621\n",
            "Recall: 0.9615\n",
            "F1-score: 0.9091\n",
            "Matriz de Confusión:\n",
            "[[21  4]\n",
            " [ 1 25]]\n"
          ]
        },
        {
          "data": {
            "image/png": "[encoded data removed]",
            "text/plain": [
              "<Figure size 640x480 with 2 Axes>"
            ]
          },
          "metadata": {},
          "output_type": "display_data"
        }
      ],
      "source": [
        "# Ejemplo de optimización para Árbol de Decisión\n",
        "param_grid = {\n",
        "    'max_depth': [None, 10, 20, 30],\n",
        "    'criterion': ['gini', 'entropy'],\n",
        "    'min_samples_split': [2, 5, 10],\n",
        "    'min_samples_leaf': [1, 2, 4],\n",
        "    'max_features': [None, 'sqrt', 'log2']\n",
        "}\n",
        "\n",
        "grid_search = GridSearchCV(estimator=DecisionTreeClassifier(random_state=42), param_grid=param_grid, cv=5)\n",
        "grid_search.fit(X_train, y_train)\n",
        "\n",
        "print(\"Mejores Hiperparámetros para Árbol de Decisión:\")\n",
        "print(grid_search.best_params_)\n",
        "\n",
        "# Entrenar de nuevo con los mejores hiperparámetros\n",
        "best_tree = grid_search.best_estimator_\n",
        "y_pred_best_tree = best_tree.predict(X_test)\n",
        "print(\"Árbol de Decisión Optimizado:\")\n",
        "evaluar_modelo(y_test, y_pred_best_tree)"
      ]
    },
    {
      "cell_type": "markdown",
      "metadata": {
        "id": "p6Cqyj0w17f6"
      },
      "source": [
        "*La optimización del modelo de árbol de decisión, aunque se ha ajustado los hiperparámetros para mejorar la generalización, se ha reducido el rendimiento en términos de exactitud y precisión. El modelo optimizado sigue siendo eficaz en la detección de instancias positivas, pero ha perdido precisión en su capacidad para clasificar correctamente todas las instancias. Esto sugiere que la configuración de hiperparámetros seleccionada puede no ser la más adecuada para este conjunto de datos, y podría ser necesario realizar más ajustes o considerar otros métodos de optimización.*"
      ]
    },
    {
      "cell_type": "markdown",
      "metadata": {
        "id": "Ld7hdUjlTGES"
      },
      "source": [
        "### **Visualización de Resultados**\n",
        "\n",
        "visualizar los resultados para comparar el rendimiento de los modelos."
      ]
    },
    {
      "cell_type": "code",
      "execution_count": null,
      "metadata": {
        "id": "T9srCBHsTNLg"
      },
      "outputs": [],
      "source": [
        "# Lista de modelos y métricas\n",
        "modelos = ['Logistic Regression', 'Decision Tree', 'Random Forest', 'SVM', 'KNN']\n",
        "exactitudes = [accuracy_score(y_test, y_pred_log), accuracy_score(y_test, y_pred_tree),\n",
        "               accuracy_score(y_test, y_pred_forest), accuracy_score(y_test, y_pred_svm),\n",
        "               accuracy_score(y_test, y_pred_knn)]\n",
        "precisiones = [precision_score(y_test, y_pred_log), precision_score(y_test, y_pred_tree),\n",
        "               precision_score(y_test, y_pred_forest), precision_score(y_test, y_pred_svm),\n",
        "               precision_score(y_test, y_pred_knn)]\n",
        "recalls = [recall_score(y_test, y_pred_log), recall_score(y_test, y_pred_tree),\n",
        "           recall_score(y_test, y_pred_forest), recall_score(y_test, y_pred_svm),\n",
        "           recall_score(y_test, y_pred_knn)]\n",
        "f1_scores = [f1_score(y_test, y_pred_log), f1_score(y_test, y_pred_tree),\n",
        "             f1_score(y_test, y_pred_forest), f1_score(y_test, y_pred_svm),\n",
        "             f1_score(y_test, y_pred_knn)]\n"
      ]
    },
    {
      "cell_type": "markdown",
      "metadata": {
        "id": "ps9bfc3_i_AA"
      },
      "source": [
        "#### **Grafico de Barras**"
      ]
    },
    {
      "cell_type": "code",
      "execution_count": null,
      "metadata": {
        "colab": {
          "base_uri": "https://localhost:8080/",
          "height": 555
        },
        "id": "444pBE1jTPLC",
        "outputId": "4f3f1091-49b4-416d-821b-2615ee41cc62"
      },
      "outputs": [
        {
          "data": {
            "image/png": "[encoded data removed]",
            "text/plain": [
              "<Figure size 1400x800 with 1 Axes>"
            ]
          },
          "metadata": {},
          "output_type": "display_data"
        }
      ],
      "source": [
        "# Crear el gráfico de barras\n",
        "plt.figure(figsize=(14, 8))\n",
        "x = range(len(modelos))\n",
        "plt.bar(x, exactitudes, width=0.2, label='Exactitud', align='center')\n",
        "plt.bar([p + 0.2 for p in x], precisiones, width=0.2, label='Precisión', align='center')\n",
        "plt.bar([p + 0.4 for p in x], recalls, width=0.2, label='Recall', align='center')\n",
        "plt.bar([p + 0.6 for p in x], f1_scores, width=0.2, label='F1-Score', align='center')\n",
        "plt.xticks([p + 0.3 for p in x], modelos)\n",
        "plt.title('Comparación de Métricas de Modelos de Clasificación')\n",
        "plt.xlabel('Modelos')\n",
        "plt.ylabel('Valor de la Métrica')\n",
        "plt.legend()\n",
        "plt.show()"
      ]
    },
    {
      "cell_type": "markdown",
      "metadata": {
        "id": "GQocrtC0AEVp"
      },
      "source": [
        "*El gráfico de barras muestra una comparación visual de las métricas clave (Exactitud, Precisión, Recall, y F1-Score) para cinco modelos de clasificación: Regresión Logística, Árbol de Decisión, Random Forest, SVM y KNN. Cada métrica se representa mediante barras de diferentes colores para cada modelo, permitiendo una comparación directa del rendimiento.*\n",
        "\n",
        "*La Regresión Logística sobresale en todas las métricas con un rendimiento perfecto de 1.0000, lo que indica una capacidad excepcional para clasificar correctamente tanto casos de divorcio como de matrimonio en el conjunto de datos. Los modelos de Árbol de Decisión, Random Forest, SVM y KNN presentan resultados muy similares, con exactitud, precisión, recall y F1-score de 0.9804. Aunque estos modelos tienen una ligera disminución en el recall en comparación con la Regresión Logística, siguen siendo muy efectivos. La comparación destaca que todos los modelos seleccionados tienen un rendimiento alto, pero la Regresión Logística tiene una ventaja clara en este conjunto de datos específico.*\n",
        "\n"
      ]
    },
    {
      "cell_type": "markdown",
      "metadata": {
        "id": "gcLA5iQJTQta"
      },
      "source": [
        "#### **Grafico de Dispersion**\n",
        "Gráfico de Dispersión para la Relación entre Predicciones y Valores Reales con Random Forest"
      ]
    },
    {
      "cell_type": "code",
      "execution_count": null,
      "metadata": {
        "colab": {
          "base_uri": "https://localhost:8080/",
          "height": 565
        },
        "id": "bFwuU_lRTSe6",
        "outputId": "00428987-decd-4e40-fdd7-164724dcde91"
      },
      "outputs": [
        {
          "data": {
            "image/png": "[encoded data removed]",
            "text/plain": [
              "<Figure size 1000x600 with 1 Axes>"
            ]
          },
          "metadata": {},
          "output_type": "display_data"
        }
      ],
      "source": [
        "plt.figure(figsize=(10, 6))\n",
        "plt.scatter(y_test, y_pred_forest, alpha=0.3)\n",
        "plt.plot([0, 1], [0, 1], 'r--')\n",
        "plt.title('Relación entre Predicciones y Valores Reales - Random Forest')\n",
        "plt.xlabel('Valores Reales')\n",
        "plt.ylabel('Predicciones')\n",
        "plt.show()"
      ]
    },
    {
      "cell_type": "markdown",
      "metadata": {
        "id": "y48A0TGhBTJP"
      },
      "source": [
        "*El gráfico de dispersión ilustra la relación entre las predicciones del modelo de Random Forest y los valores reales de divorcio y matrimonio. Los puntos representan las predicciones realizadas por el modelo en comparación con los valores verdaderos, y la línea roja discontinua indica una coincidencia perfecta entre predicciones y valores reales.*\n",
        "\n",
        "*El gráfico muestra que el modelo de Random Forest predice con gran precisión, ya que la mayoría de los puntos están alineados con la línea roja discontinua, indicando que las predicciones coinciden casi perfectamente con los valores reales. La dispersión mínima de los puntos alrededor de la línea sugiere que el modelo está funcionando muy bien, con solo unas pocas discrepancias menores. Esto reafirma la capacidad del Random Forest para clasificar correctamente casi todas las instancias en el conjunto de prueba.*"
      ]
    },
    {
      "cell_type": "markdown",
      "metadata": {
        "id": "j4P0Av5129Yi"
      },
      "source": [
        "### **Conclusiones Generales**"
      ]
    },
    {
      "cell_type": "markdown",
      "metadata": {
        "id": "CCNd6JLm3WfL"
      },
      "source": [
        "El objetivo principal de este análisis fue predecir si una pareja se divorciará o no, utilizando un conjunto de preguntas (Q1 a Q54) que cubren diversos aspectos de la relación de pareja. Para ello, se probaron múltiples modelos de clasificación: Regresión Logística, Árbol de Decisión, Random Forest, SVM y K-Nearest Neighbors (KNN). A continuación, se resumen los resultados clave derivados del análisis:\n",
        "\n",
        "#### **Regresión Logística:**\n",
        "Este modelo sobresalió en todas las métricas (exactitud, precisión, recall y F1-score), alcanzando un rendimiento perfecto (1.0000) en la clasificación del estado de las relaciones matrimoniales. No cometió errores en las predicciones, lo que lo convierte en el modelo más adecuado para este conjunto de datos. Este resultado indica que el modelo es altamente eficiente para identificar tanto parejas divorciadas como casadas.\n",
        "\n",
        "#### **Árbol de Decisión, Random Forest, SVM y KNN:**\n",
        "Estos modelos mostraron un rendimiento muy similar entre ellos, con una exactitud de 0.9804, precisión perfecta (1.0000) y un ligero descenso en el recall (0.9615), lo que significa que solo una instancia fue clasificada incorrectamente. Aunque muy eficientes, presentan un margen de mejora en la capacidad de detectar todas las instancias positivas, específicamente en la clase \"casados\", donde hubo un pequeño error en la clasificación.\n",
        "\n",
        "#### **Optimización del Árbol de Decisión:**\n",
        "Al ajustar los hiperparámetros del modelo de Árbol de Decisión, se observó una ligera reducción en su rendimiento. Esto sugiere que la optimización debe ser cuidadosa y puede requerir un ajuste más fino o probar otros métodos de optimización para mejorar la generalización sin sacrificar precisión.\n",
        "\n",
        "#### **Comparación de Modelos:**\n",
        "La comparación visual de las métricas clave mostró que la Regresión Logística fue el modelo más robusto, con un rendimiento perfecto en todos los aspectos. Los otros modelos, aunque muy competitivos, tienen un rendimiento ligeramente inferior, especialmente en la métrica de recall. Sin embargo, todos los modelos probados demostraron ser efectivos, con resultados consistentes."
      ]
    },
    {
      "cell_type": "markdown",
      "metadata": {
        "id": "0Qc6Jcu33AA7"
      },
      "source": [
        "### **Recomendaciones**"
      ]
    },
    {
      "cell_type": "markdown",
      "metadata": {
        "id": "G4DrzHqq4yQp"
      },
      "source": [
        "Después de llevar a cabo un análisis exhaustivo utilizando técnicas de aprendizaje supervisado en el dataset proporcionado, hemos obtenido valiosos insights sobre la capacidad de los modelos para clasificar el estado de las relaciones matrimoniales. A continuación, se presentan recomendaciones específicas basadas en los resultados obtenidos, con el objetivo de optimizar el rendimiento del modelo y asegurar su robustez y capacidad de generalización en aplicaciones del mundo real.\n",
        "\n",
        "* **Consolidar la Regresión Logística como el Modelo Principal:**\n",
        "Utilizar la Regresión Logística como el modelo principal debido a su rendimiento destacado en el conjunto de datos actual. La Regresión Logística ha demostrado un rendimiento perfecto en la clasificación de relaciones matrimoniales, con métricas de precisión, recall y F1-score óptimas. Su simplicidad y eficiencia hacen que sea una elección confiable para este problema.\n",
        "\n",
        "* **Optimización:** La optimización del Árbol de Decisión no mejoró el rendimiento en comparación con el modelo original, lo que sugiere que puede ser necesario explorar otras configuraciones o modelos si se busca mejorar aún más.\n",
        "\n",
        "* **Análisis de Errores:** Realizar un análisis de errores detallado para identificar patrones en las instancias que los modelos están clasificando incorrectamente. Este análisis puede proporcionar información valiosa sobre las características que podrían estar influyendo en las predicciones incorrectas y guiar futuras mejoras en el modelo.\n",
        "\n",
        "* **Recolección de Datos Adicionales:** Considerar la inclusión de características adicionales que puedan proporcionar más información sobre la dinámica de las relaciones y mejorar el rendimiento del modelo. Más datos pueden ayudar a capturar patrones más complejos y mejorar la generalización del modelo.\n",
        "\n",
        "* **Evaluación Continua:** Continuar evaluando y actualizando el modelo con nuevos datos a medida que se vuelve disponible. El rendimiento del modelo puede variar con el tiempo y con datos nuevos, por lo que una revisión continua y ajustes periódicos pueden ser necesarios para mantener la precisión y relevancia del modelo."
      ]
    }
  ],
  "metadata": {
    "colab": {
      "provenance": []
    },
    "kernelspec": {
      "display_name": "Python 3",
      "name": "python3"
    },
    "language_info": {
      "name": "python"
    }
  },
  "nbformat": 4,
  "nbformat_minor": 0
}
